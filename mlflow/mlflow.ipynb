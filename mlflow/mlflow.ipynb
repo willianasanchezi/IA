{
 "cells": [
  {
   "cell_type": "code",
   "execution_count": 1,
   "id": "67da04de-491f-4a0a-ab37-6d4ffe836ebe",
   "metadata": {},
   "outputs": [],
   "source": [
    "import mlflow\n",
    "import mlflow.sklearn\n",
    "from sklearn.linear_model import LinearRegression\n",
    "from sklearn.model_selection import train_test_split\n",
    "from sklearn.metrics import mean_squared_error\n",
    "import numpy as np"
   ]
  },
  {
   "cell_type": "code",
   "execution_count": 2,
   "id": "02fcc943-cd79-4f80-a10a-76c36ff699f6",
   "metadata": {},
   "outputs": [],
   "source": [
    "# Datos de ejemplo: y = 2x + 1 + ruido\n",
    "np.random.seed(42)\n",
    "X = np.random.rand(100, 1)\n",
    "y = 2 * X + 1 + 0.1 * np.random.randn(100, 1)"
   ]
  },
  {
   "cell_type": "code",
   "execution_count": 3,
   "id": "29a658f9-3003-46ad-957c-4407ee34b218",
   "metadata": {},
   "outputs": [],
   "source": [
    "X_train, X_test, y_train, y_test = train_test_split(X, y, test_size=0.2, random_state=42)"
   ]
  },
  {
   "cell_type": "code",
   "execution_count": 4,
   "id": "23d1b862-f191-4062-aa01-ec9a4d821692",
   "metadata": {},
   "outputs": [
    {
     "data": {
      "text/plain": [
       "<Experiment: artifact_location='file:///home/wsanchez/Scripting/ML/mlflow/mlruns/458904194068289032', creation_time=1739584520580, experiment_id='458904194068289032', last_update_time=1739584520580, lifecycle_stage='active', name='Mi Primer Experimento con MLflow', tags={}>"
      ]
     },
     "execution_count": 4,
     "metadata": {},
     "output_type": "execute_result"
    }
   ],
   "source": [
    "# Nombre del experimento\n",
    "mlflow.set_experiment(\"Mi Primer Experimento con MLflow\")"
   ]
  },
  {
   "cell_type": "code",
   "execution_count": 5,
   "id": "9e1ac64a-684b-4127-8b8f-30ac05b4a33c",
   "metadata": {},
   "outputs": [
    {
     "name": "stderr",
     "output_type": "stream",
     "text": [
      "\u001b[31m2025/02/15 09:06:10 WARNING mlflow.models.model: Model logged without a signature and input example. Please set `input_example` parameter when logging the model to auto infer the model signature.\u001b[0m\n"
     ]
    },
    {
     "name": "stdout",
     "output_type": "stream",
     "text": [
      "Modelo entrenado. MSE: 0.006536995137170029\n"
     ]
    }
   ],
   "source": [
    "with mlflow.start_run():\n",
    "    # Parámetros del modelo\n",
    "    model = LinearRegression()\n",
    "    \n",
    "    # Entrenar el modelo\n",
    "    model.fit(X_train, y_train)\n",
    "    \n",
    "    # Predecir en el conjunto de prueba\n",
    "    y_pred = model.predict(X_test)\n",
    "    \n",
    "    # Calcular métricas\n",
    "    mse = mean_squared_error(y_test, y_pred)\n",
    "    \n",
    "    # Registrar parámetros y métricas\n",
    "    mlflow.log_param(\"modelo\", \"Regresión Lineal\")\n",
    "    mlflow.log_metric(\"MSE\", mse)\n",
    "    \n",
    "    # Guardar el modelo\n",
    "    mlflow.sklearn.log_model(model, \"modelo_regresion_lineal\")\n",
    "    \n",
    "    print(f\"Modelo entrenado. MSE: {mse}\")"
   ]
  },
  {
   "cell_type": "code",
   "execution_count": 6,
   "id": "1a711e7f-c0c2-4ff6-9d7e-e8468c6cd968",
   "metadata": {},
   "outputs": [],
   "source": [
    "#!mlflow ui"
   ]
  },
  {
   "cell_type": "code",
   "execution_count": 7,
   "id": "e89ebf95-83c8-4b6c-9cb0-f82519a3f9b8",
   "metadata": {
    "scrolled": true
   },
   "outputs": [
    {
     "name": "stdout",
     "output_type": "stream",
     "text": [
      "Predicción para 0.5: 1.9942236976938843\n"
     ]
    }
   ],
   "source": [
    "# Cargar el modelo desde MLflow\n",
    "#modelo_cargado = mlflow.sklearn.load_model(\"runs:/<RUN_ID>/modelo_regresion_lineal\")\n",
    "modelo_cargado = mlflow.sklearn.load_model(\"runs:/994c7268413b47249837fa8d9c19a2df/modelo_regresion_lineal\")\n",
    "# Hacer una predicción\n",
    "nuevo_dato = np.array([[0.5]])\n",
    "prediccion = modelo_cargado.predict(nuevo_dato)\n",
    "print(f\"Predicción para {nuevo_dato[0][0]}: {prediccion[0][0]}\")"
   ]
  },
  {
   "cell_type": "code",
   "execution_count": null,
   "id": "cab9ac36-230b-497f-a7d2-915dd7a3fda9",
   "metadata": {},
   "outputs": [],
   "source": []
  }
 ],
 "metadata": {
  "kernelspec": {
   "display_name": "Python 3 (ipykernel)",
   "language": "python",
   "name": "python3"
  },
  "language_info": {
   "codemirror_mode": {
    "name": "ipython",
    "version": 3
   },
   "file_extension": ".py",
   "mimetype": "text/x-python",
   "name": "python",
   "nbconvert_exporter": "python",
   "pygments_lexer": "ipython3",
   "version": "3.13.2"
  }
 },
 "nbformat": 4,
 "nbformat_minor": 5
}
