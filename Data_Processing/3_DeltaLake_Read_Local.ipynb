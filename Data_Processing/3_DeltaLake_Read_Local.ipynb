{
 "cells": [
  {
   "cell_type": "code",
   "execution_count": 1,
   "id": "a410c119-c947-48a8-b3d1-c8669404b7ab",
   "metadata": {},
   "outputs": [],
   "source": [
    "#spark.stop()  # Stop the existing session"
   ]
  },
  {
   "cell_type": "code",
   "execution_count": 2,
   "id": "481eafcf-a161-4361-a3da-0ca423994ae2",
   "metadata": {},
   "outputs": [],
   "source": [
    "#!pip install pyspark\n",
    "#!pip install matplotlib\n",
    "#!pip install pandas\n",
    "#!pip install plotly\n",
    "#!pip install delta-spark==3.1.0"
   ]
  },
  {
   "cell_type": "code",
   "execution_count": 3,
   "id": "f8f17b95-48fb-4cfc-9e46-36d71cf248e5",
   "metadata": {},
   "outputs": [],
   "source": [
    "import time\n",
    "start_time = time.time()"
   ]
  },
  {
   "cell_type": "code",
   "execution_count": 4,
   "id": "d9c85224-10a8-4ac0-816f-5a202764e422",
   "metadata": {},
   "outputs": [],
   "source": [
    "import pyspark\n",
    "\n",
    "from pyspark.sql import SparkSession\n",
    "from pyspark.sql.functions import desc\n",
    "from pyspark.sql.functions import count\n",
    "from delta import *\n",
    "import logging"
   ]
  },
  {
   "cell_type": "code",
   "execution_count": 5,
   "id": "5ead187f-f2a4-4709-86c9-e3a1955ad6af",
   "metadata": {},
   "outputs": [
    {
     "name": "stdout",
     "output_type": "stream",
     "text": [
      ":: loading settings :: url = jar:file:/home/app/_entornosvirtuales/apachespark/lib/python3.12/site-packages/pyspark/jars/ivy-2.5.1.jar!/org/apache/ivy/core/settings/ivysettings.xml\n"
     ]
    },
    {
     "name": "stderr",
     "output_type": "stream",
     "text": [
      "Ivy Default Cache set to: /home/wsanchez/.ivy2/cache\n",
      "The jars for the packages stored in: /home/wsanchez/.ivy2/jars\n",
      "io.delta#delta-spark_2.12 added as a dependency\n",
      ":: resolving dependencies :: org.apache.spark#spark-submit-parent-66b1482d-09ca-49b0-b96f-aa22d77f01d9;1.0\n",
      "\tconfs: [default]\n",
      "\tfound io.delta#delta-spark_2.12;3.1.0 in central\n",
      "\tfound io.delta#delta-storage;3.1.0 in central\n",
      "\tfound org.antlr#antlr4-runtime;4.9.3 in central\n",
      ":: resolution report :: resolve 336ms :: artifacts dl 18ms\n",
      "\t:: modules in use:\n",
      "\tio.delta#delta-spark_2.12;3.1.0 from central in [default]\n",
      "\tio.delta#delta-storage;3.1.0 from central in [default]\n",
      "\torg.antlr#antlr4-runtime;4.9.3 from central in [default]\n",
      "\t---------------------------------------------------------------------\n",
      "\t|                  |            modules            ||   artifacts   |\n",
      "\t|       conf       | number| search|dwnlded|evicted|| number|dwnlded|\n",
      "\t---------------------------------------------------------------------\n",
      "\t|      default     |   3   |   0   |   0   |   0   ||   3   |   0   |\n",
      "\t---------------------------------------------------------------------\n",
      ":: retrieving :: org.apache.spark#spark-submit-parent-66b1482d-09ca-49b0-b96f-aa22d77f01d9\n",
      "\tconfs: [default]\n",
      "\t0 artifacts copied, 3 already retrieved (0kB/7ms)\n",
      "24/03/23 14:14:56 WARN NativeCodeLoader: Unable to load native-hadoop library for your platform... using builtin-java classes where applicable\n",
      "Setting default log level to \"WARN\".\n",
      "To adjust logging level use sc.setLogLevel(newLevel). For SparkR, use setLogLevel(newLevel).\n"
     ]
    }
   ],
   "source": [
    "builder = pyspark.sql.SparkSession.builder.appName(\"MyApp\") \\\n",
    "    .config(\"spark.sql.extensions\", \"io.delta.sql.DeltaSparkSessionExtension\") \\\n",
    "    .config(\"spark.sql.catalog.spark_catalog\", \"org.apache.spark.sql.delta.catalog.DeltaCatalog\")\n",
    "\n",
    "spark = configure_spark_with_delta_pip(builder).getOrCreate()"
   ]
  },
  {
   "cell_type": "code",
   "execution_count": 6,
   "id": "f92f640c-d875-4c34-8bc3-247210f5ccb1",
   "metadata": {},
   "outputs": [],
   "source": [
    "ruta01deltalake01 = \"/home/app/datalake/1bronze/SECOPIIProcesosContratacion\""
   ]
  },
  {
   "cell_type": "code",
   "execution_count": 7,
   "id": "81c4a576-44ae-4a6b-ace5-80e8529c25f5",
   "metadata": {},
   "outputs": [
    {
     "name": "stderr",
     "output_type": "stream",
     "text": [
      "                                                                                \r"
     ]
    }
   ],
   "source": [
    "data01 = spark.read.format(\"delta\").load(ruta01deltalake01)"
   ]
  },
  {
   "cell_type": "code",
   "execution_count": 8,
   "id": "d891e0ef-75ef-487e-8c1a-f0e315e6d4b2",
   "metadata": {},
   "outputs": [
    {
     "name": "stderr",
     "output_type": "stream",
     "text": [
      "24/03/23 14:15:10 WARN SparkStringUtils: Truncated the string representation of a plan since it was too large. This behavior can be adjusted by setting 'spark.sql.debug.maxToStringFields'.\n",
      "                                                                                \r"
     ]
    },
    {
     "data": {
      "text/plain": [
       "6434461"
      ]
     },
     "execution_count": 8,
     "metadata": {},
     "output_type": "execute_result"
    }
   ],
   "source": [
    "data01.count()"
   ]
  },
  {
   "cell_type": "code",
   "execution_count": 9,
   "id": "4652958d-7d2f-4fe8-8ac2-e615595f85a1",
   "metadata": {
    "scrolled": true
   },
   "outputs": [
    {
     "name": "stdout",
     "output_type": "stream",
     "text": [
      "root\n",
      " |-- Entidad: string (nullable = true)\n",
      " |-- NitEntidad: string (nullable = true)\n",
      " |-- DepartamentoEntidad: string (nullable = true)\n",
      " |-- CiudadEntidad: string (nullable = true)\n",
      " |-- OrdenEntidad: string (nullable = true)\n",
      " |-- EntidadCentralizada: string (nullable = true)\n",
      " |-- IDdelProceso: string (nullable = true)\n",
      " |-- ReferenciadelProceso: string (nullable = true)\n",
      " |-- PCI: string (nullable = true)\n",
      " |-- IDdelPortafolio: string (nullable = true)\n",
      " |-- NombredelProcedimiento: string (nullable = true)\n",
      " |-- DescripciondelProcedimiento: string (nullable = true)\n",
      " |-- Fase: string (nullable = true)\n",
      " |-- FechadePublicaciondelProceso: string (nullable = true)\n",
      " |-- FechadeUltimaPublicacion: string (nullable = true)\n",
      " |-- FechadePubFasePlanPreca: string (nullable = true)\n",
      " |-- FechadePubFaseSelePreca: string (nullable = true)\n",
      " |-- FechadePubManifdeInt: string (nullable = true)\n",
      " |-- FechadePublicacionFaseBorrador: string (nullable = true)\n",
      " |-- FechadePublicacionFaseSeleccion: string (nullable = true)\n",
      " |-- PrecioBase: string (nullable = true)\n",
      " |-- ModalidaddeContratacion: string (nullable = true)\n",
      " |-- JustificacionModalidaddeContratacion: string (nullable = true)\n",
      " |-- Duracion: string (nullable = true)\n",
      " |-- UnidaddeDuracion: string (nullable = true)\n",
      " |-- FechadeRecepciondeRespuestas: string (nullable = true)\n",
      " |-- FechadeAperturadeRespuesta: string (nullable = true)\n",
      " |-- FechadeAperturaEfectiva: string (nullable = true)\n",
      " |-- CiudaddelaUnidaddeContratacion: string (nullable = true)\n",
      " |-- NombredelaUnidaddeContratacion: string (nullable = true)\n",
      " |-- ProveedoresInvitados: string (nullable = true)\n",
      " |-- ProveedoresconInvitacionDirecta: string (nullable = true)\n",
      " |-- VisualizacionesdelProcedimiento: string (nullable = true)\n",
      " |-- ProveedoresqueManifestaronInteres: string (nullable = true)\n",
      " |-- RespuestasalProcedimiento: string (nullable = true)\n",
      " |-- RespuestasExternas: string (nullable = true)\n",
      " |-- ConteodeRespuestasaOfertas: string (nullable = true)\n",
      " |-- ProveedoresUnicosconRespuestas: string (nullable = true)\n",
      " |-- NumerodeLotes: string (nullable = true)\n",
      " |-- EstadodelProcedimiento: string (nullable = true)\n",
      " |-- IDEstadodelProcedimiento: string (nullable = true)\n",
      " |-- Adjudicado: string (nullable = true)\n",
      " |-- IDAdjudicacion: string (nullable = true)\n",
      " |-- CodigoProveedor: string (nullable = true)\n",
      " |-- DepartamentoProveedor: string (nullable = true)\n",
      " |-- CiudadProveedor: string (nullable = true)\n",
      " |-- FechaAdjudicacion: string (nullable = true)\n",
      " |-- ValorTotalAdjudicacion: string (nullable = true)\n",
      " |-- NombredelAdjudicador: string (nullable = true)\n",
      " |-- NombredelProveedorAdjudicado: string (nullable = true)\n",
      " |-- NITdelProveedorAdjudicado: string (nullable = true)\n",
      " |-- CodigoPrincipaldeCategoria: string (nullable = true)\n",
      " |-- EstadodeAperturadelProceso: string (nullable = true)\n",
      " |-- TipodeContrato: string (nullable = true)\n",
      " |-- SubtipodeContrato: string (nullable = true)\n",
      " |-- CategoriasAdicionales: string (nullable = true)\n",
      " |-- URLProceso: string (nullable = true)\n",
      " |-- CodigoEntidad: string (nullable = true)\n",
      " |-- EstadoResumen: string (nullable = true)\n",
      "\n"
     ]
    }
   ],
   "source": [
    "data01.printSchema()"
   ]
  },
  {
   "cell_type": "code",
   "execution_count": 10,
   "id": "218afcb5-5704-4535-9bc7-0fd65500e398",
   "metadata": {},
   "outputs": [
    {
     "name": "stderr",
     "output_type": "stream",
     "text": [
      "                                                                                \r"
     ]
    },
    {
     "data": {
      "text/plain": [
       "293"
      ]
     },
     "execution_count": 10,
     "metadata": {},
     "output_type": "execute_result"
    }
   ],
   "source": [
    "numeroTiposContrato = data01.select(\"TipodeContrato\").distinct().count()\n",
    "\n",
    "# Muestra el número de tipos de contrato\n",
    "numeroTiposContrato"
   ]
  },
  {
   "cell_type": "code",
   "execution_count": 11,
   "id": "5039c8e6-e84c-4e5a-83ab-f6c85f97c5ac",
   "metadata": {
    "scrolled": true
   },
   "outputs": [
    {
     "name": "stderr",
     "output_type": "stream",
     "text": [
      "[Stage 22:====================================================>   (13 + 1) / 14]\r"
     ]
    },
    {
     "name": "stdout",
     "output_type": "stream",
     "text": [
      "+----------------------------------------------------------------------------------------------------------------------------------------------------------------------------------------------------------------------------------------------------------------------+-------+\n",
      "|TipodeContrato                                                                                                                                                                                                                                                        |count  |\n",
      "+----------------------------------------------------------------------------------------------------------------------------------------------------------------------------------------------------------------------------------------------------------------------+-------+\n",
      "|Prestación de servicios                                                                                                                                                                                                                                               |3078131|\n",
      "|NULL                                                                                                                                                                                                                                                                  |1514017|\n",
      "|Decreto 092 de 2017                                                                                                                                                                                                                                                   |519652 |\n",
      "|Suministros                                                                                                                                                                                                                                                           |403405 |\n",
      "|Otro                                                                                                                                                                                                                                                                  |233554 |\n",
      "|Compraventa                                                                                                                                                                                                                                                           |230974 |\n",
      "|Acuerdo Marco de Precios                                                                                                                                                                                                                                              |159927 |\n",
      "|No                                                                                                                                                                                                                                                                    |91964  |\n",
      "|Obra                                                                                                                                                                                                                                                                  |82271  |\n",
      "|Arrendamiento de inmuebles                                                                                                                                                                                                                                            |30273  |\n",
      "|Interventoría                                                                                                                                                                                                                                                         |20095  |\n",
      "|Consultoría                                                                                                                                                                                                                                                           |16725  |\n",
      "|Seguros                                                                                                                                                                                                                                                               |16706  |\n",
      "|No Especificado                                                                                                                                                                                                                                                       |12479  |\n",
      "|Comodato                                                                                                                                                                                                                                                              |8959   |\n",
      "|Arrendamiento de muebles                                                                                                                                                                                                                                              |4545   |\n",
      "|Venta muebles                                                                                                                                                                                                                                                         |2831   |\n",
      "|Servicios financieros                                                                                                                                                                                                                                                 |2512   |\n",
      "|Concesión                                                                                                                                                                                                                                                             |1297   |\n",
      "|Asociación Público Privada                                                                                                                                                                                                                                            |1135   |\n",
      "|Operaciones de Crédito Público                                                                                                                                                                                                                                        |823    |\n",
      "|Negocio fiduciario                                                                                                                                                                                                                                                    |497    |\n",
      "|Adjudicado                                                                                                                                                                                                                                                            |353    |\n",
      "|Venta inmuebles                                                                                                                                                                                                                                                       |271    |\n",
      "|Comisión                                                                                                                                                                                                                                                              |246    |\n",
      "|Presentación de oferta                                                                                                                                                                                                                                                |173    |\n",
      "|No Definido                                                                                                                                                                                                                                                           |76     |\n",
      "|No definido                                                                                                                                                                                                                                                           |65     |\n",
      "|Acuerdo de cooperación                                                                                                                                                                                                                                                |31     |\n",
      "|Cerrado                                                                                                                                                                                                                                                               |30     |\n",
      "|Abierto                                                                                                                                                                                                                                                               |25     |\n",
      "|701110272                                                                                                                                                                                                                                                             |19     |\n",
      "|700961014                                                                                                                                                                                                                                                             |16     |\n",
      "|Fase de ofertas                                                                                                                                                                                                                                                       |14     |\n",
      "|700583222                                                                                                                                                                                                                                                             |10     |\n",
      "|700660012                                                                                                                                                                                                                                                             |10     |\n",
      "|703964197                                                                                                                                                                                                                                                             |10     |\n",
      "|Presentación de observaciones                                                                                                                                                                                                                                         |9      |\n",
      "|700859218                                                                                                                                                                                                                                                             |5      |\n",
      "|https://community.secop.gov.co/Public/Tendering/OpportunityDetail/Index?noticeUID=CO1.NTC.1368521                                                                                                                                                                     |5      |\n",
      "|Empréstito                                                                                                                                                                                                                                                            |5      |\n",
      "|700447030                                                                                                                                                                                                                                                             |5      |\n",
      "|0                                                                                                                                                                                                                                                                     |5      |\n",
      "|Manifestación de interés (Menor Cuantía)                                                                                                                                                                                                                              |5      |\n",
      "|702561986                                                                                                                                                                                                                                                             |4      |\n",
      "|703187666                                                                                                                                                                                                                                                             |4      |\n",
      "|700861115                                                                                                                                                                                                                                                             |4      |\n",
      "|706459542                                                                                                                                                                                                                                                             |3      |\n",
      "|706099488                                                                                                                                                                                                                                                             |3      |\n",
      "|701798407                                                                                                                                                                                                                                                             |3      |\n",
      "|702066010                                                                                                                                                                                                                                                             |3      |\n",
      "|714490042                                                                                                                                                                                                                                                             |3      |\n",
      "|701128084                                                                                                                                                                                                                                                             |3      |\n",
      "|704242254                                                                                                                                                                                                                                                             |3      |\n",
      "|No Adjudicado                                                                                                                                                                                                                                                         |3      |\n",
      "|703821967                                                                                                                                                                                                                                                             |3      |\n",
      "|https://community.secop.gov.co/STS/Users/Login/Index                                                                                                                                                                                                                  |3      |\n",
      "|702861493                                                                                                                                                                                                                                                             |2      |\n",
      "|706520657                                                                                                                                                                                                                                                             |2      |\n",
      "|700578032                                                                                                                                                                                                                                                             |2      |\n",
      "|700341043                                                                                                                                                                                                                                                             |2      |\n",
      "|700554082                                                                                                                                                                                                                                                             |2      |\n",
      "|702349549                                                                                                                                                                                                                                                             |2      |\n",
      "|717864078                                                                                                                                                                                                                                                             |2      |\n",
      "|700474109                                                                                                                                                                                                                                                             |2      |\n",
      "|700612096                                                                                                                                                                                                                                                             |2      |\n",
      "|700898067                                                                                                                                                                                                                                                             |2      |\n",
      "|702066127                                                                                                                                                                                                                                                             |2      |\n",
      "|https://community.secop.gov.co/Public/Tendering/OpportunityDetail/Index?noticeUID=CO1.NTC.5504623                                                                                                                                                                     |2      |\n",
      "|https://community.secop.gov.co/Public/Tendering/OpportunityDetail/Index?noticeUID=CO1.NTC.5575211                                                                                                                                                                     |2      |\n",
      "|704259860                                                                                                                                                                                                                                                             |2      |\n",
      "|702475393                                                                                                                                                                                                                                                             |2      |\n",
      "|702217274                                                                                                                                                                                                                                                             |2      |\n",
      "|700694045                                                                                                                                                                                                                                                             |2      |\n",
      "|V1.80111600                                                                                                                                                                                                                                                           |2      |\n",
      "|700698038                                                                                                                                                                                                                                                             |2      |\n",
      "|700358047                                                                                                                                                                                                                                                             |2      |\n",
      "|V1.80111620                                                                                                                                                                                                                                                           |2      |\n",
      "|718403306                                                                                                                                                                                                                                                             |2      |\n",
      "|702166190                                                                                                                                                                                                                                                             |2      |\n",
      "|https://community.secop.gov.co/Public/Tendering/OpportunityDetail/Index?noticeUID=CO1.NTC.343907                                                                                                                                                                      |1      |\n",
      "|https://community.secop.gov.co/Public/Tendering/OpportunityDetail/Index?noticeUID=CO1.NTC.4531976                                                                                                                                                                     |1      |\n",
      "|701551798                                                                                                                                                                                                                                                             |1      |\n",
      "|https://community.secop.gov.co/Public/Tendering/OpportunityDetail/Index?noticeUID=CO1.NTC.4049854                                                                                                                                                                     |1      |\n",
      "|718713191                                                                                                                                                                                                                                                             |1      |\n",
      "|701321135                                                                                                                                                                                                                                                             |1      |\n",
      "|https://community.secop.gov.co/Public/Tendering/OpportunityDetail/Index?noticeUID=CO1.NTC.2132603                                                                                                                                                                     |1      |\n",
      "|https://community.secop.gov.co/Public/Tendering/OpportunityDetail/Index?noticeUID=CO1.NTC.1419680                                                                                                                                                                     |1      |\n",
      "|703038141                                                                                                                                                                                                                                                             |1      |\n",
      "|https://community.secop.gov.co/Public/Tendering/OpportunityDetail/Index?noticeUID=CO1.NTC.4805143                                                                                                                                                                     |1      |\n",
      "|702832809                                                                                                                                                                                                                                                             |1      |\n",
      "|701240111                                                                                                                                                                                                                                                             |1      |\n",
      "|https://community.secop.gov.co/Public/Tendering/OpportunityDetail/Index?noticeUID=CO1.NTC.1933623                                                                                                                                                                     |1      |\n",
      "|https://community.secop.gov.co/Public/Tendering/OpportunityDetail/Index?noticeUID=CO1.NTC.5447354                                                                                                                                                                     |1      |\n",
      "|https://community.secop.gov.co/Public/Tendering/OpportunityDetail/Index?noticeUID=CO1.NTC.319480                                                                                                                                                                      |1      |\n",
      "|705283463                                                                                                                                                                                                                                                             |1      |\n",
      "|https://community.secop.gov.co/Public/Tendering/OpportunityDetail/Index?noticeUID=CO1.NTC.5036059                                                                                                                                                                     |1      |\n",
      "|701117632                                                                                                                                                                                                                                                             |1      |\n",
      "|https://community.secop.gov.co/Public/Tendering/OpportunityDetail/Index?noticeUID=CO1.NTC.4817902                                                                                                                                                                     |1      |\n",
      "|701427445                                                                                                                                                                                                                                                             |1      |\n",
      "|718959067                                                                                                                                                                                                                                                             |1      |\n",
      "|https://community.secop.gov.co/Public/Tendering/OpportunityDetail/Index?noticeUID=CO1.NTC.25902                                                                                                                                                                       |1      |\n",
      "|702375551                                                                                                                                                                                                                                                             |1      |\n",
      "|https://community.secop.gov.co/Public/Tendering/OpportunityDetail/Index?noticeUID=CO1.NTC.2793071                                                                                                                                                                     |1      |\n",
      "|704161728                                                                                                                                                                                                                                                             |1      |\n",
      "|https://community.secop.gov.co/Public/Tendering/OpportunityDetail/Index?noticeUID=CO1.NTC.4704271                                                                                                                                                                     |1      |\n",
      "|719445579                                                                                                                                                                                                                                                             |1      |\n",
      "|https://community.secop.gov.co/Public/Tendering/OpportunityDetail/Index?noticeUID=CO1.NTC.2759096                                                                                                                                                                     |1      |\n",
      "|https://community.secop.gov.co/Public/Tendering/OpportunityDetail/Index?noticeUID=CO1.NTC.601025                                                                                                                                                                      |1      |\n",
      "|718662380                                                                                                                                                                                                                                                             |1      |\n",
      "|https://community.secop.gov.co/Public/Tendering/OpportunityDetail/Index?noticeUID=CO1.NTC.2292565                                                                                                                                                                     |1      |\n",
      "|https://community.secop.gov.co/Public/Tendering/OpportunityDetail/Index?noticeUID=CO1.NTC.3395719                                                                                                                                                                     |1      |\n",
      "|700771157                                                                                                                                                                                                                                                             |1      |\n",
      "|https://community.secop.gov.co/Public/Tendering/OpportunityDetail/Index?noticeUID=CO1.NTC.311962                                                                                                                                                                      |1      |\n",
      "|https://community.secop.gov.co/Public/Tendering/OpportunityDetail/Index?noticeUID=CO1.NTC.4429715                                                                                                                                                                     |1      |\n",
      "|700230014                                                                                                                                                                                                                                                             |1      |\n",
      "|https://community.secop.gov.co/Public/Tendering/OpportunityDetail/Index?noticeUID=CO1.NTC.4612500                                                                                                                                                                     |1      |\n",
      "|https://community.secop.gov.co/Public/Tendering/OpportunityDetail/Index?noticeUID=CO1.NTC.4322612                                                                                                                                                                     |1      |\n",
      "|https://community.secop.gov.co/Public/Tendering/OpportunityDetail/Index?noticeUID=CO1.NTC.4332021                                                                                                                                                                     |1      |\n",
      "|https://community.secop.gov.co/Public/Tendering/OpportunityDetail/Index?noticeUID=CO1.NTC.2485602                                                                                                                                                                     |1      |\n",
      "|https://community.secop.gov.co/Public/Tendering/OpportunityDetail/Index?noticeUID=CO1.NTC.4817807                                                                                                                                                                     |1      |\n",
      "|https://community.secop.gov.co/Public/Tendering/OpportunityDetail/Index?noticeUID=CO1.NTC.4317671                                                                                                                                                                     |1      |\n",
      "|Selección de ofertas (borrador)                                                                                                                                                                                                                                       |1      |\n",
      "|https://community.secop.gov.co/Public/Tendering/OpportunityDetail/Index?noticeUID=CO1.NTC.5822034                                                                                                                                                                     |1      |\n",
      "|https://community.secop.gov.co/Public/Tendering/OpportunityDetail/Index?noticeUID=CO1.NTC.1047863                                                                                                                                                                     |1      |\n",
      "|702231408                                                                                                                                                                                                                                                             |1      |\n",
      "|https://community.secop.gov.co/Public/Tendering/OpportunityDetail/Index?noticeUID=CO1.NTC.1893266                                                                                                                                                                     |1      |\n",
      "|700877046                                                                                                                                                                                                                                                             |1      |\n",
      "|https://community.secop.gov.co/Public/Tendering/OpportunityDetail/Index?noticeUID=CO1.NTC.4423358                                                                                                                                                                     |1      |\n",
      "|https://community.secop.gov.co/Public/Tendering/OpportunityDetail/Index?noticeUID=CO1.NTC.4065850                                                                                                                                                                     |1      |\n",
      "|https://community.secop.gov.co/Public/Tendering/OpportunityDetail/Index?noticeUID=CO1.NTC.4451462                                                                                                                                                                     |1      |\n",
      "|https://community.secop.gov.co/Public/Tendering/OpportunityDetail/Index?noticeUID=CO1.NTC.4051884                                                                                                                                                                     |1      |\n",
      "|701699407                                                                                                                                                                                                                                                             |1      |\n",
      "|702541384                                                                                                                                                                                                                                                             |1      |\n",
      "|https://community.secop.gov.co/Public/Tendering/OpportunityDetail/Index?noticeUID=CO1.NTC.4172815                                                                                                                                                                     |1      |\n",
      "|https://community.secop.gov.co/Public/Tendering/OpportunityDetail/Index?noticeUID=CO1.NTC.617146                                                                                                                                                                      |1      |\n",
      "|https://community.secop.gov.co/Public/Tendering/OpportunityDetail/Index?noticeUID=CO1.NTC.4818005                                                                                                                                                                     |1      |\n",
      "|718267065                                                                                                                                                                                                                                                             |1      |\n",
      "|V1.55121714                                                                                                                                                                                                                                                           |1      |\n",
      "|702280165                                                                                                                                                                                                                                                             |1      |\n",
      "|V142201700, V142201701, V142201702, V142201703, V142201704, V142201705, V142201706, V142201709, V142201712, V142201713, V142201715, V142201800, V180111709, V185101500, V185101502, V185101503, V185101600, V185101604, V185101700, V185101706, V185121500, V185121700|1      |\n",
      "|https://community.secop.gov.co/Public/Tendering/OpportunityDetail/Index?noticeUID=CO1.NTC.3360087                                                                                                                                                                     |1      |\n",
      "|V172121406                                                                                                                                                                                                                                                            |1      |\n",
      "|https://community.secop.gov.co/Public/Tendering/OpportunityDetail/Index?noticeUID=CO1.NTC.2774745                                                                                                                                                                     |1      |\n",
      "|https://community.secop.gov.co/Public/Tendering/OpportunityDetail/Index?noticeUID=CO1.NTC.2189051                                                                                                                                                                     |1      |\n",
      "|https://community.secop.gov.co/Public/Tendering/OpportunityDetail/Index?noticeUID=CO1.NTC.4725524                                                                                                                                                                     |1      |\n",
      "|https://community.secop.gov.co/Public/Tendering/OpportunityDetail/Index?noticeUID=CO1.NTC.3766189                                                                                                                                                                     |1      |\n",
      "|https://community.secop.gov.co/Public/Tendering/OpportunityDetail/Index?noticeUID=CO1.NTC.623668                                                                                                                                                                      |1      |\n",
      "|700763170                                                                                                                                                                                                                                                             |1      |\n",
      "|V185121500, V185121700                                                                                                                                                                                                                                                |1      |\n",
      "|https://community.secop.gov.co/Public/Tendering/OpportunityDetail/Index?noticeUID=CO1.NTC.4007861                                                                                                                                                                     |1      |\n",
      "|702964248                                                                                                                                                                                                                                                             |1      |\n",
      "|719285249                                                                                                                                                                                                                                                             |1      |\n",
      "|718662083                                                                                                                                                                                                                                                             |1      |\n",
      "|https://community.secop.gov.co/Public/Tendering/OpportunityDetail/Index?noticeUID=CO1.NTC.5365809                                                                                                                                                                     |1      |\n",
      "|709521884                                                                                                                                                                                                                                                             |1      |\n",
      "|V1.83101800                                                                                                                                                                                                                                                           |1      |\n",
      "|https://community.secop.gov.co/Public/Tendering/OpportunityDetail/Index?noticeUID=CO1.NTC.3281274                                                                                                                                                                     |1      |\n",
      "|https://community.secop.gov.co/Public/Tendering/OpportunityDetail/Index?noticeUID=CO1.NTC.873205                                                                                                                                                                      |1      |\n",
      "|700296015                                                                                                                                                                                                                                                             |1      |\n",
      "|https://community.secop.gov.co/Public/Tendering/OpportunityDetail/Index?noticeUID=CO1.NTC.2756591                                                                                                                                                                     |1      |\n",
      "|https://community.secop.gov.co/Public/Tendering/OpportunityDetail/Index?noticeUID=CO1.NTC.3783755                                                                                                                                                                     |1      |\n",
      "|https://community.secop.gov.co/Public/Tendering/OpportunityDetail/Index?noticeUID=CO1.NTC.1407933                                                                                                                                                                     |1      |\n",
      "|718708233                                                                                                                                                                                                                                                             |1      |\n",
      "|706129145                                                                                                                                                                                                                                                             |1      |\n",
      "|700817075                                                                                                                                                                                                                                                             |1      |\n",
      "|https://community.secop.gov.co/Public/Tendering/OpportunityDetail/Index?noticeUID=CO1.NTC.797327                                                                                                                                                                      |1      |\n",
      "|https://community.secop.gov.co/Public/Tendering/OpportunityDetail/Index?noticeUID=CO1.NTC.4499927                                                                                                                                                                     |1      |\n",
      "|702892266                                                                                                                                                                                                                                                             |1      |\n",
      "|https://community.secop.gov.co/Public/Tendering/OpportunityDetail/Index?noticeUID=CO1.NTC.2575931                                                                                                                                                                     |1      |\n",
      "|https://community.secop.gov.co/Public/Tendering/OpportunityDetail/Index?noticeUID=CO1.NTC.3718086                                                                                                                                                                     |1      |\n",
      "|https://community.secop.gov.co/Public/Tendering/OpportunityDetail/Index?noticeUID=CO1.NTC.4915778                                                                                                                                                                     |1      |\n",
      "|https://community.secop.gov.co/Public/Tendering/OpportunityDetail/Index?noticeUID=CO1.NTC.3753711                                                                                                                                                                     |1      |\n",
      "|V126131507, V141113708, V172141511, V172151500, V181101701, V183101806                                                                                                                                                                                                |1      |\n",
      "|https://community.secop.gov.co/Public/Tendering/OpportunityDetail/Index?noticeUID=CO1.NTC.5292144                                                                                                                                                                     |1      |\n",
      "|702858424                                                                                                                                                                                                                                                             |1      |\n",
      "|https://community.secop.gov.co/Public/Tendering/OpportunityDetail/Index?noticeUID=CO1.NTC.3370027                                                                                                                                                                     |1      |\n",
      "|704428523                                                                                                                                                                                                                                                             |1      |\n",
      "|706164308                                                                                                                                                                                                                                                             |1      |\n",
      "|706434958                                                                                                                                                                                                                                                             |1      |\n",
      "|704148691                                                                                                                                                                                                                                                             |1      |\n",
      "|700638059                                                                                                                                                                                                                                                             |1      |\n",
      "|718361298                                                                                                                                                                                                                                                             |1      |\n",
      "|https://community.secop.gov.co/Public/Tendering/OpportunityDetail/Index?noticeUID=CO1.NTC.3946169                                                                                                                                                                     |1      |\n",
      "|https://community.secop.gov.co/Public/Tendering/OpportunityDetail/Index?noticeUID=CO1.NTC.527333                                                                                                                                                                      |1      |\n",
      "|https://community.secop.gov.co/Public/Tendering/OpportunityDetail/Index?noticeUID=CO1.NTC.4828868                                                                                                                                                                     |1      |\n",
      "|https://community.secop.gov.co/Public/Tendering/OpportunityDetail/Index?noticeUID=CO1.NTC.2992548                                                                                                                                                                     |1      |\n",
      "|718184708                                                                                                                                                                                                                                                             |1      |\n",
      "|https://community.secop.gov.co/Public/Tendering/OpportunityDetail/Index?noticeUID=CO1.NTC.4770406                                                                                                                                                                     |1      |\n",
      "|704258540                                                                                                                                                                                                                                                             |1      |\n",
      "|701946188                                                                                                                                                                                                                                                             |1      |\n",
      "|https://community.secop.gov.co/Public/Tendering/OpportunityDetail/Index?noticeUID=CO1.NTC.4817808                                                                                                                                                                     |1      |\n",
      "|https://community.secop.gov.co/Public/Tendering/OpportunityDetail/Index?noticeUID=CO1.NTC.4817904                                                                                                                                                                     |1      |\n",
      "|https://community.secop.gov.co/Public/Tendering/OpportunityDetail/Index?noticeUID=CO1.NTC.3145464                                                                                                                                                                     |1      |\n",
      "|718607153                                                                                                                                                                                                                                                             |1      |\n",
      "|V180101600, V180161500                                                                                                                                                                                                                                                |1      |\n",
      "|https://community.secop.gov.co/Public/Tendering/OpportunityDetail/Index?noticeUID=CO1.NTC.4038120                                                                                                                                                                     |1      |\n",
      "|https://community.secop.gov.co/Public/Tendering/OpportunityDetail/Index?noticeUID=CO1.NTC.5738907                                                                                                                                                                     |1      |\n",
      "|https://community.secop.gov.co/Public/Tendering/OpportunityDetail/Index?noticeUID=CO1.NTC.4852743                                                                                                                                                                     |1      |\n",
      "|V142201700, V142201701, V142201702, V142201703, V142201704, V142201706, V142201709, V142201712, V142201713, V142201715, V185101600, V185101700, V185101701, V185101702, V185101703, V185151500, V185151502, V185151503                                                |1      |\n",
      "|https://community.secop.gov.co/Public/Tendering/OpportunityDetail/Index?noticeUID=CO1.NTC.2188729                                                                                                                                                                     |1      |\n",
      "|https://community.secop.gov.co/Public/Tendering/OpportunityDetail/Index?noticeUID=CO1.NTC.4837207                                                                                                                                                                     |1      |\n",
      "|https://community.secop.gov.co/Public/Tendering/OpportunityDetail/Index?noticeUID=CO1.NTC.2742391                                                                                                                                                                     |1      |\n",
      "|https://community.secop.gov.co/Public/Tendering/OpportunityDetail/Index?noticeUID=CO1.NTC.4702704                                                                                                                                                                     |1      |\n",
      "|702271321                                                                                                                                                                                                                                                             |1      |\n",
      "|https://community.secop.gov.co/Public/Tendering/OpportunityDetail/Index?noticeUID=CO1.NTC.5432481                                                                                                                                                                     |1      |\n",
      "|https://community.secop.gov.co/Public/Tendering/OpportunityDetail/Index?noticeUID=CO1.NTC.615803                                                                                                                                                                      |1      |\n",
      "|V176121902, V176122304                                                                                                                                                                                                                                                |1      |\n",
      "|703625459                                                                                                                                                                                                                                                             |1      |\n",
      "|https://community.secop.gov.co/Public/Tendering/OpportunityDetail/Index?noticeUID=CO1.NTC.5699960                                                                                                                                                                     |1      |\n",
      "|700613011                                                                                                                                                                                                                                                             |1      |\n",
      "|718927114                                                                                                                                                                                                                                                             |1      |\n",
      "|https://community.secop.gov.co/Public/Tendering/OpportunityDetail/Index?noticeUID=CO1.NTC.1697258                                                                                                                                                                     |1      |\n",
      "|V172154100, V176111500, V181112300, V183101800                                                                                                                                                                                                                        |1      |\n",
      "|706672169                                                                                                                                                                                                                                                             |1      |\n",
      "|https://community.secop.gov.co/Public/Tendering/OpportunityDetail/Index?noticeUID=CO1.NTC.3882530                                                                                                                                                                     |1      |\n",
      "|702192410                                                                                                                                                                                                                                                             |1      |\n",
      "|719761322                                                                                                                                                                                                                                                             |1      |\n",
      "|https://community.secop.gov.co/Public/Tendering/OpportunityDetail/Index?noticeUID=CO1.NTC.4141714                                                                                                                                                                     |1      |\n",
      "|https://community.secop.gov.co/Public/Tendering/OpportunityDetail/Index?noticeUID=CO1.NTC.1847201                                                                                                                                                                     |1      |\n",
      "|https://community.secop.gov.co/Public/Tendering/OpportunityDetail/Index?noticeUID=CO1.NTC.2151573                                                                                                                                                                     |1      |\n",
      "|700077019                                                                                                                                                                                                                                                             |1      |\n",
      "|718531189                                                                                                                                                                                                                                                             |1      |\n",
      "|700985252                                                                                                                                                                                                                                                             |1      |\n",
      "|https://community.secop.gov.co/Public/Tendering/OpportunityDetail/Index?noticeUID=CO1.NTC.5821755                                                                                                                                                                     |1      |\n",
      "|https://community.secop.gov.co/Public/Tendering/OpportunityDetail/Index?noticeUID=CO1.NTC.3424616                                                                                                                                                                     |1      |\n",
      "|703827279                                                                                                                                                                                                                                                             |1      |\n",
      "|https://community.secop.gov.co/Public/Tendering/OpportunityDetail/Index?noticeUID=CO1.NTC.2520337                                                                                                                                                                     |1      |\n",
      "|https://community.secop.gov.co/Public/Tendering/OpportunityDetail/Index?noticeUID=CO1.NTC.1638518                                                                                                                                                                     |1      |\n",
      "|https://community.secop.gov.co/Public/Tendering/OpportunityDetail/Index?noticeUID=CO1.NTC.2390457                                                                                                                                                                     |1      |\n",
      "|https://community.secop.gov.co/Public/Tendering/OpportunityDetail/Index?noticeUID=CO1.NTC.4817806                                                                                                                                                                     |1      |\n",
      "|https://community.secop.gov.co/Public/Tendering/OpportunityDetail/Index?noticeUID=CO1.NTC.3581209                                                                                                                                                                     |1      |\n",
      "|718579352                                                                                                                                                                                                                                                             |1      |\n",
      "|https://community.secop.gov.co/Public/Tendering/OpportunityDetail/Index?noticeUID=CO1.NTC.5243219                                                                                                                                                                     |1      |\n",
      "|https://community.secop.gov.co/Public/Tendering/OpportunityDetail/Index?noticeUID=CO1.NTC.3799219                                                                                                                                                                     |1      |\n",
      "|708540174                                                                                                                                                                                                                                                             |1      |\n",
      "|701337164                                                                                                                                                                                                                                                             |1      |\n",
      "|https://community.secop.gov.co/Public/Tendering/OpportunityDetail/Index?noticeUID=CO1.NTC.5621899                                                                                                                                                                     |1      |\n",
      "|https://community.secop.gov.co/Public/Tendering/OpportunityDetail/Index?noticeUID=CO1.NTC.4555713                                                                                                                                                                     |1      |\n",
      "|https://community.secop.gov.co/Public/Tendering/OpportunityDetail/Index?noticeUID=CO1.NTC.2195215                                                                                                                                                                     |1      |\n",
      "|https://community.secop.gov.co/Public/Tendering/OpportunityDetail/Index?noticeUID=CO1.NTC.4174377                                                                                                                                                                     |1      |\n",
      "|700090079                                                                                                                                                                                                                                                             |1      |\n",
      "|V1.72103300                                                                                                                                                                                                                                                           |1      |\n",
      "|https://community.secop.gov.co/Public/Tendering/OpportunityDetail/Index?noticeUID=CO1.NTC.3659503                                                                                                                                                                     |1      |\n",
      "|700255011                                                                                                                                                                                                                                                             |1      |\n",
      "|718862477                                                                                                                                                                                                                                                             |1      |\n",
      "|702492422                                                                                                                                                                                                                                                             |1      |\n",
      "|https://community.secop.gov.co/Public/Tendering/OpportunityDetail/Index?noticeUID=CO1.NTC.1079126                                                                                                                                                                     |1      |\n",
      "|https://community.secop.gov.co/Public/Tendering/OpportunityDetail/Index?noticeUID=CO1.NTC.5149487                                                                                                                                                                     |1      |\n",
      "|https://community.secop.gov.co/Public/Tendering/OpportunityDetail/Index?noticeUID=CO1.NTC.4112670                                                                                                                                                                     |1      |\n",
      "|https://community.secop.gov.co/Public/Tendering/OpportunityDetail/Index?noticeUID=CO1.NTC.4828671                                                                                                                                                                     |1      |\n",
      "|718720816                                                                                                                                                                                                                                                             |1      |\n",
      "|https://community.secop.gov.co/Public/Tendering/OpportunityDetail/Index?noticeUID=CO1.NTC.1515406                                                                                                                                                                     |1      |\n",
      "|https://community.secop.gov.co/Public/Tendering/OpportunityDetail/Index?noticeUID=CO1.NTC.4382810                                                                                                                                                                     |1      |\n",
      "|https://community.secop.gov.co/Public/Tendering/OpportunityDetail/Index?noticeUID=CO1.NTC.4187163                                                                                                                                                                     |1      |\n",
      "|https://community.secop.gov.co/Public/Tendering/OpportunityDetail/Index?noticeUID=CO1.NTC.5271663                                                                                                                                                                     |1      |\n",
      "|https://community.secop.gov.co/Public/Tendering/OpportunityDetail/Index?noticeUID=CO1.NTC.5630297                                                                                                                                                                     |1      |\n",
      "|https://community.secop.gov.co/Public/Tendering/OpportunityDetail/Index?noticeUID=CO1.NTC.4529797                                                                                                                                                                     |1      |\n",
      "|708260286                                                                                                                                                                                                                                                             |1      |\n",
      "|https://community.secop.gov.co/Public/Tendering/OpportunityDetail/Index?noticeUID=CO1.NTC.5843871                                                                                                                                                                     |1      |\n",
      "|V1.50111500                                                                                                                                                                                                                                                           |1      |\n",
      "|https://community.secop.gov.co/Public/Tendering/OpportunityDetail/Index?noticeUID=CO1.NTC.5344411                                                                                                                                                                     |1      |\n",
      "|708354113                                                                                                                                                                                                                                                             |1      |\n",
      "|705153054                                                                                                                                                                                                                                                             |1      |\n",
      "|C MTTO DEVAG-PROESCO                                                                                                                                                                                                                                                  |1      |\n",
      "|https://community.secop.gov.co/Public/Tendering/OpportunityDetail/Index?noticeUID=CO1.NTC.1745834                                                                                                                                                                     |1      |\n",
      "|718392533                                                                                                                                                                                                                                                             |1      |\n",
      "|https://community.secop.gov.co/Public/Tendering/OpportunityDetail/Index?noticeUID=CO1.NTC.2154231                                                                                                                                                                     |1      |\n",
      "|https://community.secop.gov.co/Public/Tendering/OpportunityDetail/Index?noticeUID=CO1.NTC.3356422                                                                                                                                                                     |1      |\n",
      "|705077204                                                                                                                                                                                                                                                             |1      |\n",
      "|MARIO ALBERTO HUERTAS COTES                                                                                                                                                                                                                                           |1      |\n",
      "|https://community.secop.gov.co/Public/Tendering/OpportunityDetail/Index?noticeUID=CO1.NTC.2400710                                                                                                                                                                     |1      |\n",
      "|701400236                                                                                                                                                                                                                                                             |1      |\n",
      "|704247535                                                                                                                                                                                                                                                             |1      |\n",
      "|704160753                                                                                                                                                                                                                                                             |1      |\n",
      "|https://community.secop.gov.co/Public/Tendering/OpportunityDetail/Index?noticeUID=CO1.NTC.4500656                                                                                                                                                                     |1      |\n",
      "|702318023                                                                                                                                                                                                                                                             |1      |\n",
      "|https://community.secop.gov.co/Public/Tendering/OpportunityDetail/Index?noticeUID=CO1.NTC.4169225                                                                                                                                                                     |1      |\n",
      "|https://community.secop.gov.co/Public/Tendering/OpportunityDetail/Index?noticeUID=CO1.NTC.1449131                                                                                                                                                                     |1      |\n",
      "|https://community.secop.gov.co/Public/Tendering/OpportunityDetail/Index?noticeUID=CO1.NTC.4530833                                                                                                                                                                     |1      |\n",
      "|https://community.secop.gov.co/Public/Tendering/OpportunityDetail/Index?noticeUID=CO1.NTC.197303                                                                                                                                                                      |1      |\n",
      "|706032778                                                                                                                                                                                                                                                             |1      |\n",
      "|https://community.secop.gov.co/Public/Tendering/OpportunityDetail/Index?noticeUID=CO1.NTC.2444416                                                                                                                                                                     |1      |\n",
      "|V178181507                                                                                                                                                                                                                                                            |1      |\n",
      "|https://community.secop.gov.co/Public/Tendering/OpportunityDetail/Index?noticeUID=CO1.NTC.4817809                                                                                                                                                                     |1      |\n",
      "|https://community.secop.gov.co/Public/Tendering/OpportunityDetail/Index?noticeUID=CO1.NTC.5365712                                                                                                                                                                     |1      |\n",
      "|https://community.secop.gov.co/Public/Tendering/OpportunityDetail/Index?noticeUID=CO1.NTC.5699937                                                                                                                                                                     |1      |\n",
      "|700694094                                                                                                                                                                                                                                                             |1      |\n",
      "|702481052                                                                                                                                                                                                                                                             |1      |\n",
      "|V131211900, V147132100                                                                                                                                                                                                                                                |1      |\n",
      "|https://community.secop.gov.co/Public/Tendering/OpportunityDetail/Index?noticeUID=CO1.NTC.4914310                                                                                                                                                                     |1      |\n",
      "|705771848                                                                                                                                                                                                                                                             |1      |\n",
      "|704272608                                                                                                                                                                                                                                                             |1      |\n",
      "+----------------------------------------------------------------------------------------------------------------------------------------------------------------------------------------------------------------------------------------------------------------------+-------+\n",
      "\n"
     ]
    },
    {
     "name": "stderr",
     "output_type": "stream",
     "text": [
      "                                                                                \r"
     ]
    }
   ],
   "source": [
    "# Agrupa el DataFrame por \"TipodeContrato\"\n",
    "data01agrupar01 = data01.groupBy(\"TipodeContrato\")\n",
    "\n",
    "# Cuenta el número de filas en cada grupo\n",
    "data01cantidad01 = data01agrupar01.count()\n",
    "\n",
    "# Ordena los resultados por la columna \"count\" en orden descendente\n",
    "data01cantidad01 = data01cantidad01.orderBy(desc(\"count\"))\n",
    "\n",
    "# Muestra el resultado completo\n",
    "data01cantidad01.show(truncate=False,n=300)"
   ]
  },
  {
   "cell_type": "code",
   "execution_count": 12,
   "id": "da3c0da8-9055-455e-9195-428a7c1102fd",
   "metadata": {},
   "outputs": [],
   "source": [
    "# Ejecuta una consulta SQL sobre el DataFrame\n",
    "resultado01 = data01.where(\"TipodeContrato == 'Consultoría'\")"
   ]
  },
  {
   "cell_type": "code",
   "execution_count": 13,
   "id": "04708f62-75fd-4cfb-b99b-3edab424b86a",
   "metadata": {
    "scrolled": true
   },
   "outputs": [
    {
     "name": "stderr",
     "output_type": "stream",
     "text": [
      "                                                                                \r"
     ]
    },
    {
     "name": "stdout",
     "output_type": "stream",
     "text": [
      "+--------------------+----------+--------------------+-------------+------------+-------------------+---------------+--------------------+---------+----------------+----------------------+---------------------------+--------------------+----------------------------+------------------------+-----------------------+-----------------------+--------------------+------------------------------+-------------------------------+----------+-----------------------+------------------------------------+--------+----------------+----------------------------+--------------------------+-----------------------+------------------------------+------------------------------+--------------------+-------------------------------+-------------------------------+---------------------------------+-------------------------+------------------+--------------------------+------------------------------+-------------+----------------------+------------------------+----------+---------------+---------------+---------------------+---------------+-----------------+----------------------+--------------------+----------------------------+-------------------------+--------------------------+--------------------------+--------------+-----------------+---------------------+--------------------+-------------+--------------------+\n",
      "|             Entidad|NitEntidad| DepartamentoEntidad|CiudadEntidad|OrdenEntidad|EntidadCentralizada|   IDdelProceso|ReferenciadelProceso|      PCI| IDdelPortafolio|NombredelProcedimiento|DescripciondelProcedimiento|                Fase|FechadePublicaciondelProceso|FechadeUltimaPublicacion|FechadePubFasePlanPreca|FechadePubFaseSelePreca|FechadePubManifdeInt|FechadePublicacionFaseBorrador|FechadePublicacionFaseSeleccion|PrecioBase|ModalidaddeContratacion|JustificacionModalidaddeContratacion|Duracion|UnidaddeDuracion|FechadeRecepciondeRespuestas|FechadeAperturadeRespuesta|FechadeAperturaEfectiva|CiudaddelaUnidaddeContratacion|NombredelaUnidaddeContratacion|ProveedoresInvitados|ProveedoresconInvitacionDirecta|VisualizacionesdelProcedimiento|ProveedoresqueManifestaronInteres|RespuestasalProcedimiento|RespuestasExternas|ConteodeRespuestasaOfertas|ProveedoresUnicosconRespuestas|NumerodeLotes|EstadodelProcedimiento|IDEstadodelProcedimiento|Adjudicado| IDAdjudicacion|CodigoProveedor|DepartamentoProveedor|CiudadProveedor|FechaAdjudicacion|ValorTotalAdjudicacion|NombredelAdjudicador|NombredelProveedorAdjudicado|NITdelProveedorAdjudicado|CodigoPrincipaldeCategoria|EstadodeAperturadelProceso|TipodeContrato|SubtipodeContrato|CategoriasAdicionales|          URLProceso|CodigoEntidad|       EstadoResumen|\n",
      "+--------------------+----------+--------------------+-------------+------------+-------------------+---------------+--------------------+---------+----------------+----------------------+---------------------------+--------------------+----------------------------+------------------------+-----------------------+-----------------------+--------------------+------------------------------+-------------------------------+----------+-----------------------+------------------------------------+--------+----------------+----------------------------+--------------------------+-----------------------+------------------------------+------------------------------+--------------------+-------------------------------+-------------------------------+---------------------------------+-------------------------+------------------+--------------------------+------------------------------+-------------+----------------------+------------------------+----------+---------------+---------------+---------------------+---------------+-----------------+----------------------+--------------------+----------------------------+-------------------------+--------------------------+--------------------------+--------------+-----------------+---------------------+--------------------+-------------+--------------------+\n",
      "|INSTITUTO DE INFR...| 900258711|Distrito Capital ...|       Bogotá| Territorial|       Centralizada|CO1.REQ.1576675|ICCU-CM-021 DE 20...|702046087|CO1.BDOS.1513645|  ICCU-CM-021 DE 20...|       ELABORACIÓN DE ES...|Presentación de o...|                  10/29/2020|              10/29/2020|                   NULL|                   NULL|                NULL|                          NULL|                     10/29/2020| 479076992|   Concurso de mérit...|                    Ley 1150 de 2007|       4|         Mes(es)|                  11/23/2020|                12/11/2020|             12/16/2020|                        Bogotá|                      JURIDICA|                   0|                              0|                              1|                                0|                       10|                 0|                         0|                            10|            4|          Seleccionado|                      70|        Si| CO1.AWD.902760|      701263022| Distrito Capital ...|         Bogotá|       12/18/2020|             479076000|VIVIANA RODRIGUEZ...|        AMP Mendez & Asoc...|                830072982|               V1.81101500|                   Cerrado|   Consultoría|      No Definido|          No definido|https://community...|    702046087|          Adjudicado|\n",
      "|MINISTERIO DE TRA...| 899999055|Distrito Capital ...|       Bogotá|    Nacional|       Centralizada|CO1.REQ.3310981|CM-025-2022 (Pres...|700612096|CO1.BDOS.3056247|  REALIZAR LAS PRUE...|       REALIZAR LAS PRUE...|Presentación de o...|                  09/02/2022|              09/02/2022|                   NULL|                   NULL|                NULL|                          NULL|                     09/01/2022| 153314268|   CCE-20-Concurso_M...|                    Ley 1150 de 2007|     120|          día(s)|                  09/09/2022|                09/09/2022|             09/09/2022|                        Bogotá|               Grupo Contratos|                   0|                              0|                             66|                                0|                        4|                 0|                         0|                             4|            4|          Seleccionado|                      70|        Si|CO1.AWD.1416250|      702076019| Distrito Capital ...|    No Definido|       09/22/2022|             153314268|CLAUDIA SUSANA MO...|        Five Strategy Con...|                900905066|               V1.81111800|                   Cerrado|   Consultoría|      No Definido| V180101500, V1811...|https://community...|    700612096|          Adjudicado|\n",
      "|EMPRESA DEPARTAME...| 900307208|            Casanare|        Yopal| Territorial|       Centralizada|CO1.REQ.5277428|ACUA-CM-001-2023 ...|705754851|CO1.BDOS.5105323|  PLAN DE ASEGURAMI...|       PLAN DE ASEGURAMI...|Presentación de o...|                  11/15/2023|              11/15/2023|                   NULL|                   NULL|                NULL|                          NULL|                     11/14/2023| 318920000|   CCE-20-Concurso_M...|                    Ley 1150 de 2007|       4|         Mes(es)|                  11/21/2023|                11/21/2023|                   NULL|                         Yopal|          UNIDAD DE CONTRAT...|                   0|                              0|                             17|                                0|                        0|                 0|                         0|                             0|            0|             Cancelado|                     100|        No|  No Adjudicado|    No Definido|          No Definido|    No Definido|             NULL|                     0|       No Adjudicado|                 No Definido|              No Definido|               V1.80101500|                   Cerrado|   Consultoría|      No Definido|          No definido|https://community...|    705754851|Presentación de o...|\n",
      "|ALCALDIA MUNICIPA...| 899999328|        Cundinamarca|   Facatativá| Territorial|       Centralizada|CO1.REQ.3774751|FACATATIVA-CM-008-22|704060383|CO1.BDOS.3678291|  CONTRATAR LA CONS...|       CONTRATAR LA CONS...|Presentación de o...|                  12/30/2022|              12/30/2022|                   NULL|                   NULL|                NULL|                    12/29/2022|                           NULL| 150000000|   CCE-20-Concurso_M...|                    Ley 1150 de 2007|       3|         Mes(es)|                  01/17/2023|                01/18/2023|             01/18/2023|                    Facatativá|              Oficina jurídica|                   0|                              0|                              3|                                0|                        0|                 0|                         0|                             0|            0|            Evaluación|                      60|        No|  No Adjudicado|    No Definido|          No Definido|    No Definido|             NULL|                     0|       No Adjudicado|                 No Definido|              No Definido|               V1.80101505|                   Cerrado|   Consultoría|      No Definido| V180101500, V1801...|https://community...|    704060383|Presentación de o...|\n",
      "|DEPARTAMENTO NACI...| 899999011|Distrito Capital ...|       Bogotá|    Nacional|       Centralizada| CO1.REQ.220001|CM-008-17 (Presen...|700220049| CO1.BDOS.207422|  Evaluación Hidroc...|       Realizar una eval...|Presentación de o...|                  09/13/2017|              09/13/2017|                   NULL|                   NULL|                NULL|                          NULL|                     09/13/2017|         0|   Concurso de mérit...|                    Ley 1150 de 2007|       8|         Mes(es)|                  10/02/2017|                10/20/2017|             10/20/2017|                        Bogotá|          SUBDIRECCIÓN DE C...|                   0|                              0|                              1|                                0|                        6|                 0|                         0|                             6|            4|          Seleccionado|                      70|        Si| CO1.AWD.180313|      700286016| Distrito Capital ...|         Bogotá|       10/26/2017|             511885938|Efigenia De Jesús...|        Fundación para la...|                860028669|               V1.80101500|                   Cerrado|   Consultoría|      No Definido| V180101600, V1811...|https://community...|    700220049|          Adjudicado|\n",
      "|GOBERNACION DE CA...| 892099216|            Casanare|        Yopal| Territorial|       Centralizada|CO1.REQ.3501605|CAS-OAJ-CMA-015-2...|706091220|CO1.BDOS.3375281|  ACTUALIZACIÓN DEL...|       ACTUALIZACIÓN DEL...|Presentación de o...|                  10/18/2022|              10/18/2022|                   NULL|                   NULL|                NULL|                          NULL|                     10/18/2022|  68329800|   CCE-20-Concurso_M...|                    Ley 1150 de 2007|       3|         Mes(es)|                  10/24/2022|                10/24/2022|             10/24/2022|                         Yopal|                UNIDADJURIDICA|                   0|                              0|                              7|                                0|                        0|                 0|                         0|                             0|            0|          Seleccionado|                      70|        No|  No Adjudicado|      718782220|             Casanare|          Yopal|             NULL|                     0|       No Adjudicado|        CONSORCIO ESTATUT...|     CONSORCIO ESTATUT...|               V1.80101504|                   Cerrado|   Consultoría|      No Definido|          No definido|https://community...|    706091220|          Adjudicado|\n",
      "|               AUNAP| 900479669|         No Definido|  No Definido|    Nacional|       Centralizada|CO1.REQ.2979549|CM 01 de 2022  (P...|700112022|CO1.BDOS.2877901|  Corredor de segur...|       Contratar el Inte...|Presentación de o...|                  04/13/2022|              04/13/2022|                   NULL|                   NULL|                NULL|                          NULL|                     04/13/2022|         0|   CCE-20-Concurso_M...|                    Ley 1150 de 2007|       0|          día(s)|                  04/27/2022|                04/27/2022|             04/27/2022|                        Bogotá|          GRUPO DE CONTRATA...|                   0|                              0|                             19|                                0|                        1|                 0|                         0|                             1|            4|          Seleccionado|                      70|        Si|CO1.AWD.1312907|      700173016| Distrito Capital ...|         Bogotá|       05/05/2022|                     0|Melissa Paola Pal...|        JARGU S.A. CORRED...|               8000181658|               V1.80101500|                   Cerrado|   Consultoría|      No Definido| V184131500, V1841...|https://community...|    700112022|          Adjudicado|\n",
      "|               AUNAP| 900479669|         No Definido|  No Definido|    Nacional|       Centralizada|CO1.REQ.2979549|CM 01 de 2022  (P...|700112022|CO1.BDOS.2877901|  Corredor de segur...|       Contratar el Inte...|Presentación de o...|                  04/13/2022|              04/13/2022|                   NULL|                   NULL|                NULL|                          NULL|                     04/13/2022|         0|   CCE-20-Concurso_M...|                    Ley 1150 de 2007|       0|          día(s)|                  04/27/2022|                04/27/2022|             04/27/2022|                        Bogotá|          GRUPO DE CONTRATA...|                   0|                              0|                             19|                                0|                        1|                 0|                         0|                             1|            4|          Seleccionado|                      70|        Si|CO1.AWD.1312907|      700173016| Distrito Capital ...|         Bogotá|       05/05/2022|                     0|Melissa Paola Pal...|        JARGU S.A. CORRED...|               8000181658|               V1.80101500|                   Cerrado|   Consultoría|      No Definido| V184131500, V1841...|https://community...|    700112022|          Adjudicado|\n",
      "|Rama Judicial  D...| 800165874|  Norte de Santander|       Cúcuta|    Nacional|       Centralizada|CO1.REQ.2952767|      IP 017 DE 2022|705600856|CO1.BDOS.2874952|  ESTUDIO PARA INST...|       la realización de...|Presentación de o...|                  03/23/2022|              03/23/2022|                   NULL|                   NULL|                NULL|                          NULL|                     03/23/2022|   6156667|         Mínima cuantía|                Presupuesto infer...|      30|          día(s)|                  03/28/2022|                03/28/2022|                   NULL|                        Cúcuta|          GRUPO CONTRATACIO...|                   0|                              0|                              9|                                0|                        0|                 0|                         0|                             0|            0|             Cancelado|                     100|        No|  No Adjudicado|    No Definido|          No Definido|    No Definido|             NULL|                     0|       No Adjudicado|                 No Definido|              No Definido|               V1.81101700|                   Cerrado|   Consultoría|      No Definido|           V181102700|https://community...|    705600856|Presentación de o...|\n",
      "|EMPRESA DE DESARR...| 816005795|           Risaralda| Dosquebradas| Territorial|       Centralizada|CO1.REQ.3058040|IDM-CM-006-2022 (...|706042066|CO1.BDOS.2966391|  INTERVENTORIA CAN...|       Interventoría téc...|Presentación de o...|                  06/22/2022|              06/22/2022|                   NULL|                   NULL|                NULL|                          NULL|                     06/22/2022|   9638673|   CCE-20-Concurso_M...|                    Ley 1150 de 2007|       1|         Mes(es)|                  06/28/2022|                06/28/2022|                   NULL|                  Dosquebradas|          EMPRESA DE DESARR...|                   0|                              0|                             22|                                0|                        0|                 0|                         0|                             0|            0|             Cancelado|                     100|        No|  No Adjudicado|    No Definido|          No Definido|    No Definido|             NULL|                     0|       No Adjudicado|                 No Definido|              No Definido|               V1.72103300|                   Cerrado|   Consultoría|      No Definido|          No definido|https://community...|    706042066|Presentación de o...|\n",
      "|              INVIAS| 800215807|Distrito Capital ...|       Bogotá|    Nacional|       Centralizada| CO1.REQ.263352|  IP-DT-SUC-008-2017|700676059| CO1.BDOS.255755|  ADMINISTRACION VI...|       ADMINISTRACION VI...|Presentación de o...|                  11/27/2017|              11/27/2017|                   NULL|                   NULL|                NULL|                          NULL|                     11/27/2017|         0|         Mínima cuantía|                Presupuesto infer...|       2|         Mes(es)|                  11/29/2017|                11/29/2017|             11/29/2017|                     Sincelejo|          Dirección Territo...|                   0|                              0|                              0|                                0|                        4|                 0|                         0|                             4|            4|          Seleccionado|                      70|        Si| CO1.AWD.202038|      703165720|                Sucre|      Sincelejo|             NULL|              48002000|Hugo Armando Hern...|        VICTOR NASSIFF FI...|                 78673852|               V1.81102200|                   Cerrado|   Consultoría|      No Definido|           V181101500|https://community...|    700676059|          Adjudicado|\n",
      "|MUNICIPIO DE YOPA...| 891855017|            Casanare|        Yopal| Territorial|       Centralizada|CO1.REQ.4677822|MYCA-SP-CM-003-20...|702445891|CO1.BDOS.4524017|  EXPLORACIÓN; MATE...|       EXPLORACIÓN, MATE...|Presentación de o...|                  06/16/2023|              06/16/2023|                   NULL|                   NULL|                NULL|                          NULL|                     06/15/2023| 235012945|   CCE-20-Concurso_M...|                    Ley 1150 de 2007|       2|         Mes(es)|                  06/23/2023|                06/23/2023|             06/23/2023|                         Yopal|          UNIDAD DE CONTRAT...|                   0|                              0|                             40|                                0|                        1|                 0|                         0|                             1|            4|          Seleccionado|                      70|        Si|CO1.AWD.1655586|      722210242|             Casanare|          Yopal|       07/06/2023|             235012945|MARLITH INFANTE VEGA|        DISEÑO & TOPOGRAF...|                900784463|               V1.81101500|                   Cerrado|   Consultoría|      No Definido| V181151600, V1811...|https://community...|    702445891|          Adjudicado|\n",
      "|Rama Judicial  D...| 800165874|  Norte de Santander|       Cúcuta|    Nacional|       Centralizada|CO1.REQ.3003727|          CM-01-2022|705600856|CO1.BDOS.2923812|  ELABORACIÓN DE ES...|       LA ELABORACIÓN DE...|Presentación de o...|                  05/05/2022|              05/05/2022|                   NULL|                   NULL|                NULL|                    05/05/2022|                           NULL| 141500000|   CCE-20-Concurso_M...|                    Ley 1150 de 2007|       3|         Mes(es)|                  05/25/2022|                05/25/2022|             05/25/2022|                        Cúcuta|          ALIX MAGALI PEÑAR...|                   0|                              0|                             56|                                0|                        0|                 0|                         0|                             0|            0|            Evaluación|                      60|        No|  No Adjudicado|    No Definido|          No Definido|    No Definido|             NULL|                     0|       No Adjudicado|                 No Definido|              No Definido|               V1.81101500|                   Cerrado|   Consultoría|      No Definido| V180101500, V1801...|https://community...|    705600856|Presentación de o...|\n",
      "|MINISTERIO DE AMB...| 830115395|Distrito Capital ...|       Bogotá|    Nacional|       Centralizada| CO1.REQ.895504|         CMA-02-2019|700209018| CO1.BDOS.866101|  CONCURSO DE MÉRIT...|       Diseñar e implem...|Presentación de o...|                  06/22/2019|              06/22/2019|                   NULL|                   NULL|                NULL|                    06/21/2019|                           NULL|2058376605|   Concurso de mérit...|                    Ley 1150 de 2007|       5|         Mes(es)|                  07/12/2019|                07/23/2019|             07/12/2019|                        Bogotá|                     CONTRATOS|                   0|                              0|                              0|                                0|                        0|                 0|                         0|                             0|            0|            Evaluación|                      60|        No|  No Adjudicado|    No Definido|          No Definido|    No Definido|             NULL|                     0|       No Adjudicado|                 No Definido|              No Definido|               V1.77101700|                   Cerrado|   Consultoría|      No Definido| V180101500, V1801...|https://community...|    700209018|Presentación de o...|\n",
      "|MUNICIPIO DE HISP...| 890984986|           Antioquia|     Hispania| Territorial|       Centralizada|CO1.REQ.2929601|         MC-009-2022|702575002|CO1.BDOS.2852902|  CONTRATO DE CONSU...|       CONTRATO DE CONSU...|Presentación de o...|                  03/07/2022|              03/07/2022|                   NULL|                   NULL|                NULL|                          NULL|                     03/07/2022|  27800000|         Mínima cuantía|                Presupuesto infer...|       0|          día(s)|                  03/08/2022|                03/08/2022|             03/08/2022|                      Hispania|          SECRETARIA DE PLA...|                   0|                              0|                             24|                                0|                        7|                 0|                         0|                             7|            4|          Seleccionado|                      70|        Si|CO1.AWD.1267025|      716004130|            Antioquia|       Medellín|       03/15/2022|              16900000|Ivon Rocío  Padil...|        JOHN HENRY FRANCO...|                 71792090|               V1.81101500|                   Cerrado|   Consultoría|      No Definido|          No definido|https://community...|    702575002|          Adjudicado|\n",
      "|MUNICIPIO DE HISP...| 890984986|           Antioquia|     Hispania| Territorial|       Centralizada|CO1.REQ.2929601|         MC-009-2022|702575002|CO1.BDOS.2852902|  CONTRATO DE CONSU...|       CONTRATO DE CONSU...|Presentación de o...|                  03/07/2022|              03/07/2022|                   NULL|                   NULL|                NULL|                          NULL|                     03/07/2022|  27800000|         Mínima cuantía|                Presupuesto infer...|       0|          día(s)|                  03/08/2022|                03/08/2022|             03/08/2022|                      Hispania|          SECRETARIA DE PLA...|                   0|                              0|                             24|                                0|                        7|                 0|                         0|                             7|            4|          Seleccionado|                      70|        Si|CO1.AWD.1267025|      716004130|            Antioquia|       Medellín|       03/15/2022|              16900000|Ivon Rocío  Padil...|        JOHN HENRY FRANCO...|                 71792090|               V1.81101500|                   Cerrado|   Consultoría|      No Definido|          No definido|https://community...|    702575002|          Adjudicado|\n",
      "|              INVIAS| 800215807|Distrito Capital ...|       Bogotá|    Nacional|       Centralizada|CO1.REQ.4496286|CMA-DEO-SGI-012-2...|700676059|CO1.BDOS.4330907|  ADMINISTRACIÓN VI...|       ADMINISTRACIÓN VI...|Presentación de o...|                  05/10/2023|              05/10/2023|                   NULL|                   NULL|                NULL|                          NULL|                     05/09/2023|4041130980|   CCE-20-Concurso_M...|                    Ley 1150 de 2007|       4|         Mes(es)|                  05/29/2023|                05/29/2023|             05/29/2023|                        Bogotá|          Subdirección Gest...|                   0|                              0|                            195|                                0|                       90|                 0|                         0|                            90|           10|          Seleccionado|                      70|        Si|CO1.AWD.1677127|      721955102|          No Definido|         Bogotá|       07/25/2023|             395471546|Marilyn del Rosar...|             CONSORCIO FENIX|              No Definido|               V1.81101500|                   Cerrado|   Consultoría|      No Definido|           V181102200|https://community...|    700676059|          Adjudicado|\n",
      "|              INVIAS| 800215807|Distrito Capital ...|       Bogotá|    Nacional|       Centralizada|CO1.REQ.4496286|CMA-DEO-SGI-012-2...|700676059|CO1.BDOS.4330907|  ADMINISTRACIÓN VI...|       ADMINISTRACIÓN VI...|Presentación de o...|                  05/10/2023|              05/10/2023|                   NULL|                   NULL|                NULL|                          NULL|                     05/09/2023|4041130980|   CCE-20-Concurso_M...|                    Ley 1150 de 2007|       4|         Mes(es)|                  05/29/2023|                05/29/2023|             05/29/2023|                        Bogotá|          Subdirección Gest...|                   0|                              0|                            195|                                0|                       90|                 0|                         0|                            90|           10|          Seleccionado|                      70|        Si|CO1.AWD.1677127|      721955102|          No Definido|         Bogotá|       07/25/2023|             395471546|Marilyn del Rosar...|             CONSORCIO FENIX|              No Definido|               V1.81101500|                   Cerrado|   Consultoría|      No Definido|           V181102200|https://community...|    700676059|          Adjudicado|\n",
      "|              INVIAS| 800215807|Distrito Capital ...|       Bogotá|    Nacional|       Centralizada|CO1.REQ.4496286|CMA-DEO-SGI-012-2...|700676059|CO1.BDOS.4330907|  ADMINISTRACIÓN VI...|       ADMINISTRACIÓN VI...|Presentación de o...|                  05/10/2023|              05/10/2023|                   NULL|                   NULL|                NULL|                          NULL|                     05/09/2023|4041130980|   CCE-20-Concurso_M...|                    Ley 1150 de 2007|       4|         Mes(es)|                  05/29/2023|                05/29/2023|             05/29/2023|                        Bogotá|          Subdirección Gest...|                   0|                              0|                            195|                                0|                       90|                 0|                         0|                            90|           10|          Seleccionado|                      70|        Si|CO1.AWD.1677127|      721955102|          No Definido|         Bogotá|       07/25/2023|             395471546|Marilyn del Rosar...|             CONSORCIO FENIX|              No Definido|               V1.81101500|                   Cerrado|   Consultoría|      No Definido|           V181102200|https://community...|    700676059|          Adjudicado|\n",
      "|SOCIEDAD DE ACUED...| 800100553|               Huila|        Neiva| Territorial|       Centralizada|CO1.REQ.5318870|AHCMA07-023 (Pres...|713901304|CO1.BDOS.5154141|  AHCMA07-023 (Pres...|       ESTUDIOS Y DISEÑO...|Presentación de o...|                  11/21/2023|              11/21/2023|                   NULL|                   NULL|                NULL|                          NULL|                     11/21/2023| 397614000|   CCE-20-Concurso_M...|                    Ley 1150 de 2007|       8|         Mes(es)|                  12/01/2023|                12/01/2023|             12/01/2023|                         Neiva|          UNIDAD DE CONTRAT...|                   0|                              0|                             39|                                0|                        2|                 0|                         0|                             2|           10|          Seleccionado|                      70|        Si|CO1.AWD.1800702|      724051099|                Huila|          Neiva|       12/15/2023|             396480297|DIEGO NELSON TAVA...|        CONSORCIO INGEFIP...|              No Definido|               V1.80101600|                   Cerrado|   Consultoría|      No Definido|          No definido|https://community...|    713901304|          Adjudicado|\n",
      "+--------------------+----------+--------------------+-------------+------------+-------------------+---------------+--------------------+---------+----------------+----------------------+---------------------------+--------------------+----------------------------+------------------------+-----------------------+-----------------------+--------------------+------------------------------+-------------------------------+----------+-----------------------+------------------------------------+--------+----------------+----------------------------+--------------------------+-----------------------+------------------------------+------------------------------+--------------------+-------------------------------+-------------------------------+---------------------------------+-------------------------+------------------+--------------------------+------------------------------+-------------+----------------------+------------------------+----------+---------------+---------------+---------------------+---------------+-----------------+----------------------+--------------------+----------------------------+-------------------------+--------------------------+--------------------------+--------------+-----------------+---------------------+--------------------+-------------+--------------------+\n",
      "only showing top 20 rows\n",
      "\n"
     ]
    }
   ],
   "source": [
    "# Mostrar los resultados\n",
    "resultado01.show()"
   ]
  },
  {
   "cell_type": "code",
   "execution_count": 14,
   "id": "2a7fffd6-a998-471a-aba3-fac0973dd36a",
   "metadata": {},
   "outputs": [],
   "source": [
    "# Guardar los resultados en un DataFrame\n",
    "#data01resultado01 = resultado01.toPandas()"
   ]
  },
  {
   "cell_type": "code",
   "execution_count": 15,
   "id": "cf088d50-db6c-4a65-be03-eb215e98b6ce",
   "metadata": {},
   "outputs": [],
   "source": [
    "spark.stop()"
   ]
  },
  {
   "cell_type": "code",
   "execution_count": 16,
   "id": "e7cafc7a-431a-46f8-9fe5-d445076ffb16",
   "metadata": {},
   "outputs": [
    {
     "name": "stdout",
     "output_type": "stream",
     "text": [
      "Tiempo de ejecución: 42.73892569541931 segundos\n"
     ]
    }
   ],
   "source": [
    "# Detiene el temporizador\n",
    "end_time = time.time()\n",
    "\n",
    "# Calcula el tiempo de ejecución\n",
    "time_elapsed = end_time - start_time\n",
    "\n",
    "# Imprime el tiempo de ejecución\n",
    "print(f\"Tiempo de ejecución: {time_elapsed} segundos\")"
   ]
  }
 ],
 "metadata": {
  "kernelspec": {
   "display_name": "Python 3 (ipykernel)",
   "language": "python",
   "name": "python3"
  },
  "language_info": {
   "codemirror_mode": {
    "name": "ipython",
    "version": 3
   },
   "file_extension": ".py",
   "mimetype": "text/x-python",
   "name": "python",
   "nbconvert_exporter": "python",
   "pygments_lexer": "ipython3",
   "version": "3.12.2"
  }
 },
 "nbformat": 4,
 "nbformat_minor": 5
}
