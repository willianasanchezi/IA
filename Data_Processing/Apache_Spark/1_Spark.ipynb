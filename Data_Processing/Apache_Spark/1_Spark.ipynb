{
 "cells": [
  {
   "cell_type": "code",
   "execution_count": null,
   "id": "cc280c3c-80e4-47c5-b8d4-43a554403835",
   "metadata": {},
   "outputs": [],
   "source": [
    "import time\n",
    "start_time = time.time()"
   ]
  },
  {
   "cell_type": "code",
   "execution_count": 1,
   "id": "1ae45e55-8659-466f-92f5-a3b4f1a81123",
   "metadata": {
    "scrolled": true,
    "tags": []
   },
   "outputs": [],
   "source": [
    "#!pip freeze"
   ]
  },
  {
   "cell_type": "code",
   "execution_count": 2,
   "id": "b94be6d0-32ce-4f05-a56f-1bf03bd39e03",
   "metadata": {
    "tags": []
   },
   "outputs": [],
   "source": [
    "#!pip show pandas # La primera vez que se ejecuta no debe estar instalado\n",
    "# WARNING: Package(s) not found: pandas"
   ]
  },
  {
   "cell_type": "code",
   "execution_count": 3,
   "id": "0464d96b-348f-487b-9bbd-de69b1b54cc2",
   "metadata": {
    "tags": []
   },
   "outputs": [
    {
     "name": "stdout",
     "output_type": "stream",
     "text": [
      "\n"
     ]
    }
   ],
   "source": [
    "'''\n",
    "https://spark.apache.org/docs/latest/api/python/getting_started/install.html\n",
    "https://pypi.org/project/pyspark/\n",
    "'''\n",
    "print(\"\")"
   ]
  },
  {
   "cell_type": "code",
   "execution_count": 4,
   "id": "92eef12a-8609-4e3d-a672-fdf596aa6f76",
   "metadata": {
    "scrolled": true,
    "tags": []
   },
   "outputs": [],
   "source": [
    "#!pip install pyspark\n",
    "#!pip uninstall prettytable -y\n",
    "#!pip install matplotlib\n",
    "#!pip install pandas\n",
    "#pip install plotly"
   ]
  },
  {
   "cell_type": "code",
   "execution_count": 5,
   "id": "b990c401-34d9-404c-8594-eb040b452fc4",
   "metadata": {
    "tags": []
   },
   "outputs": [],
   "source": [
    "#!pip show pandas"
   ]
  },
  {
   "cell_type": "code",
   "execution_count": 6,
   "id": "a6cdaa4e-862c-4518-a60e-6f158073ca96",
   "metadata": {
    "tags": []
   },
   "outputs": [
    {
     "name": "stdout",
     "output_type": "stream",
     "text": [
      "SECOP_II_-_Procesos_de_Contrataci_n_20240320.csv\n"
     ]
    }
   ],
   "source": [
    "!ls /home/dataset"
   ]
  },
  {
   "cell_type": "code",
   "execution_count": 7,
   "id": "2f7fc34d-ac00-41d9-aeeb-0ca5e0744d64",
   "metadata": {
    "tags": []
   },
   "outputs": [
    {
     "name": "stdout",
     "output_type": "stream",
     "text": [
      "5,2G\t/home/dataset/\n"
     ]
    }
   ],
   "source": [
    "!du -sh /home/dataset/"
   ]
  },
  {
   "cell_type": "code",
   "execution_count": 8,
   "id": "70f754a4-8dcc-44d6-b72d-5abf33949d41",
   "metadata": {
    "tags": []
   },
   "outputs": [],
   "source": [
    "archivo01 = \"/home/dataset/SECOP_II_-_Procesos_de_Contrataci_n_20240320.csv\""
   ]
  },
  {
   "cell_type": "code",
   "execution_count": 9,
   "id": "0f0b2fee-b17d-42a1-81a2-f876752b8089",
   "metadata": {
    "tags": []
   },
   "outputs": [],
   "source": [
    "import matplotlib.pyplot as plt\n",
    "import pandas as pd\n",
    "import plotly.express as px\n",
    "\n",
    "from pyspark.sql import SparkSession\n",
    "from pyspark.sql.functions import desc\n",
    "from pyspark.sql.functions import count"
   ]
  },
  {
   "cell_type": "code",
   "execution_count": 10,
   "id": "4f0fc609-c6c0-46c5-84c4-882559a4c687",
   "metadata": {
    "tags": []
   },
   "outputs": [
    {
     "name": "stderr",
     "output_type": "stream",
     "text": [
      "Setting default log level to \"WARN\".\n",
      "To adjust logging level use sc.setLogLevel(newLevel). For SparkR, use setLogLevel(newLevel).\n",
      "24/03/22 17:44:42 WARN NativeCodeLoader: Unable to load native-hadoop library for your platform... using builtin-java classes where applicable\n"
     ]
    }
   ],
   "source": [
    "# Crea una instancia de SparkSession\n",
    "spark = SparkSession.builder.appName(\"Leyendo un archivo CSV\").getOrCreate()"
   ]
  },
  {
   "cell_type": "code",
   "execution_count": 11,
   "id": "11299585-cca6-42c1-9ae2-f57d5da2680d",
   "metadata": {
    "tags": []
   },
   "outputs": [
    {
     "name": "stderr",
     "output_type": "stream",
     "text": [
      "                                                                                \r"
     ]
    }
   ],
   "source": [
    "# Lee un archivo CSV\n",
    "data01 = spark.read.csv(archivo01, header=True, inferSchema=True)"
   ]
  },
  {
   "cell_type": "code",
   "execution_count": 12,
   "id": "1f3d1d5b-1d97-479f-b20f-db60d4e2ebac",
   "metadata": {
    "tags": []
   },
   "outputs": [
    {
     "name": "stderr",
     "output_type": "stream",
     "text": [
      "                                                                                \r"
     ]
    },
    {
     "data": {
      "text/plain": [
       "6434461"
      ]
     },
     "execution_count": 12,
     "metadata": {},
     "output_type": "execute_result"
    }
   ],
   "source": [
    "data01.count()"
   ]
  },
  {
   "cell_type": "code",
   "execution_count": 13,
   "id": "3fed5a51-12f1-47f4-a788-8abbaa00165c",
   "metadata": {
    "scrolled": true,
    "tags": []
   },
   "outputs": [
    {
     "name": "stdout",
     "output_type": "stream",
     "text": [
      "root\n",
      " |-- Entidad: string (nullable = true)\n",
      " |-- Nit Entidad: string (nullable = true)\n",
      " |-- Departamento Entidad: string (nullable = true)\n",
      " |-- Ciudad Entidad: string (nullable = true)\n",
      " |-- OrdenEntidad: string (nullable = true)\n",
      " |-- Entidad Centralizada: string (nullable = true)\n",
      " |-- ID del Proceso: string (nullable = true)\n",
      " |-- Referencia del Proceso: string (nullable = true)\n",
      " |-- PCI: string (nullable = true)\n",
      " |-- ID del Portafolio: string (nullable = true)\n",
      " |-- Nombre del Procedimiento: string (nullable = true)\n",
      " |-- Descripción del Procedimiento: string (nullable = true)\n",
      " |-- Fase: string (nullable = true)\n",
      " |-- Fecha de Publicacion del Proceso: string (nullable = true)\n",
      " |-- Fecha de Ultima Publicación: string (nullable = true)\n",
      " |-- Fecha de Publicacion (Fase Planeacion Precalificacion): string (nullable = true)\n",
      " |-- Fecha de Publicacion (Fase Seleccion Precalificacion): string (nullable = true)\n",
      " |-- Fecha de Publicacion (Manifestacion de Interes): string (nullable = true)\n",
      " |-- Fecha de Publicacion (Fase Borrador): string (nullable = true)\n",
      " |-- Fecha de Publicacion (Fase Seleccion): string (nullable = true)\n",
      " |-- Precio Base: string (nullable = true)\n",
      " |-- Modalidad de Contratacion: string (nullable = true)\n",
      " |-- Justificación Modalidad de Contratación: string (nullable = true)\n",
      " |-- Duracion: string (nullable = true)\n",
      " |-- Unidad de Duracion: string (nullable = true)\n",
      " |-- Fecha de Recepcion de Respuestas: string (nullable = true)\n",
      " |-- Fecha de Apertura de Respuesta: string (nullable = true)\n",
      " |-- Fecha de Apertura Efectiva: string (nullable = true)\n",
      " |-- Ciudad de la Unidad de Contratación: string (nullable = true)\n",
      " |-- Nombre de la Unidad de Contratación: string (nullable = true)\n",
      " |-- Proveedores Invitados: string (nullable = true)\n",
      " |-- Proveedores con Invitacion Directa: string (nullable = true)\n",
      " |-- Visualizaciones del Procedimiento: string (nullable = true)\n",
      " |-- Proveedores que Manifestaron Interes: string (nullable = true)\n",
      " |-- Respuestas al Procedimiento: string (nullable = true)\n",
      " |-- Respuestas Externas: string (nullable = true)\n",
      " |-- Conteo de Respuestas a Ofertas: string (nullable = true)\n",
      " |-- Proveedores Unicos con Respuestas: string (nullable = true)\n",
      " |-- Numero de Lotes: string (nullable = true)\n",
      " |-- Estado del Procedimiento: string (nullable = true)\n",
      " |-- ID Estado del Procedimiento: string (nullable = true)\n",
      " |-- Adjudicado: string (nullable = true)\n",
      " |-- ID Adjudicacion: string (nullable = true)\n",
      " |-- CodigoProveedor: string (nullable = true)\n",
      " |-- Departamento Proveedor: string (nullable = true)\n",
      " |-- Ciudad Proveedor: string (nullable = true)\n",
      " |-- Fecha Adjudicacion: string (nullable = true)\n",
      " |-- Valor Total Adjudicacion: string (nullable = true)\n",
      " |-- Nombre del Adjudicador: string (nullable = true)\n",
      " |-- Nombre del Proveedor Adjudicado: string (nullable = true)\n",
      " |-- NIT del Proveedor Adjudicado: string (nullable = true)\n",
      " |-- Codigo Principal de Categoria: string (nullable = true)\n",
      " |-- Estado de Apertura del Proceso: string (nullable = true)\n",
      " |-- Tipo de Contrato: string (nullable = true)\n",
      " |-- Subtipo de Contrato: string (nullable = true)\n",
      " |-- Categorias Adicionales: string (nullable = true)\n",
      " |-- URLProceso: string (nullable = true)\n",
      " |-- Codigo Entidad: string (nullable = true)\n",
      " |-- Estado Resumen: string (nullable = true)\n",
      "\n"
     ]
    }
   ],
   "source": [
    "data01.printSchema()"
   ]
  },
  {
   "cell_type": "code",
   "execution_count": 14,
   "id": "e91ea1c0-58f5-4427-9879-83c845f5c8e7",
   "metadata": {
    "scrolled": true,
    "tags": []
   },
   "outputs": [
    {
     "data": {
      "text/plain": [
       "[('Entidad', 'string'),\n",
       " ('Nit Entidad', 'string'),\n",
       " ('Departamento Entidad', 'string'),\n",
       " ('Ciudad Entidad', 'string'),\n",
       " ('OrdenEntidad', 'string'),\n",
       " ('Entidad Centralizada', 'string'),\n",
       " ('ID del Proceso', 'string'),\n",
       " ('Referencia del Proceso', 'string'),\n",
       " ('PCI', 'string'),\n",
       " ('ID del Portafolio', 'string'),\n",
       " ('Nombre del Procedimiento', 'string'),\n",
       " ('Descripción del Procedimiento', 'string'),\n",
       " ('Fase', 'string'),\n",
       " ('Fecha de Publicacion del Proceso', 'string'),\n",
       " ('Fecha de Ultima Publicación', 'string'),\n",
       " ('Fecha de Publicacion (Fase Planeacion Precalificacion)', 'string'),\n",
       " ('Fecha de Publicacion (Fase Seleccion Precalificacion)', 'string'),\n",
       " ('Fecha de Publicacion (Manifestacion de Interes)', 'string'),\n",
       " ('Fecha de Publicacion (Fase Borrador)', 'string'),\n",
       " ('Fecha de Publicacion (Fase Seleccion)', 'string'),\n",
       " ('Precio Base', 'string'),\n",
       " ('Modalidad de Contratacion', 'string'),\n",
       " ('Justificación Modalidad de Contratación', 'string'),\n",
       " ('Duracion', 'string'),\n",
       " ('Unidad de Duracion', 'string'),\n",
       " ('Fecha de Recepcion de Respuestas', 'string'),\n",
       " ('Fecha de Apertura de Respuesta', 'string'),\n",
       " ('Fecha de Apertura Efectiva', 'string'),\n",
       " ('Ciudad de la Unidad de Contratación', 'string'),\n",
       " ('Nombre de la Unidad de Contratación', 'string'),\n",
       " ('Proveedores Invitados', 'string'),\n",
       " ('Proveedores con Invitacion Directa', 'string'),\n",
       " ('Visualizaciones del Procedimiento', 'string'),\n",
       " ('Proveedores que Manifestaron Interes', 'string'),\n",
       " ('Respuestas al Procedimiento', 'string'),\n",
       " ('Respuestas Externas', 'string'),\n",
       " ('Conteo de Respuestas a Ofertas', 'string'),\n",
       " ('Proveedores Unicos con Respuestas', 'string'),\n",
       " ('Numero de Lotes', 'string'),\n",
       " ('Estado del Procedimiento', 'string'),\n",
       " ('ID Estado del Procedimiento', 'string'),\n",
       " ('Adjudicado', 'string'),\n",
       " ('ID Adjudicacion', 'string'),\n",
       " ('CodigoProveedor', 'string'),\n",
       " ('Departamento Proveedor', 'string'),\n",
       " ('Ciudad Proveedor', 'string'),\n",
       " ('Fecha Adjudicacion', 'string'),\n",
       " ('Valor Total Adjudicacion', 'string'),\n",
       " ('Nombre del Adjudicador', 'string'),\n",
       " ('Nombre del Proveedor Adjudicado', 'string'),\n",
       " ('NIT del Proveedor Adjudicado', 'string'),\n",
       " ('Codigo Principal de Categoria', 'string'),\n",
       " ('Estado de Apertura del Proceso', 'string'),\n",
       " ('Tipo de Contrato', 'string'),\n",
       " ('Subtipo de Contrato', 'string'),\n",
       " ('Categorias Adicionales', 'string'),\n",
       " ('URLProceso', 'string'),\n",
       " ('Codigo Entidad', 'string'),\n",
       " ('Estado Resumen', 'string')]"
      ]
     },
     "execution_count": 14,
     "metadata": {},
     "output_type": "execute_result"
    }
   ],
   "source": [
    "data01.dtypes"
   ]
  },
  {
   "cell_type": "code",
   "execution_count": 15,
   "id": "0b3f2995-7ae7-4a56-a405-1b2db783f53c",
   "metadata": {
    "scrolled": true,
    "tags": []
   },
   "outputs": [
    {
     "data": {
      "text/plain": [
       "['Entidad',\n",
       " 'Nit Entidad',\n",
       " 'Departamento Entidad',\n",
       " 'Ciudad Entidad',\n",
       " 'OrdenEntidad',\n",
       " 'Entidad Centralizada',\n",
       " 'ID del Proceso',\n",
       " 'Referencia del Proceso',\n",
       " 'PCI',\n",
       " 'ID del Portafolio',\n",
       " 'Nombre del Procedimiento',\n",
       " 'Descripción del Procedimiento',\n",
       " 'Fase',\n",
       " 'Fecha de Publicacion del Proceso',\n",
       " 'Fecha de Ultima Publicación',\n",
       " 'Fecha de Publicacion (Fase Planeacion Precalificacion)',\n",
       " 'Fecha de Publicacion (Fase Seleccion Precalificacion)',\n",
       " 'Fecha de Publicacion (Manifestacion de Interes)',\n",
       " 'Fecha de Publicacion (Fase Borrador)',\n",
       " 'Fecha de Publicacion (Fase Seleccion)',\n",
       " 'Precio Base',\n",
       " 'Modalidad de Contratacion',\n",
       " 'Justificación Modalidad de Contratación',\n",
       " 'Duracion',\n",
       " 'Unidad de Duracion',\n",
       " 'Fecha de Recepcion de Respuestas',\n",
       " 'Fecha de Apertura de Respuesta',\n",
       " 'Fecha de Apertura Efectiva',\n",
       " 'Ciudad de la Unidad de Contratación',\n",
       " 'Nombre de la Unidad de Contratación',\n",
       " 'Proveedores Invitados',\n",
       " 'Proveedores con Invitacion Directa',\n",
       " 'Visualizaciones del Procedimiento',\n",
       " 'Proveedores que Manifestaron Interes',\n",
       " 'Respuestas al Procedimiento',\n",
       " 'Respuestas Externas',\n",
       " 'Conteo de Respuestas a Ofertas',\n",
       " 'Proveedores Unicos con Respuestas',\n",
       " 'Numero de Lotes',\n",
       " 'Estado del Procedimiento',\n",
       " 'ID Estado del Procedimiento',\n",
       " 'Adjudicado',\n",
       " 'ID Adjudicacion',\n",
       " 'CodigoProveedor',\n",
       " 'Departamento Proveedor',\n",
       " 'Ciudad Proveedor',\n",
       " 'Fecha Adjudicacion',\n",
       " 'Valor Total Adjudicacion',\n",
       " 'Nombre del Adjudicador',\n",
       " 'Nombre del Proveedor Adjudicado',\n",
       " 'NIT del Proveedor Adjudicado',\n",
       " 'Codigo Principal de Categoria',\n",
       " 'Estado de Apertura del Proceso',\n",
       " 'Tipo de Contrato',\n",
       " 'Subtipo de Contrato',\n",
       " 'Categorias Adicionales',\n",
       " 'URLProceso',\n",
       " 'Codigo Entidad',\n",
       " 'Estado Resumen']"
      ]
     },
     "execution_count": 15,
     "metadata": {},
     "output_type": "execute_result"
    }
   ],
   "source": [
    "data01.columns"
   ]
  },
  {
   "cell_type": "code",
   "execution_count": 16,
   "id": "632b50c5-b1fd-45cb-8322-9fdbc651ecb3",
   "metadata": {
    "scrolled": true,
    "tags": []
   },
   "outputs": [
    {
     "name": "stderr",
     "output_type": "stream",
     "text": [
      "24/03/22 07:21:31 WARN SparkStringUtils: Truncated the string representation of a plan since it was too large. This behavior can be adjusted by setting 'spark.sql.debug.maxToStringFields'.\n",
      "24/03/22 07:21:40 WARN RowBasedKeyValueBatch: Calling spill() on RowBasedKeyValueBatch. Will not spill but return 0.\n",
      "24/03/22 07:21:40 WARN RowBasedKeyValueBatch: Calling spill() on RowBasedKeyValueBatch. Will not spill but return 0.\n",
      "24/03/22 07:21:40 WARN RowBasedKeyValueBatch: Calling spill() on RowBasedKeyValueBatch. Will not spill but return 0.\n",
      "24/03/22 07:21:40 WARN RowBasedKeyValueBatch: Calling spill() on RowBasedKeyValueBatch. Will not spill but return 0.\n",
      "24/03/22 07:21:40 WARN RowBasedKeyValueBatch: Calling spill() on RowBasedKeyValueBatch. Will not spill but return 0.\n",
      "24/03/22 07:21:40 WARN RowBasedKeyValueBatch: Calling spill() on RowBasedKeyValueBatch. Will not spill but return 0.\n",
      "24/03/22 07:21:41 WARN RowBasedKeyValueBatch: Calling spill() on RowBasedKeyValueBatch. Will not spill but return 0.\n",
      "24/03/22 07:21:41 WARN RowBasedKeyValueBatch: Calling spill() on RowBasedKeyValueBatch. Will not spill but return 0.\n",
      "24/03/22 07:21:47 WARN RowBasedKeyValueBatch: Calling spill() on RowBasedKeyValueBatch. Will not spill but return 0.\n",
      "24/03/22 07:21:47 WARN RowBasedKeyValueBatch: Calling spill() on RowBasedKeyValueBatch. Will not spill but return 0.\n",
      "24/03/22 07:21:48 WARN RowBasedKeyValueBatch: Calling spill() on RowBasedKeyValueBatch. Will not spill but return 0.\n",
      "24/03/22 07:21:48 WARN RowBasedKeyValueBatch: Calling spill() on RowBasedKeyValueBatch. Will not spill but return 0.\n",
      "24/03/22 07:21:48 WARN RowBasedKeyValueBatch: Calling spill() on RowBasedKeyValueBatch. Will not spill but return 0.\n",
      "24/03/22 07:21:48 WARN RowBasedKeyValueBatch: Calling spill() on RowBasedKeyValueBatch. Will not spill but return 0.\n",
      "24/03/22 07:22:03 WARN RowBasedKeyValueBatch: Calling spill() on RowBasedKeyValueBatch. Will not spill but return 0.\n",
      "24/03/22 07:22:03 WARN RowBasedKeyValueBatch: Calling spill() on RowBasedKeyValueBatch. Will not spill but return 0.\n",
      "24/03/22 07:22:04 WARN RowBasedKeyValueBatch: Calling spill() on RowBasedKeyValueBatch. Will not spill but return 0.\n",
      "24/03/22 07:22:04 WARN RowBasedKeyValueBatch: Calling spill() on RowBasedKeyValueBatch. Will not spill but return 0.\n",
      "24/03/22 07:22:04 WARN RowBasedKeyValueBatch: Calling spill() on RowBasedKeyValueBatch. Will not spill but return 0.\n",
      "24/03/22 07:22:04 WARN RowBasedKeyValueBatch: Calling spill() on RowBasedKeyValueBatch. Will not spill but return 0.\n",
      "24/03/22 07:22:05 WARN RowBasedKeyValueBatch: Calling spill() on RowBasedKeyValueBatch. Will not spill but return 0.\n",
      "24/03/22 07:22:05 WARN RowBasedKeyValueBatch: Calling spill() on RowBasedKeyValueBatch. Will not spill but return 0.\n",
      "24/03/22 07:22:12 WARN RowBasedKeyValueBatch: Calling spill() on RowBasedKeyValueBatch. Will not spill but return 0.\n",
      "24/03/22 07:22:12 WARN RowBasedKeyValueBatch: Calling spill() on RowBasedKeyValueBatch. Will not spill but return 0.\n",
      "24/03/22 07:22:12 WARN RowBasedKeyValueBatch: Calling spill() on RowBasedKeyValueBatch. Will not spill but return 0.\n",
      "24/03/22 07:22:12 WARN RowBasedKeyValueBatch: Calling spill() on RowBasedKeyValueBatch. Will not spill but return 0.\n",
      "24/03/22 07:22:12 WARN RowBasedKeyValueBatch: Calling spill() on RowBasedKeyValueBatch. Will not spill but return 0.\n",
      "24/03/22 07:22:12 WARN RowBasedKeyValueBatch: Calling spill() on RowBasedKeyValueBatch. Will not spill but return 0.\n",
      "24/03/22 07:22:12 WARN RowBasedKeyValueBatch: Calling spill() on RowBasedKeyValueBatch. Will not spill but return 0.\n",
      "24/03/22 07:22:12 WARN RowBasedKeyValueBatch: Calling spill() on RowBasedKeyValueBatch. Will not spill but return 0.\n",
      "24/03/22 07:22:27 WARN RowBasedKeyValueBatch: Calling spill() on RowBasedKeyValueBatch. Will not spill but return 0.\n",
      "24/03/22 07:22:27 WARN RowBasedKeyValueBatch: Calling spill() on RowBasedKeyValueBatch. Will not spill but return 0.\n",
      "24/03/22 07:22:27 WARN RowBasedKeyValueBatch: Calling spill() on RowBasedKeyValueBatch. Will not spill but return 0.\n",
      "24/03/22 07:22:27 WARN RowBasedKeyValueBatch: Calling spill() on RowBasedKeyValueBatch. Will not spill but return 0.\n",
      "24/03/22 07:22:28 WARN RowBasedKeyValueBatch: Calling spill() on RowBasedKeyValueBatch. Will not spill but return 0.\n",
      "24/03/22 07:22:28 WARN RowBasedKeyValueBatch: Calling spill() on RowBasedKeyValueBatch. Will not spill but return 0.\n",
      "24/03/22 07:22:28 WARN RowBasedKeyValueBatch: Calling spill() on RowBasedKeyValueBatch. Will not spill but return 0.\n",
      "24/03/22 07:22:28 WARN RowBasedKeyValueBatch: Calling spill() on RowBasedKeyValueBatch. Will not spill but return 0.\n",
      "24/03/22 07:22:35 WARN RowBasedKeyValueBatch: Calling spill() on RowBasedKeyValueBatch. Will not spill but return 0.\n",
      "24/03/22 07:22:35 WARN RowBasedKeyValueBatch: Calling spill() on RowBasedKeyValueBatch. Will not spill but return 0.\n",
      "24/03/22 07:22:35 WARN RowBasedKeyValueBatch: Calling spill() on RowBasedKeyValueBatch. Will not spill but return 0.\n",
      "24/03/22 07:22:35 WARN RowBasedKeyValueBatch: Calling spill() on RowBasedKeyValueBatch. Will not spill but return 0.\n",
      "24/03/22 07:22:36 WARN RowBasedKeyValueBatch: Calling spill() on RowBasedKeyValueBatch. Will not spill but return 0.\n",
      "24/03/22 07:22:36 WARN RowBasedKeyValueBatch: Calling spill() on RowBasedKeyValueBatch. Will not spill but return 0.\n",
      "24/03/22 07:22:49 WARN RowBasedKeyValueBatch: Calling spill() on RowBasedKeyValueBatch. Will not spill but return 0.\n",
      "24/03/22 07:22:49 WARN RowBasedKeyValueBatch: Calling spill() on RowBasedKeyValueBatch. Will not spill but return 0.\n",
      "24/03/22 07:22:49 WARN RowBasedKeyValueBatch: Calling spill() on RowBasedKeyValueBatch. Will not spill but return 0.\n",
      "24/03/22 07:22:49 WARN RowBasedKeyValueBatch: Calling spill() on RowBasedKeyValueBatch. Will not spill but return 0.\n",
      "24/03/22 07:22:51 WARN RowBasedKeyValueBatch: Calling spill() on RowBasedKeyValueBatch. Will not spill but return 0.\n",
      "24/03/22 07:22:51 WARN RowBasedKeyValueBatch: Calling spill() on RowBasedKeyValueBatch. Will not spill but return 0.\n",
      "24/03/22 07:22:52 WARN RowBasedKeyValueBatch: Calling spill() on RowBasedKeyValueBatch. Will not spill but return 0.\n",
      "24/03/22 07:22:52 WARN RowBasedKeyValueBatch: Calling spill() on RowBasedKeyValueBatch. Will not spill but return 0.\n",
      "24/03/22 07:22:57 WARN RowBasedKeyValueBatch: Calling spill() on RowBasedKeyValueBatch. Will not spill but return 0.\n",
      "24/03/22 07:22:57 WARN RowBasedKeyValueBatch: Calling spill() on RowBasedKeyValueBatch. Will not spill but return 0.\n",
      "24/03/22 07:22:57 WARN RowBasedKeyValueBatch: Calling spill() on RowBasedKeyValueBatch. Will not spill but return 0.\n",
      "24/03/22 07:22:57 WARN RowBasedKeyValueBatch: Calling spill() on RowBasedKeyValueBatch. Will not spill but return 0.\n",
      "24/03/22 07:22:59 WARN RowBasedKeyValueBatch: Calling spill() on RowBasedKeyValueBatch. Will not spill but return 0.\n",
      "24/03/22 07:22:59 WARN RowBasedKeyValueBatch: Calling spill() on RowBasedKeyValueBatch. Will not spill but return 0.\n",
      "24/03/22 07:23:13 WARN RowBasedKeyValueBatch: Calling spill() on RowBasedKeyValueBatch. Will not spill but return 0.\n",
      "24/03/22 07:23:13 WARN RowBasedKeyValueBatch: Calling spill() on RowBasedKeyValueBatch. Will not spill but return 0.\n",
      "24/03/22 07:23:13 WARN RowBasedKeyValueBatch: Calling spill() on RowBasedKeyValueBatch. Will not spill but return 0.\n",
      "24/03/22 07:23:13 WARN RowBasedKeyValueBatch: Calling spill() on RowBasedKeyValueBatch. Will not spill but return 0.\n",
      "24/03/22 07:23:14 WARN RowBasedKeyValueBatch: Calling spill() on RowBasedKeyValueBatch. Will not spill but return 0.\n",
      "24/03/22 07:23:15 WARN RowBasedKeyValueBatch: Calling spill() on RowBasedKeyValueBatch. Will not spill but return 0.\n",
      "24/03/22 07:23:18 WARN RowBasedKeyValueBatch: Calling spill() on RowBasedKeyValueBatch. Will not spill but return 0.\n",
      "24/03/22 07:23:18 WARN RowBasedKeyValueBatch: Calling spill() on RowBasedKeyValueBatch. Will not spill but return 0.\n",
      "24/03/22 07:23:23 WARN RowBasedKeyValueBatch: Calling spill() on RowBasedKeyValueBatch. Will not spill but return 0.\n",
      "24/03/22 07:23:23 WARN RowBasedKeyValueBatch: Calling spill() on RowBasedKeyValueBatch. Will not spill but return 0.\n",
      "24/03/22 07:23:38 WARN RowBasedKeyValueBatch: Calling spill() on RowBasedKeyValueBatch. Will not spill but return 0.\n",
      "24/03/22 07:23:38 WARN RowBasedKeyValueBatch: Calling spill() on RowBasedKeyValueBatch. Will not spill but return 0.\n",
      "24/03/22 07:23:38 WARN RowBasedKeyValueBatch: Calling spill() on RowBasedKeyValueBatch. Will not spill but return 0.\n",
      "24/03/22 07:23:38 WARN RowBasedKeyValueBatch: Calling spill() on RowBasedKeyValueBatch. Will not spill but return 0.\n",
      "24/03/22 07:23:39 WARN RowBasedKeyValueBatch: Calling spill() on RowBasedKeyValueBatch. Will not spill but return 0.\n",
      "24/03/22 07:23:39 WARN RowBasedKeyValueBatch: Calling spill() on RowBasedKeyValueBatch. Will not spill but return 0.\n",
      "24/03/22 07:23:41 WARN RowBasedKeyValueBatch: Calling spill() on RowBasedKeyValueBatch. Will not spill but return 0.\n",
      "24/03/22 07:23:41 WARN RowBasedKeyValueBatch: Calling spill() on RowBasedKeyValueBatch. Will not spill but return 0.\n",
      "24/03/22 07:23:46 WARN RowBasedKeyValueBatch: Calling spill() on RowBasedKeyValueBatch. Will not spill but return 0.\n",
      "24/03/22 07:23:46 WARN RowBasedKeyValueBatch: Calling spill() on RowBasedKeyValueBatch. Will not spill but return 0.\n",
      "24/03/22 07:23:46 WARN RowBasedKeyValueBatch: Calling spill() on RowBasedKeyValueBatch. Will not spill but return 0.\n",
      "24/03/22 07:23:46 WARN RowBasedKeyValueBatch: Calling spill() on RowBasedKeyValueBatch. Will not spill but return 0.\n",
      "24/03/22 07:24:00 WARN RowBasedKeyValueBatch: Calling spill() on RowBasedKeyValueBatch. Will not spill but return 0.\n",
      "24/03/22 07:24:00 WARN RowBasedKeyValueBatch: Calling spill() on RowBasedKeyValueBatch. Will not spill but return 0.\n",
      "24/03/22 07:24:01 WARN RowBasedKeyValueBatch: Calling spill() on RowBasedKeyValueBatch. Will not spill but return 0.\n",
      "24/03/22 07:24:01 WARN RowBasedKeyValueBatch: Calling spill() on RowBasedKeyValueBatch. Will not spill but return 0.\n",
      "24/03/22 07:24:02 WARN RowBasedKeyValueBatch: Calling spill() on RowBasedKeyValueBatch. Will not spill but return 0.\n",
      "24/03/22 07:24:02 WARN RowBasedKeyValueBatch: Calling spill() on RowBasedKeyValueBatch. Will not spill but return 0.\n",
      "24/03/22 07:24:03 WARN RowBasedKeyValueBatch: Calling spill() on RowBasedKeyValueBatch. Will not spill but return 0.\n",
      "24/03/22 07:24:03 WARN RowBasedKeyValueBatch: Calling spill() on RowBasedKeyValueBatch. Will not spill but return 0.\n",
      "24/03/22 07:24:09 WARN RowBasedKeyValueBatch: Calling spill() on RowBasedKeyValueBatch. Will not spill but return 0.\n",
      "24/03/22 07:24:09 WARN RowBasedKeyValueBatch: Calling spill() on RowBasedKeyValueBatch. Will not spill but return 0.\n",
      "24/03/22 07:24:09 WARN RowBasedKeyValueBatch: Calling spill() on RowBasedKeyValueBatch. Will not spill but return 0.\n",
      "24/03/22 07:24:09 WARN RowBasedKeyValueBatch: Calling spill() on RowBasedKeyValueBatch. Will not spill but return 0.\n",
      "24/03/22 07:24:23 WARN RowBasedKeyValueBatch: Calling spill() on RowBasedKeyValueBatch. Will not spill but return 0.\n",
      "24/03/22 07:24:23 WARN RowBasedKeyValueBatch: Calling spill() on RowBasedKeyValueBatch. Will not spill but return 0.\n",
      "24/03/22 07:24:24 WARN RowBasedKeyValueBatch: Calling spill() on RowBasedKeyValueBatch. Will not spill but return 0.\n",
      "24/03/22 07:24:24 WARN RowBasedKeyValueBatch: Calling spill() on RowBasedKeyValueBatch. Will not spill but return 0.\n",
      "24/03/22 07:24:26 WARN RowBasedKeyValueBatch: Calling spill() on RowBasedKeyValueBatch. Will not spill but return 0.\n",
      "24/03/22 07:24:26 WARN RowBasedKeyValueBatch: Calling spill() on RowBasedKeyValueBatch. Will not spill but return 0.\n",
      "24/03/22 07:24:27 WARN RowBasedKeyValueBatch: Calling spill() on RowBasedKeyValueBatch. Will not spill but return 0.\n",
      "24/03/22 07:24:27 WARN RowBasedKeyValueBatch: Calling spill() on RowBasedKeyValueBatch. Will not spill but return 0.\n",
      "24/03/22 07:24:31 WARN RowBasedKeyValueBatch: Calling spill() on RowBasedKeyValueBatch. Will not spill but return 0.\n",
      "24/03/22 07:24:31 WARN RowBasedKeyValueBatch: Calling spill() on RowBasedKeyValueBatch. Will not spill but return 0.\n",
      "24/03/22 07:24:32 WARN RowBasedKeyValueBatch: Calling spill() on RowBasedKeyValueBatch. Will not spill but return 0.\n",
      "24/03/22 07:24:45 WARN RowBasedKeyValueBatch: Calling spill() on RowBasedKeyValueBatch. Will not spill but return 0.\n",
      "24/03/22 07:24:45 WARN RowBasedKeyValueBatch: Calling spill() on RowBasedKeyValueBatch. Will not spill but return 0.\n",
      "24/03/22 07:24:47 WARN RowBasedKeyValueBatch: Calling spill() on RowBasedKeyValueBatch. Will not spill but return 0.\n",
      "24/03/22 07:24:48 WARN RowBasedKeyValueBatch: Calling spill() on RowBasedKeyValueBatch. Will not spill but return 0.\n",
      "24/03/22 07:24:50 WARN RowBasedKeyValueBatch: Calling spill() on RowBasedKeyValueBatch. Will not spill but return 0.\n",
      "24/03/22 07:24:50 WARN RowBasedKeyValueBatch: Calling spill() on RowBasedKeyValueBatch. Will not spill but return 0.\n",
      "24/03/22 07:24:50 WARN RowBasedKeyValueBatch: Calling spill() on RowBasedKeyValueBatch. Will not spill but return 0.\n",
      "24/03/22 07:24:50 WARN RowBasedKeyValueBatch: Calling spill() on RowBasedKeyValueBatch. Will not spill but return 0.\n",
      "24/03/22 07:24:56 WARN RowBasedKeyValueBatch: Calling spill() on RowBasedKeyValueBatch. Will not spill but return 0.\n",
      "24/03/22 07:24:56 WARN RowBasedKeyValueBatch: Calling spill() on RowBasedKeyValueBatch. Will not spill but return 0.\n",
      "24/03/22 07:25:13 WARN RowBasedKeyValueBatch: Calling spill() on RowBasedKeyValueBatch. Will not spill but return 0.\n",
      "24/03/22 07:25:13 WARN RowBasedKeyValueBatch: Calling spill() on RowBasedKeyValueBatch. Will not spill but return 0.\n",
      "24/03/22 07:25:16 WARN RowBasedKeyValueBatch: Calling spill() on RowBasedKeyValueBatch. Will not spill but return 0.\n",
      "24/03/22 07:25:16 WARN RowBasedKeyValueBatch: Calling spill() on RowBasedKeyValueBatch. Will not spill but return 0.\n",
      "24/03/22 07:25:17 WARN RowBasedKeyValueBatch: Calling spill() on RowBasedKeyValueBatch. Will not spill but return 0.\n",
      "24/03/22 07:25:17 WARN RowBasedKeyValueBatch: Calling spill() on RowBasedKeyValueBatch. Will not spill but return 0.\n",
      "24/03/22 07:25:20 WARN RowBasedKeyValueBatch: Calling spill() on RowBasedKeyValueBatch. Will not spill but return 0.\n",
      "24/03/22 07:25:20 WARN RowBasedKeyValueBatch: Calling spill() on RowBasedKeyValueBatch. Will not spill but return 0.\n",
      "24/03/22 07:25:25 WARN RowBasedKeyValueBatch: Calling spill() on RowBasedKeyValueBatch. Will not spill but return 0.\n",
      "24/03/22 07:25:25 WARN RowBasedKeyValueBatch: Calling spill() on RowBasedKeyValueBatch. Will not spill but return 0.\n",
      "24/03/22 07:25:49 WARN RowBasedKeyValueBatch: Calling spill() on RowBasedKeyValueBatch. Will not spill but return 0.\n",
      "24/03/22 07:25:49 WARN RowBasedKeyValueBatch: Calling spill() on RowBasedKeyValueBatch. Will not spill but return 0.\n",
      "24/03/22 07:25:49 WARN RowBasedKeyValueBatch: Calling spill() on RowBasedKeyValueBatch. Will not spill but return 0.\n",
      "24/03/22 07:25:49 WARN RowBasedKeyValueBatch: Calling spill() on RowBasedKeyValueBatch. Will not spill but return 0.\n",
      "24/03/22 07:25:49 WARN RowBasedKeyValueBatch: Calling spill() on RowBasedKeyValueBatch. Will not spill but return 0.\n",
      "24/03/22 07:25:49 WARN RowBasedKeyValueBatch: Calling spill() on RowBasedKeyValueBatch. Will not spill but return 0.\n",
      "24/03/22 07:25:49 WARN RowBasedKeyValueBatch: Calling spill() on RowBasedKeyValueBatch. Will not spill but return 0.\n",
      "24/03/22 07:25:49 WARN RowBasedKeyValueBatch: Calling spill() on RowBasedKeyValueBatch. Will not spill but return 0.\n",
      "24/03/22 07:25:53 WARN RowBasedKeyValueBatch: Calling spill() on RowBasedKeyValueBatch. Will not spill but return 0.\n",
      "24/03/22 07:25:53 WARN RowBasedKeyValueBatch: Calling spill() on RowBasedKeyValueBatch. Will not spill but return 0.\n",
      "24/03/22 07:25:53 WARN RowBasedKeyValueBatch: Calling spill() on RowBasedKeyValueBatch. Will not spill but return 0.\n",
      "24/03/22 07:25:53 WARN RowBasedKeyValueBatch: Calling spill() on RowBasedKeyValueBatch. Will not spill but return 0.\n",
      "24/03/22 07:25:53 WARN RowBasedKeyValueBatch: Calling spill() on RowBasedKeyValueBatch. Will not spill but return 0.\n",
      "24/03/22 07:25:53 WARN RowBasedKeyValueBatch: Calling spill() on RowBasedKeyValueBatch. Will not spill but return 0.\n",
      "24/03/22 07:25:53 WARN RowBasedKeyValueBatch: Calling spill() on RowBasedKeyValueBatch. Will not spill but return 0.\n",
      "24/03/22 07:25:53 WARN RowBasedKeyValueBatch: Calling spill() on RowBasedKeyValueBatch. Will not spill but return 0.\n",
      "24/03/22 07:25:56 WARN RowBasedKeyValueBatch: Calling spill() on RowBasedKeyValueBatch. Will not spill but return 0.\n",
      "24/03/22 07:25:56 WARN RowBasedKeyValueBatch: Calling spill() on RowBasedKeyValueBatch. Will not spill but return 0.\n",
      "24/03/22 07:25:57 WARN RowBasedKeyValueBatch: Calling spill() on RowBasedKeyValueBatch. Will not spill but return 0.\n",
      "24/03/22 07:25:57 WARN RowBasedKeyValueBatch: Calling spill() on RowBasedKeyValueBatch. Will not spill but return 0.\n",
      "24/03/22 07:25:57 WARN RowBasedKeyValueBatch: Calling spill() on RowBasedKeyValueBatch. Will not spill but return 0.\n",
      "24/03/22 07:25:57 WARN RowBasedKeyValueBatch: Calling spill() on RowBasedKeyValueBatch. Will not spill but return 0.\n",
      "24/03/22 07:25:57 WARN RowBasedKeyValueBatch: Calling spill() on RowBasedKeyValueBatch. Will not spill but return 0.\n",
      "24/03/22 07:25:57 WARN RowBasedKeyValueBatch: Calling spill() on RowBasedKeyValueBatch. Will not spill but return 0.\n",
      "24/03/22 07:26:00 WARN RowBasedKeyValueBatch: Calling spill() on RowBasedKeyValueBatch. Will not spill but return 0.\n",
      "24/03/22 07:26:00 WARN RowBasedKeyValueBatch: Calling spill() on RowBasedKeyValueBatch. Will not spill but return 0.\n",
      "24/03/22 07:26:01 WARN RowBasedKeyValueBatch: Calling spill() on RowBasedKeyValueBatch. Will not spill but return 0.\n",
      "24/03/22 07:26:01 WARN RowBasedKeyValueBatch: Calling spill() on RowBasedKeyValueBatch. Will not spill but return 0.\n",
      "24/03/22 07:26:02 WARN RowBasedKeyValueBatch: Calling spill() on RowBasedKeyValueBatch. Will not spill but return 0.\n",
      "24/03/22 07:26:02 WARN RowBasedKeyValueBatch: Calling spill() on RowBasedKeyValueBatch. Will not spill but return 0.\n",
      "24/03/22 07:26:02 WARN RowBasedKeyValueBatch: Calling spill() on RowBasedKeyValueBatch. Will not spill but return 0.\n",
      "24/03/22 07:26:02 WARN RowBasedKeyValueBatch: Calling spill() on RowBasedKeyValueBatch. Will not spill but return 0.\n",
      "24/03/22 07:26:05 WARN RowBasedKeyValueBatch: Calling spill() on RowBasedKeyValueBatch. Will not spill but return 0.\n",
      "24/03/22 07:26:05 WARN RowBasedKeyValueBatch: Calling spill() on RowBasedKeyValueBatch. Will not spill but return 0.\n",
      "24/03/22 07:26:06 WARN RowBasedKeyValueBatch: Calling spill() on RowBasedKeyValueBatch. Will not spill but return 0.\n",
      "24/03/22 07:26:06 WARN RowBasedKeyValueBatch: Calling spill() on RowBasedKeyValueBatch. Will not spill but return 0.\n",
      "24/03/22 07:26:06 WARN RowBasedKeyValueBatch: Calling spill() on RowBasedKeyValueBatch. Will not spill but return 0.\n",
      "24/03/22 07:26:06 WARN RowBasedKeyValueBatch: Calling spill() on RowBasedKeyValueBatch. Will not spill but return 0.\n",
      "24/03/22 07:26:07 WARN RowBasedKeyValueBatch: Calling spill() on RowBasedKeyValueBatch. Will not spill but return 0.\n",
      "24/03/22 07:26:07 WARN RowBasedKeyValueBatch: Calling spill() on RowBasedKeyValueBatch. Will not spill but return 0.\n",
      "24/03/22 07:26:10 WARN RowBasedKeyValueBatch: Calling spill() on RowBasedKeyValueBatch. Will not spill but return 0.\n",
      "24/03/22 07:26:10 WARN RowBasedKeyValueBatch: Calling spill() on RowBasedKeyValueBatch. Will not spill but return 0.\n",
      "24/03/22 07:26:11 WARN RowBasedKeyValueBatch: Calling spill() on RowBasedKeyValueBatch. Will not spill but return 0.\n",
      "24/03/22 07:26:11 WARN RowBasedKeyValueBatch: Calling spill() on RowBasedKeyValueBatch. Will not spill but return 0.\n",
      "24/03/22 07:26:11 WARN RowBasedKeyValueBatch: Calling spill() on RowBasedKeyValueBatch. Will not spill but return 0.\n",
      "24/03/22 07:26:11 WARN RowBasedKeyValueBatch: Calling spill() on RowBasedKeyValueBatch. Will not spill but return 0.\n",
      "24/03/22 07:26:12 WARN RowBasedKeyValueBatch: Calling spill() on RowBasedKeyValueBatch. Will not spill but return 0.\n",
      "24/03/22 07:26:12 WARN RowBasedKeyValueBatch: Calling spill() on RowBasedKeyValueBatch. Will not spill but return 0.\n",
      "24/03/22 07:26:15 WARN RowBasedKeyValueBatch: Calling spill() on RowBasedKeyValueBatch. Will not spill but return 0.\n",
      "24/03/22 07:26:15 WARN RowBasedKeyValueBatch: Calling spill() on RowBasedKeyValueBatch. Will not spill but return 0.\n",
      "24/03/22 07:26:15 WARN RowBasedKeyValueBatch: Calling spill() on RowBasedKeyValueBatch. Will not spill but return 0.\n",
      "24/03/22 07:26:15 WARN RowBasedKeyValueBatch: Calling spill() on RowBasedKeyValueBatch. Will not spill but return 0.\n",
      "24/03/22 07:26:16 WARN RowBasedKeyValueBatch: Calling spill() on RowBasedKeyValueBatch. Will not spill but return 0.\n",
      "24/03/22 07:26:16 WARN RowBasedKeyValueBatch: Calling spill() on RowBasedKeyValueBatch. Will not spill but return 0.\n",
      "24/03/22 07:26:16 WARN RowBasedKeyValueBatch: Calling spill() on RowBasedKeyValueBatch. Will not spill but return 0.\n",
      "24/03/22 07:26:16 WARN RowBasedKeyValueBatch: Calling spill() on RowBasedKeyValueBatch. Will not spill but return 0.\n",
      "24/03/22 07:26:19 WARN RowBasedKeyValueBatch: Calling spill() on RowBasedKeyValueBatch. Will not spill but return 0.\n",
      "24/03/22 07:26:19 WARN RowBasedKeyValueBatch: Calling spill() on RowBasedKeyValueBatch. Will not spill but return 0.\n",
      "24/03/22 07:26:19 WARN RowBasedKeyValueBatch: Calling spill() on RowBasedKeyValueBatch. Will not spill but return 0.\n",
      "24/03/22 07:26:19 WARN RowBasedKeyValueBatch: Calling spill() on RowBasedKeyValueBatch. Will not spill but return 0.\n",
      "24/03/22 07:26:20 WARN RowBasedKeyValueBatch: Calling spill() on RowBasedKeyValueBatch. Will not spill but return 0.\n",
      "24/03/22 07:26:20 WARN RowBasedKeyValueBatch: Calling spill() on RowBasedKeyValueBatch. Will not spill but return 0.\n",
      "24/03/22 07:26:20 WARN RowBasedKeyValueBatch: Calling spill() on RowBasedKeyValueBatch. Will not spill but return 0.\n",
      "24/03/22 07:26:20 WARN RowBasedKeyValueBatch: Calling spill() on RowBasedKeyValueBatch. Will not spill but return 0.\n",
      "24/03/22 07:26:23 WARN RowBasedKeyValueBatch: Calling spill() on RowBasedKeyValueBatch. Will not spill but return 0.\n",
      "24/03/22 07:26:23 WARN RowBasedKeyValueBatch: Calling spill() on RowBasedKeyValueBatch. Will not spill but return 0.\n",
      "24/03/22 07:26:24 WARN RowBasedKeyValueBatch: Calling spill() on RowBasedKeyValueBatch. Will not spill but return 0.\n",
      "24/03/22 07:26:24 WARN RowBasedKeyValueBatch: Calling spill() on RowBasedKeyValueBatch. Will not spill but return 0.\n",
      "24/03/22 07:26:24 WARN RowBasedKeyValueBatch: Calling spill() on RowBasedKeyValueBatch. Will not spill but return 0.\n",
      "24/03/22 07:26:24 WARN RowBasedKeyValueBatch: Calling spill() on RowBasedKeyValueBatch. Will not spill but return 0.\n",
      "24/03/22 07:26:24 WARN RowBasedKeyValueBatch: Calling spill() on RowBasedKeyValueBatch. Will not spill but return 0.\n",
      "24/03/22 07:26:24 WARN RowBasedKeyValueBatch: Calling spill() on RowBasedKeyValueBatch. Will not spill but return 0.\n",
      "24/03/22 07:26:27 WARN RowBasedKeyValueBatch: Calling spill() on RowBasedKeyValueBatch. Will not spill but return 0.\n",
      "24/03/22 07:26:27 WARN RowBasedKeyValueBatch: Calling spill() on RowBasedKeyValueBatch. Will not spill but return 0.\n",
      "24/03/22 07:26:28 WARN RowBasedKeyValueBatch: Calling spill() on RowBasedKeyValueBatch. Will not spill but return 0.\n",
      "24/03/22 07:26:28 WARN RowBasedKeyValueBatch: Calling spill() on RowBasedKeyValueBatch. Will not spill but return 0.\n",
      "24/03/22 07:26:29 WARN RowBasedKeyValueBatch: Calling spill() on RowBasedKeyValueBatch. Will not spill but return 0.\n",
      "24/03/22 07:26:29 WARN RowBasedKeyValueBatch: Calling spill() on RowBasedKeyValueBatch. Will not spill but return 0.\n",
      "24/03/22 07:26:29 WARN RowBasedKeyValueBatch: Calling spill() on RowBasedKeyValueBatch. Will not spill but return 0.\n",
      "24/03/22 07:26:29 WARN RowBasedKeyValueBatch: Calling spill() on RowBasedKeyValueBatch. Will not spill but return 0.\n",
      "24/03/22 07:26:32 WARN RowBasedKeyValueBatch: Calling spill() on RowBasedKeyValueBatch. Will not spill but return 0.\n",
      "24/03/22 07:26:32 WARN RowBasedKeyValueBatch: Calling spill() on RowBasedKeyValueBatch. Will not spill but return 0.\n",
      "24/03/22 07:26:33 WARN RowBasedKeyValueBatch: Calling spill() on RowBasedKeyValueBatch. Will not spill but return 0.\n",
      "24/03/22 07:26:33 WARN RowBasedKeyValueBatch: Calling spill() on RowBasedKeyValueBatch. Will not spill but return 0.\n",
      "24/03/22 07:26:34 WARN RowBasedKeyValueBatch: Calling spill() on RowBasedKeyValueBatch. Will not spill but return 0.\n",
      "24/03/22 07:26:34 WARN RowBasedKeyValueBatch: Calling spill() on RowBasedKeyValueBatch. Will not spill but return 0.\n",
      "24/03/22 07:26:34 WARN RowBasedKeyValueBatch: Calling spill() on RowBasedKeyValueBatch. Will not spill but return 0.\n",
      "24/03/22 07:26:34 WARN RowBasedKeyValueBatch: Calling spill() on RowBasedKeyValueBatch. Will not spill but return 0.\n",
      "24/03/22 07:26:38 WARN RowBasedKeyValueBatch: Calling spill() on RowBasedKeyValueBatch. Will not spill but return 0.\n",
      "24/03/22 07:26:38 WARN RowBasedKeyValueBatch: Calling spill() on RowBasedKeyValueBatch. Will not spill but return 0.\n",
      "24/03/22 07:26:38 WARN RowBasedKeyValueBatch: Calling spill() on RowBasedKeyValueBatch. Will not spill but return 0.\n",
      "24/03/22 07:26:38 WARN RowBasedKeyValueBatch: Calling spill() on RowBasedKeyValueBatch. Will not spill but return 0.\n",
      "24/03/22 07:26:39 WARN RowBasedKeyValueBatch: Calling spill() on RowBasedKeyValueBatch. Will not spill but return 0.\n",
      "24/03/22 07:26:39 WARN RowBasedKeyValueBatch: Calling spill() on RowBasedKeyValueBatch. Will not spill but return 0.\n",
      "24/03/22 07:26:39 WARN RowBasedKeyValueBatch: Calling spill() on RowBasedKeyValueBatch. Will not spill but return 0.\n",
      "24/03/22 07:26:39 WARN RowBasedKeyValueBatch: Calling spill() on RowBasedKeyValueBatch. Will not spill but return 0.\n",
      "24/03/22 07:26:43 WARN RowBasedKeyValueBatch: Calling spill() on RowBasedKeyValueBatch. Will not spill but return 0.\n",
      "24/03/22 07:26:44 WARN RowBasedKeyValueBatch: Calling spill() on RowBasedKeyValueBatch. Will not spill but return 0.\n",
      "24/03/22 07:26:44 WARN RowBasedKeyValueBatch: Calling spill() on RowBasedKeyValueBatch. Will not spill but return 0.\n",
      "24/03/22 07:26:44 WARN RowBasedKeyValueBatch: Calling spill() on RowBasedKeyValueBatch. Will not spill but return 0.\n",
      "24/03/22 07:26:44 WARN RowBasedKeyValueBatch: Calling spill() on RowBasedKeyValueBatch. Will not spill but return 0.\n",
      "24/03/22 07:26:44 WARN RowBasedKeyValueBatch: Calling spill() on RowBasedKeyValueBatch. Will not spill but return 0.\n",
      "24/03/22 07:26:44 WARN RowBasedKeyValueBatch: Calling spill() on RowBasedKeyValueBatch. Will not spill but return 0.\n",
      "24/03/22 07:26:47 WARN RowBasedKeyValueBatch: Calling spill() on RowBasedKeyValueBatch. Will not spill but return 0.\n",
      "24/03/22 07:26:48 WARN RowBasedKeyValueBatch: Calling spill() on RowBasedKeyValueBatch. Will not spill but return 0.\n",
      "24/03/22 07:26:48 WARN RowBasedKeyValueBatch: Calling spill() on RowBasedKeyValueBatch. Will not spill but return 0.\n",
      "24/03/22 07:26:49 WARN RowBasedKeyValueBatch: Calling spill() on RowBasedKeyValueBatch. Will not spill but return 0.\n",
      "24/03/22 07:26:49 WARN RowBasedKeyValueBatch: Calling spill() on RowBasedKeyValueBatch. Will not spill but return 0.\n",
      "24/03/22 07:26:49 WARN RowBasedKeyValueBatch: Calling spill() on RowBasedKeyValueBatch. Will not spill but return 0.\n",
      "24/03/22 07:26:52 WARN RowBasedKeyValueBatch: Calling spill() on RowBasedKeyValueBatch. Will not spill but return 0.\n",
      "24/03/22 07:26:52 WARN RowBasedKeyValueBatch: Calling spill() on RowBasedKeyValueBatch. Will not spill but return 0.\n",
      "24/03/22 07:26:52 WARN RowBasedKeyValueBatch: Calling spill() on RowBasedKeyValueBatch. Will not spill but return 0.\n",
      "24/03/22 07:26:52 WARN RowBasedKeyValueBatch: Calling spill() on RowBasedKeyValueBatch. Will not spill but return 0.\n",
      "24/03/22 07:26:53 WARN RowBasedKeyValueBatch: Calling spill() on RowBasedKeyValueBatch. Will not spill but return 0.\n",
      "24/03/22 07:26:53 WARN RowBasedKeyValueBatch: Calling spill() on RowBasedKeyValueBatch. Will not spill but return 0.\n",
      "24/03/22 07:26:53 WARN RowBasedKeyValueBatch: Calling spill() on RowBasedKeyValueBatch. Will not spill but return 0.\n",
      "24/03/22 07:26:53 WARN RowBasedKeyValueBatch: Calling spill() on RowBasedKeyValueBatch. Will not spill but return 0.\n",
      "24/03/22 07:26:56 WARN RowBasedKeyValueBatch: Calling spill() on RowBasedKeyValueBatch. Will not spill but return 0.\n",
      "24/03/22 07:26:57 WARN RowBasedKeyValueBatch: Calling spill() on RowBasedKeyValueBatch. Will not spill but return 0.\n",
      "24/03/22 07:26:57 WARN RowBasedKeyValueBatch: Calling spill() on RowBasedKeyValueBatch. Will not spill but return 0.\n",
      "24/03/22 07:26:57 WARN RowBasedKeyValueBatch: Calling spill() on RowBasedKeyValueBatch. Will not spill but return 0.\n",
      "24/03/22 07:26:57 WARN RowBasedKeyValueBatch: Calling spill() on RowBasedKeyValueBatch. Will not spill but return 0.\n",
      "24/03/22 07:26:58 WARN RowBasedKeyValueBatch: Calling spill() on RowBasedKeyValueBatch. Will not spill but return 0.\n",
      "24/03/22 07:26:58 WARN RowBasedKeyValueBatch: Calling spill() on RowBasedKeyValueBatch. Will not spill but return 0.\n",
      "[Stage 10:=======================================================>(66 + 1) / 67]\r"
     ]
    },
    {
     "name": "stdout",
     "output_type": "stream",
     "text": [
      "Cantidad de filas duplicadas: 733927\n"
     ]
    },
    {
     "name": "stderr",
     "output_type": "stream",
     "text": [
      "                                                                                \r"
     ]
    }
   ],
   "source": [
    "data01duplicados01 = data01.count() - data01.dropDuplicates().count()\n",
    "print(\"Cantidad de filas duplicadas:\", data01duplicados01)"
   ]
  },
  {
   "cell_type": "code",
   "execution_count": 17,
   "id": "f191aead-f5de-4342-a04e-529cf809845f",
   "metadata": {
    "scrolled": true,
    "tags": []
   },
   "outputs": [
    {
     "name": "stdout",
     "output_type": "stream",
     "text": [
      "+----------------------------+-----------+--------------------+--------------+------------+--------------------+---------------+----------------------+---------+-----------------+-----------------------------------+--------------------------------------------------------------------------------------------------------------------------------------------------------------------------------------------------------------------------------+----------------------+--------------------------------+---------------------------+------------------------------------------------------+-----------------------------------------------------+-----------------------------------------------+------------------------------------+-------------------------------------+-----------+-------------------------+--------------------------------------------+--------+------------------+--------------------------------+------------------------------+--------------------------+-----------------------------------+-----------------------------------+---------------------+----------------------------------+---------------------------------+------------------------------------+---------------------------+-------------------+------------------------------+---------------------------------+---------------+------------------------+---------------------------+----------+---------------+---------------+----------------------+----------------+------------------+------------------------+----------------------+-------------------------------+----------------------------+-----------------------------+------------------------------+-----------------------+-------------------+----------------------+-------------------------------------------------------------------------------------------------+--------------+--------------+\n",
      "|Entidad                     |Nit Entidad|Departamento Entidad|Ciudad Entidad|OrdenEntidad|Entidad Centralizada|ID del Proceso |Referencia del Proceso|PCI      |ID del Portafolio|Nombre del Procedimiento           |Descripción del Procedimiento                                                                                                                                                                                                   |Fase                  |Fecha de Publicacion del Proceso|Fecha de Ultima Publicación|Fecha de Publicacion (Fase Planeacion Precalificacion)|Fecha de Publicacion (Fase Seleccion Precalificacion)|Fecha de Publicacion (Manifestacion de Interes)|Fecha de Publicacion (Fase Borrador)|Fecha de Publicacion (Fase Seleccion)|Precio Base|Modalidad de Contratacion|Justificación Modalidad de Contratación     |Duracion|Unidad de Duracion|Fecha de Recepcion de Respuestas|Fecha de Apertura de Respuesta|Fecha de Apertura Efectiva|Ciudad de la Unidad de Contratación|Nombre de la Unidad de Contratación|Proveedores Invitados|Proveedores con Invitacion Directa|Visualizaciones del Procedimiento|Proveedores que Manifestaron Interes|Respuestas al Procedimiento|Respuestas Externas|Conteo de Respuestas a Ofertas|Proveedores Unicos con Respuestas|Numero de Lotes|Estado del Procedimiento|ID Estado del Procedimiento|Adjudicado|ID Adjudicacion|CodigoProveedor|Departamento Proveedor|Ciudad Proveedor|Fecha Adjudicacion|Valor Total Adjudicacion|Nombre del Adjudicador|Nombre del Proveedor Adjudicado|NIT del Proveedor Adjudicado|Codigo Principal de Categoria|Estado de Apertura del Proceso|Tipo de Contrato       |Subtipo de Contrato|Categorias Adicionales|URLProceso                                                                                       |Codigo Entidad|Estado Resumen|\n",
      "+----------------------------+-----------+--------------------+--------------+------------+--------------------+---------------+----------------------+---------+-----------------+-----------------------------------+--------------------------------------------------------------------------------------------------------------------------------------------------------------------------------------------------------------------------------+----------------------+--------------------------------+---------------------------+------------------------------------------------------+-----------------------------------------------------+-----------------------------------------------+------------------------------------+-------------------------------------+-----------+-------------------------+--------------------------------------------+--------+------------------+--------------------------------+------------------------------+--------------------------+-----------------------------------+-----------------------------------+---------------------+----------------------------------+---------------------------------+------------------------------------+---------------------------+-------------------+------------------------------+---------------------------------+---------------+------------------------+---------------------------+----------+---------------+---------------+----------------------+----------------+------------------+------------------------+----------------------+-------------------------------+----------------------------+-----------------------------+------------------------------+-----------------------+-------------------+----------------------+-------------------------------------------------------------------------------------------------+--------------+--------------+\n",
      "|MUNICIPIO DE ARMENIA QUINDIO|890000464  |Quindío             |Armenia       |Territorial |Centralizada        |CO1.REQ.4741878|SGC-CD-2023-3320      |701365033|CO1.BDOS.4636149 |CONTRATO DE PRESTACIÓN DE SERVICIOS|CONTRATO DE PRESTACIÓN DE SERVICIOS PROFESIONALES PARA BRINDAR ACOMPAÑAMIENTO JURIDICO A LOS PROCESOS ATINENTES A LA LEY 1801 DE 2016 Y QUE SON COMPETENCIA DE LA SECRETARÍA DE GOBIERNO Y CONVIVENCIA DEL MUNICIPIO DE ARMENIA.|Presentación de oferta|06/27/2023                      |06/27/2023                 |NULL                                                  |NULL                                                 |NULL                                           |NULL                                |06/27/2023                           |13370000   |Contratación directa     |Servicios profesionales y apoyo a la gestión|150     |día(s)            |NULL                            |NULL                          |NULL                      |Armenia                            |SECRETARIA DE GOBIERNO             |0                    |0                                 |0                                |0                                   |0                          |0                  |0                             |0                                |0              |Seleccionado            |70                         |No        |No Adjudicado  |709567507      |Quindío               |Armenia         |NULL              |0                       |No Adjudicado         |MARIO ALEJANDRO CIRO MORALES   |1094908622                  |V1.80111607                  |Abierto                       |Prestación de servicios|No Definido        |No definido           |https://community.secop.gov.co/Public/Tendering/OpportunityDetail/Index?noticeUID=CO1.NTC.4643192|701365033     |Adjudicado    |\n",
      "+----------------------------+-----------+--------------------+--------------+------------+--------------------+---------------+----------------------+---------+-----------------+-----------------------------------+--------------------------------------------------------------------------------------------------------------------------------------------------------------------------------------------------------------------------------+----------------------+--------------------------------+---------------------------+------------------------------------------------------+-----------------------------------------------------+-----------------------------------------------+------------------------------------+-------------------------------------+-----------+-------------------------+--------------------------------------------+--------+------------------+--------------------------------+------------------------------+--------------------------+-----------------------------------+-----------------------------------+---------------------+----------------------------------+---------------------------------+------------------------------------+---------------------------+-------------------+------------------------------+---------------------------------+---------------+------------------------+---------------------------+----------+---------------+---------------+----------------------+----------------+------------------+------------------------+----------------------+-------------------------------+----------------------------+-----------------------------+------------------------------+-----------------------+-------------------+----------------------+-------------------------------------------------------------------------------------------------+--------------+--------------+\n",
      "only showing top 1 row\n",
      "\n"
     ]
    }
   ],
   "source": [
    "# Muestra el DataFrame resultante\n",
    "data01.show(n=1, truncate=False)"
   ]
  },
  {
   "cell_type": "code",
   "execution_count": 18,
   "id": "1c30f762-98c6-4583-be68-3d3016fd887d",
   "metadata": {
    "scrolled": true,
    "tags": []
   },
   "outputs": [
    {
     "data": {
      "text/plain": [
       "DataFrame[summary: string, Entidad: string, Nit Entidad: string, Departamento Entidad: string, Ciudad Entidad: string, OrdenEntidad: string, Entidad Centralizada: string, ID del Proceso: string, Referencia del Proceso: string, PCI: string, ID del Portafolio: string, Nombre del Procedimiento: string, Descripción del Procedimiento: string, Fase: string, Fecha de Publicacion del Proceso: string, Fecha de Ultima Publicación: string, Fecha de Publicacion (Fase Planeacion Precalificacion): string, Fecha de Publicacion (Fase Seleccion Precalificacion): string, Fecha de Publicacion (Manifestacion de Interes): string, Fecha de Publicacion (Fase Borrador): string, Fecha de Publicacion (Fase Seleccion): string, Precio Base: string, Modalidad de Contratacion: string, Justificación Modalidad de Contratación: string, Duracion: string, Unidad de Duracion: string, Fecha de Recepcion de Respuestas: string, Fecha de Apertura de Respuesta: string, Fecha de Apertura Efectiva: string, Ciudad de la Unidad de Contratación: string, Nombre de la Unidad de Contratación: string, Proveedores Invitados: string, Proveedores con Invitacion Directa: string, Visualizaciones del Procedimiento: string, Proveedores que Manifestaron Interes: string, Respuestas al Procedimiento: string, Respuestas Externas: string, Conteo de Respuestas a Ofertas: string, Proveedores Unicos con Respuestas: string, Numero de Lotes: string, Estado del Procedimiento: string, ID Estado del Procedimiento: string, Adjudicado: string, ID Adjudicacion: string, CodigoProveedor: string, Departamento Proveedor: string, Ciudad Proveedor: string, Fecha Adjudicacion: string, Valor Total Adjudicacion: string, Nombre del Adjudicador: string, Nombre del Proveedor Adjudicado: string, NIT del Proveedor Adjudicado: string, Codigo Principal de Categoria: string, Estado de Apertura del Proceso: string, Tipo de Contrato: string, Subtipo de Contrato: string, Categorias Adicionales: string, URLProceso: string, Codigo Entidad: string, Estado Resumen: string]"
      ]
     },
     "execution_count": 18,
     "metadata": {},
     "output_type": "execute_result"
    }
   ],
   "source": [
    "data01.describe()"
   ]
  },
  {
   "cell_type": "code",
   "execution_count": 19,
   "id": "808c63dd-ddc8-41be-a33a-52169c2e7bd1",
   "metadata": {
    "scrolled": true,
    "tags": []
   },
   "outputs": [
    {
     "data": {
      "text/plain": [
       "[Row(Entidad='MUNICIPIO DE ARMENIA QUINDIO', Nit Entidad='890000464', Departamento Entidad='Quindío', Ciudad Entidad='Armenia', OrdenEntidad='Territorial', Entidad Centralizada='Centralizada', ID del Proceso='CO1.REQ.4741878', Referencia del Proceso='SGC-CD-2023-3320', PCI='701365033', ID del Portafolio='CO1.BDOS.4636149', Nombre del Procedimiento='CONTRATO DE PRESTACIÓN DE SERVICIOS', Descripción del Procedimiento='CONTRATO DE PRESTACIÓN DE SERVICIOS PROFESIONALES PARA BRINDAR ACOMPAÑAMIENTO JURIDICO A LOS PROCESOS ATINENTES A LA LEY 1801 DE 2016 Y QUE SON COMPETENCIA DE LA SECRETARÍA DE GOBIERNO Y CONVIVENCIA DEL MUNICIPIO DE ARMENIA.', Fase='Presentación de oferta', Fecha de Publicacion del Proceso='06/27/2023', Fecha de Ultima Publicación='06/27/2023', Fecha de Publicacion (Fase Planeacion Precalificacion)=None, Fecha de Publicacion (Fase Seleccion Precalificacion)=None, Fecha de Publicacion (Manifestacion de Interes)=None, Fecha de Publicacion (Fase Borrador)=None, Fecha de Publicacion (Fase Seleccion)='06/27/2023', Precio Base='13370000', Modalidad de Contratacion='Contratación directa', Justificación Modalidad de Contratación='Servicios profesionales y apoyo a la gestión', Duracion='150', Unidad de Duracion='día(s)', Fecha de Recepcion de Respuestas=None, Fecha de Apertura de Respuesta=None, Fecha de Apertura Efectiva=None, Ciudad de la Unidad de Contratación='Armenia', Nombre de la Unidad de Contratación='SECRETARIA DE GOBIERNO', Proveedores Invitados='0', Proveedores con Invitacion Directa='0', Visualizaciones del Procedimiento='0', Proveedores que Manifestaron Interes='0', Respuestas al Procedimiento='0', Respuestas Externas='0', Conteo de Respuestas a Ofertas='0', Proveedores Unicos con Respuestas='0', Numero de Lotes='0', Estado del Procedimiento='Seleccionado', ID Estado del Procedimiento='70', Adjudicado='No', ID Adjudicacion='No Adjudicado', CodigoProveedor='709567507', Departamento Proveedor='Quindío', Ciudad Proveedor='Armenia', Fecha Adjudicacion=None, Valor Total Adjudicacion='0', Nombre del Adjudicador='No Adjudicado', Nombre del Proveedor Adjudicado='MARIO ALEJANDRO CIRO MORALES', NIT del Proveedor Adjudicado='1094908622', Codigo Principal de Categoria='V1.80111607', Estado de Apertura del Proceso='Abierto', Tipo de Contrato='Prestación de servicios', Subtipo de Contrato='No Definido', Categorias Adicionales='No definido', URLProceso='https://community.secop.gov.co/Public/Tendering/OpportunityDetail/Index?noticeUID=CO1.NTC.4643192', Codigo Entidad='701365033', Estado Resumen='Adjudicado')]"
      ]
     },
     "execution_count": 19,
     "metadata": {},
     "output_type": "execute_result"
    }
   ],
   "source": [
    "data01.head(1)"
   ]
  },
  {
   "cell_type": "code",
   "execution_count": 20,
   "id": "044ec91d-24a4-48a1-a768-dfbdd5ea55af",
   "metadata": {
    "tags": []
   },
   "outputs": [],
   "source": [
    "data01agrupar01 = data01.groupBy(\"Tipo de Contrato\")\n",
    "data01cantidad01 = data01agrupar01.count()\n",
    "data01cantidad01 = data01cantidad01.orderBy(desc(\"count\"))"
   ]
  },
  {
   "cell_type": "code",
   "execution_count": 21,
   "id": "71e94869-6d8d-4dda-8ade-4548fb06c30c",
   "metadata": {
    "tags": []
   },
   "outputs": [
    {
     "name": "stderr",
     "output_type": "stream",
     "text": [
      "[Stage 16:======================================================> (41 + 1) / 42]\r"
     ]
    },
    {
     "name": "stdout",
     "output_type": "stream",
     "text": [
      "+--------------------------+-------+\n",
      "|Tipo de Contrato          |count  |\n",
      "+--------------------------+-------+\n",
      "|Prestación de servicios   |3078131|\n",
      "|NULL                      |1514017|\n",
      "|Decreto 092 de 2017       |519652 |\n",
      "|Suministros               |403405 |\n",
      "|Otro                      |233554 |\n",
      "|Compraventa               |230974 |\n",
      "|Acuerdo Marco de Precios  |159927 |\n",
      "|No                        |91964  |\n",
      "|Obra                      |82271  |\n",
      "|Arrendamiento de inmuebles|30273  |\n",
      "|Interventoría             |20095  |\n",
      "|Consultoría               |16725  |\n",
      "|Seguros                   |16706  |\n",
      "|No Especificado           |12479  |\n",
      "|Comodato                  |8959   |\n",
      "|Arrendamiento de muebles  |4545   |\n",
      "|Venta muebles             |2831   |\n",
      "|Servicios financieros     |2512   |\n",
      "|Concesión                 |1297   |\n",
      "|Asociación Público Privada|1135   |\n",
      "+--------------------------+-------+\n",
      "only showing top 20 rows\n",
      "\n"
     ]
    },
    {
     "name": "stderr",
     "output_type": "stream",
     "text": [
      "                                                                                \r"
     ]
    }
   ],
   "source": [
    "data01cantidad01.show(truncate=False)"
   ]
  },
  {
   "cell_type": "code",
   "execution_count": 22,
   "id": "784007ba-3bb0-47c0-bf2a-ebd16ac1fb81",
   "metadata": {
    "tags": []
   },
   "outputs": [],
   "source": [
    "data01agrupar02 = data01.groupBy(\"Estado del Procedimiento\")\n",
    "data01cantidad02 = data01agrupar02.count()\n",
    "data01cantidad02 = data01cantidad02.orderBy(desc(\"count\"))"
   ]
  },
  {
   "cell_type": "code",
   "execution_count": 23,
   "id": "9efbb42b-227c-47f1-8853-8288310cdc64",
   "metadata": {
    "tags": []
   },
   "outputs": [
    {
     "name": "stderr",
     "output_type": "stream",
     "text": [
      "[Stage 19:======================================================> (41 + 1) / 42]\r"
     ]
    },
    {
     "name": "stdout",
     "output_type": "stream",
     "text": [
      "+------------------------+-------+\n",
      "|Estado del Procedimiento|count  |\n",
      "+------------------------+-------+\n",
      "|Seleccionado            |3532674|\n",
      "|NULL                    |1078865|\n",
      "|Publicado               |919677 |\n",
      "|Evaluación              |285709 |\n",
      "|Cancelado               |112576 |\n",
      "|No Definido             |109255 |\n",
      "|Borrador                |32828  |\n",
      "|Abierto                 |28488  |\n",
      "|No Adjudicado           |13642  |\n",
      "|Activo                  |4948   |\n",
      "|0                       |4814   |\n",
      "|En aprobación           |2302   |\n",
      "|800181797               |359    |\n",
      "|900204791               |262    |\n",
      "|830004892               |181    |\n",
      "|Bogotá                  |180    |\n",
      "|804003003               |173    |\n",
      "|9003607821              |172    |\n",
      "|900204863               |171    |\n",
      "|9017564851              |170    |\n",
      "+------------------------+-------+\n",
      "only showing top 20 rows\n",
      "\n"
     ]
    },
    {
     "name": "stderr",
     "output_type": "stream",
     "text": [
      "                                                                                \r"
     ]
    }
   ],
   "source": [
    "data01cantidad02.show(truncate=False)"
   ]
  },
  {
   "cell_type": "code",
   "execution_count": 24,
   "id": "a7480679-eff0-49ca-9879-553f082fbe2e",
   "metadata": {
    "tags": []
   },
   "outputs": [],
   "source": [
    "data01agrupar03 = data01.groupBy(\"Modalidad de Contratacion\")\n",
    "data01cantidad03 = data01agrupar03.count()\n",
    "data01cantidad03 = data01cantidad03.orderBy(desc(\"count\"))"
   ]
  },
  {
   "cell_type": "code",
   "execution_count": 25,
   "id": "29ce6c77-44fe-4d51-99e7-eeb372c93d68",
   "metadata": {
    "tags": []
   },
   "outputs": [
    {
     "name": "stderr",
     "output_type": "stream",
     "text": [
      "[Stage 22:======================================================> (41 + 1) / 42]\r"
     ]
    },
    {
     "name": "stdout",
     "output_type": "stream",
     "text": [
      "+-----------------------------------------------------------+-------+\n",
      "|Modalidad de Contratacion                                  |count  |\n",
      "+-----------------------------------------------------------+-------+\n",
      "|Contratación directa                                       |2253800|\n",
      "|Contratación régimen especial                              |1361438|\n",
      "|NULL                                                       |1078363|\n",
      "|0                                                          |396962 |\n",
      "|Mínima cuantía                                             |315130 |\n",
      "|Contratación régimen especial (con ofertas)                |191034 |\n",
      "|Licitación Pública Acuerdo Marco de Precios                |159910 |\n",
      "|Selección abreviada subasta inversa                        |150566 |\n",
      "|Selección Abreviada de Menor Cuantía                       |140904 |\n",
      "|Solicitud de información a los Proveedores                 |100097 |\n",
      "|Contratación Directa (con ofertas)                         |95831  |\n",
      "|Licitación pública                                         |56226  |\n",
      "|No Definido                                                |29258  |\n",
      "|Licitación pública Obra Publica                            |24095  |\n",
      "|CCE-20-Concurso_Meritos_Sin_Lista_Corta_1Sobre             |15527  |\n",
      "|Concurso de méritos abierto                                |14908  |\n",
      "|421                                                        |7225   |\n",
      "|Subasta de prueba                                          |4014   |\n",
      "|Seleccion Abreviada Menor Cuantia Sin Manifestacion Interes|3401   |\n",
      "|1                                                          |3372   |\n",
      "+-----------------------------------------------------------+-------+\n",
      "only showing top 20 rows\n",
      "\n"
     ]
    },
    {
     "name": "stderr",
     "output_type": "stream",
     "text": [
      "                                                                                \r"
     ]
    }
   ],
   "source": [
    "data01graficar01 = data01cantidad03.show(truncate=False)\n",
    "data01graficar01"
   ]
  },
  {
   "cell_type": "code",
   "execution_count": 26,
   "id": "aaf91cab-7f63-4ff1-b375-a83bb50826cc",
   "metadata": {
    "tags": []
   },
   "outputs": [
    {
     "data": {
      "text/plain": [
       "NoneType"
      ]
     },
     "execution_count": 26,
     "metadata": {},
     "output_type": "execute_result"
    }
   ],
   "source": [
    "type(data01graficar01)"
   ]
  },
  {
   "cell_type": "code",
   "execution_count": 27,
   "id": "b7c32ea9-d63c-4849-aad2-1d22e7b7f17c",
   "metadata": {
    "tags": []
   },
   "outputs": [
    {
     "name": "stderr",
     "output_type": "stream",
     "text": [
      "[Stage 25:======================================================> (41 + 1) / 42]\r"
     ]
    },
    {
     "name": "stdout",
     "output_type": "stream",
     "text": [
      "+-------------------------------------------+------+\n",
      "|Modalidad de Contratacion                  |count |\n",
      "+-------------------------------------------+------+\n",
      "|08/31/2021                                 |3     |\n",
      "|7                                          |743   |\n",
      "|51                                         |36    |\n",
      "|EQUIPO COMPRADOR REGIMEN ESPECIAL          |2     |\n",
      "|15                                         |394   |\n",
      "|54                                         |45    |\n",
      "|GRUPO DE CONTRATACION Y CONVENIOS          |23    |\n",
      "|11                                         |555   |\n",
      "|138                                        |8     |\n",
      "|Licitación Pública Acuerdo Marco de Precios|159910|\n",
      "|El Santuario                               |2     |\n",
      "|29                                         |167   |\n",
      "|69                                         |19    |\n",
      "|REGIONAL VALLE                             |30    |\n",
      "|42                                         |71    |\n",
      "|Oficina Asesora Juridica                   |8     |\n",
      "|3                                          |934   |\n",
      "|Pasto                                      |58    |\n",
      "|30                                         |126   |\n",
      "|113                                        |6     |\n",
      "+-------------------------------------------+------+\n",
      "only showing top 20 rows\n",
      "\n"
     ]
    },
    {
     "name": "stderr",
     "output_type": "stream",
     "text": [
      "                                                                                \r"
     ]
    }
   ],
   "source": [
    "# Realizar un groupby por la columna 'name' y aplicar la función count()\n",
    "data01graficar02 = data01.groupBy(\"Modalidad de Contratacion\").agg(count(\"*\").alias(\"count\"))\n",
    "data01graficar02.show(truncate=False)"
   ]
  },
  {
   "cell_type": "code",
   "execution_count": 28,
   "id": "7180a8b3-75e2-43b8-a779-bd5000246958",
   "metadata": {
    "tags": []
   },
   "outputs": [
    {
     "name": "stderr",
     "output_type": "stream",
     "text": [
      "                                                                                \r"
     ]
    }
   ],
   "source": [
    "#data01graficar02.write.parquet(\"data01graficar02.parquet\")\n",
    "data01graficar02.write.mode(\"overwrite\").format(\"parquet\").save(\"data01graficar02.parquet\")"
   ]
  },
  {
   "cell_type": "code",
   "execution_count": 29,
   "id": "d749beb6-100a-4140-ad43-f024b20a3b49",
   "metadata": {
    "tags": []
   },
   "outputs": [],
   "source": [
    "#data01graficar02 = pd.DataFrame(data01graficar01)\n",
    "#type(data01graficar02)"
   ]
  },
  {
   "cell_type": "code",
   "execution_count": 30,
   "id": "716108f6-9557-4eca-b9d0-90e94957275c",
   "metadata": {
    "tags": []
   },
   "outputs": [
    {
     "name": "stdout",
     "output_type": "stream",
     "text": [
      "+---------------------------------+-----+\n",
      "|Modalidad de Contratacion        |count|\n",
      "+---------------------------------+-----+\n",
      "|08/31/2021                       |3    |\n",
      "|7                                |743  |\n",
      "|51                               |36   |\n",
      "|EQUIPO COMPRADOR REGIMEN ESPECIAL|2    |\n",
      "|15                               |394  |\n",
      "+---------------------------------+-----+\n",
      "only showing top 5 rows\n",
      "\n"
     ]
    }
   ],
   "source": [
    "data03 = spark.read.parquet(\"data01graficar02.parquet\")\n",
    "data03.show(n=5,truncate=False)"
   ]
  },
  {
   "cell_type": "code",
   "execution_count": 31,
   "id": "d50dd55a-63b6-4a1a-bae9-529742a6083e",
   "metadata": {
    "tags": []
   },
   "outputs": [
    {
     "data": {
      "text/plain": [
       "pyspark.sql.dataframe.DataFrame"
      ]
     },
     "execution_count": 31,
     "metadata": {},
     "output_type": "execute_result"
    }
   ],
   "source": [
    "type(data03)"
   ]
  },
  {
   "cell_type": "code",
   "execution_count": 32,
   "id": "b3e775fc-c5cd-41e7-bc82-b9a71d1b6350",
   "metadata": {
    "scrolled": true,
    "tags": []
   },
   "outputs": [],
   "source": [
    "#data04 = spark.read.csv(\"data01graficar02.csv\")\n",
    "#data04.show(truncate=False)"
   ]
  },
  {
   "cell_type": "code",
   "execution_count": 33,
   "id": "4d1dbbf0-4d77-4e44-9297-7b4a4ab5debb",
   "metadata": {},
   "outputs": [],
   "source": [
    "#data03grafico01 = data03.toPandas() # Convertir a Pandas\n",
    "#data03grafico01 = data03grafico01.sort_values(by='count', ascending=False)"
   ]
  },
  {
   "cell_type": "code",
   "execution_count": 34,
   "id": "998898ed-cffb-43fb-9e76-1f2f99c48ea4",
   "metadata": {
    "scrolled": true,
    "tags": []
   },
   "outputs": [],
   "source": [
    "#data03grafico01.head(20)"
   ]
  },
  {
   "cell_type": "code",
   "execution_count": 35,
   "id": "be97bb1d-3309-4090-9fce-1111db4936c4",
   "metadata": {
    "tags": []
   },
   "outputs": [],
   "source": [
    "##data03grafico01.plot.bar(x=\"Modalidad de Contratacion\", y=\"count\", rot=0)\n",
    "# plt.show()"
   ]
  },
  {
   "cell_type": "code",
   "execution_count": 36,
   "id": "347198d3-1e55-4173-ab1b-14a7ed13d82c",
   "metadata": {
    "tags": []
   },
   "outputs": [],
   "source": [
    "#fig = px.scatter(data03grafico01, x=\"count\", y=\"Modalidad de Contratacion\",\n",
    "#\t         size=\"count\",log_x=True, size_max=60)\n",
    "#fig.show()"
   ]
  },
  {
   "cell_type": "markdown",
   "id": "90faa620-d77d-4bdb-92e3-7e9feda48ab8",
   "metadata": {},
   "source": [
    "## Ejemplos Graficos"
   ]
  },
  {
   "cell_type": "markdown",
   "id": "a7445e78-ecf1-4669-ac98-eba59beb3017",
   "metadata": {
    "tags": []
   },
   "source": [
    "https://plotly.com/python/bubble-charts/"
   ]
  },
  {
   "cell_type": "code",
   "execution_count": 37,
   "id": "c85f526f-4914-4a7a-b7ff-7b5ecdf45833",
   "metadata": {
    "tags": []
   },
   "outputs": [],
   "source": [
    "##import plotly.express as px\n",
    "##df = px.data.gapminder()\n",
    "##df.head(1)"
   ]
  },
  {
   "cell_type": "code",
   "execution_count": 38,
   "id": "1ac4d91b-3f37-4bac-815b-085c6845b1b3",
   "metadata": {
    "tags": []
   },
   "outputs": [],
   "source": [
    "#fig = px.scatter(df.query(\"year==2007\"), x=\"gdpPercap\", y=\"lifeExp\",\n",
    "#\t         size=\"pop\", color=\"continent\",\n",
    "#                 hover_name=\"country\", log_x=True, size_max=60)\n",
    "#fig.show()"
   ]
  },
  {
   "cell_type": "code",
   "execution_count": null,
   "id": "d5998afa-ecff-44bd-b13b-fdae638fea5d",
   "metadata": {},
   "outputs": [],
   "source": [
    "# Detiene el temporizador\n",
    "end_time = time.time()\n",
    "\n",
    "# Calcula el tiempo de ejecución\n",
    "time_elapsed = end_time - start_time\n",
    "\n",
    "# Imprime el tiempo de ejecución\n",
    "print(f\"Tiempo de ejecución: {time_elapsed} segundos\")"
   ]
  }
 ],
 "metadata": {
  "kernelspec": {
   "display_name": "Python 3 (ipykernel)",
   "language": "python",
   "name": "python3"
  },
  "language_info": {
   "codemirror_mode": {
    "name": "ipython",
    "version": 3
   },
   "file_extension": ".py",
   "mimetype": "text/x-python",
   "name": "python",
   "nbconvert_exporter": "python",
   "pygments_lexer": "ipython3",
   "version": "3.12.1"
  }
 },
 "nbformat": 4,
 "nbformat_minor": 5
}
