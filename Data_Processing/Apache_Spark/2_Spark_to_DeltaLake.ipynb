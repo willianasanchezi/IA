{
 "cells": [
  {
   "cell_type": "code",
   "execution_count": 8,
   "id": "f71edb3d-1e4e-4ece-8605-c324b9e830c1",
   "metadata": {},
   "outputs": [],
   "source": [
    "#spark.stop()  # Stop the existing session"
   ]
  },
  {
   "cell_type": "code",
   "execution_count": 9,
   "id": "971fc90c-3a34-41a5-afe4-d18df28c9c3d",
   "metadata": {},
   "outputs": [],
   "source": [
    "#!pip install pyspark\n",
    "#!pip install matplotlib\n",
    "#!pip install pandas\n",
    "#!pip install plotly\n",
    "#!pip install delta-spark==3.1.0"
   ]
  },
  {
   "cell_type": "code",
   "execution_count": 69,
   "id": "e2c94da5-cb13-4dbd-a69e-7cd407a7b444",
   "metadata": {},
   "outputs": [],
   "source": [
    "import pyspark\n",
    "\n",
    "from pyspark.sql import SparkSession\n",
    "from pyspark.sql.functions import desc\n",
    "from pyspark.sql.functions import count\n",
    "from delta import *\n",
    "import logging\n",
    "\n",
    "builder = pyspark.sql.SparkSession.builder.appName(\"MyApp\") \\\n",
    "    .config(\"spark.sql.extensions\", \"io.delta.sql.DeltaSparkSessionExtension\") \\\n",
    "    .config(\"spark.sql.catalog.spark_catalog\", \"org.apache.spark.sql.delta.catalog.DeltaCatalog\")\n",
    "\n",
    "spark = configure_spark_with_delta_pip(builder).getOrCreate()"
   ]
  },
  {
   "cell_type": "code",
   "execution_count": 11,
   "id": "708cb3e0-9947-4ffd-8f48-0a4b6ce5ab00",
   "metadata": {},
   "outputs": [],
   "source": [
    "archivo01 = \"/home/dataset/SECOP_II_-_Procesos_de_Contrataci_n_20240320.csv\""
   ]
  },
  {
   "cell_type": "code",
   "execution_count": 12,
   "id": "58d07a53-0b97-4a86-94c3-98eb8899d101",
   "metadata": {},
   "outputs": [
    {
     "name": "stderr",
     "output_type": "stream",
     "text": [
      "                                                                                \r"
     ]
    }
   ],
   "source": [
    "data01 = spark.read.csv(archivo01, header=True, inferSchema=True)"
   ]
  },
  {
   "cell_type": "code",
   "execution_count": 13,
   "id": "7f8f227d-9e23-41ff-ab07-4d08a9dd550b",
   "metadata": {},
   "outputs": [
    {
     "name": "stderr",
     "output_type": "stream",
     "text": [
      "                                                                                \r"
     ]
    },
    {
     "data": {
      "text/plain": [
       "6434461"
      ]
     },
     "execution_count": 13,
     "metadata": {},
     "output_type": "execute_result"
    }
   ],
   "source": [
    "data01.count()"
   ]
  },
  {
   "cell_type": "code",
   "execution_count": 14,
   "id": "48c7ee02-cbb2-465a-b6c6-8f134125da21",
   "metadata": {},
   "outputs": [
    {
     "name": "stdout",
     "output_type": "stream",
     "text": [
      "root\n",
      " |-- Entidad: string (nullable = true)\n",
      " |-- Nit Entidad: string (nullable = true)\n",
      " |-- Departamento Entidad: string (nullable = true)\n",
      " |-- Ciudad Entidad: string (nullable = true)\n",
      " |-- OrdenEntidad: string (nullable = true)\n",
      " |-- Entidad Centralizada: string (nullable = true)\n",
      " |-- ID del Proceso: string (nullable = true)\n",
      " |-- Referencia del Proceso: string (nullable = true)\n",
      " |-- PCI: string (nullable = true)\n",
      " |-- ID del Portafolio: string (nullable = true)\n",
      " |-- Nombre del Procedimiento: string (nullable = true)\n",
      " |-- Descripción del Procedimiento: string (nullable = true)\n",
      " |-- Fase: string (nullable = true)\n",
      " |-- Fecha de Publicacion del Proceso: string (nullable = true)\n",
      " |-- Fecha de Ultima Publicación: string (nullable = true)\n",
      " |-- Fecha de Publicacion (Fase Planeacion Precalificacion): string (nullable = true)\n",
      " |-- Fecha de Publicacion (Fase Seleccion Precalificacion): string (nullable = true)\n",
      " |-- Fecha de Publicacion (Manifestacion de Interes): string (nullable = true)\n",
      " |-- Fecha de Publicacion (Fase Borrador): string (nullable = true)\n",
      " |-- Fecha de Publicacion (Fase Seleccion): string (nullable = true)\n",
      " |-- Precio Base: string (nullable = true)\n",
      " |-- Modalidad de Contratacion: string (nullable = true)\n",
      " |-- Justificación Modalidad de Contratación: string (nullable = true)\n",
      " |-- Duracion: string (nullable = true)\n",
      " |-- Unidad de Duracion: string (nullable = true)\n",
      " |-- Fecha de Recepcion de Respuestas: string (nullable = true)\n",
      " |-- Fecha de Apertura de Respuesta: string (nullable = true)\n",
      " |-- Fecha de Apertura Efectiva: string (nullable = true)\n",
      " |-- Ciudad de la Unidad de Contratación: string (nullable = true)\n",
      " |-- Nombre de la Unidad de Contratación: string (nullable = true)\n",
      " |-- Proveedores Invitados: string (nullable = true)\n",
      " |-- Proveedores con Invitacion Directa: string (nullable = true)\n",
      " |-- Visualizaciones del Procedimiento: string (nullable = true)\n",
      " |-- Proveedores que Manifestaron Interes: string (nullable = true)\n",
      " |-- Respuestas al Procedimiento: string (nullable = true)\n",
      " |-- Respuestas Externas: string (nullable = true)\n",
      " |-- Conteo de Respuestas a Ofertas: string (nullable = true)\n",
      " |-- Proveedores Unicos con Respuestas: string (nullable = true)\n",
      " |-- Numero de Lotes: string (nullable = true)\n",
      " |-- Estado del Procedimiento: string (nullable = true)\n",
      " |-- ID Estado del Procedimiento: string (nullable = true)\n",
      " |-- Adjudicado: string (nullable = true)\n",
      " |-- ID Adjudicacion: string (nullable = true)\n",
      " |-- CodigoProveedor: string (nullable = true)\n",
      " |-- Departamento Proveedor: string (nullable = true)\n",
      " |-- Ciudad Proveedor: string (nullable = true)\n",
      " |-- Fecha Adjudicacion: string (nullable = true)\n",
      " |-- Valor Total Adjudicacion: string (nullable = true)\n",
      " |-- Nombre del Adjudicador: string (nullable = true)\n",
      " |-- Nombre del Proveedor Adjudicado: string (nullable = true)\n",
      " |-- NIT del Proveedor Adjudicado: string (nullable = true)\n",
      " |-- Codigo Principal de Categoria: string (nullable = true)\n",
      " |-- Estado de Apertura del Proceso: string (nullable = true)\n",
      " |-- Tipo de Contrato: string (nullable = true)\n",
      " |-- Subtipo de Contrato: string (nullable = true)\n",
      " |-- Categorias Adicionales: string (nullable = true)\n",
      " |-- URLProceso: string (nullable = true)\n",
      " |-- Codigo Entidad: string (nullable = true)\n",
      " |-- Estado Resumen: string (nullable = true)\n",
      "\n"
     ]
    }
   ],
   "source": [
    "data01.printSchema()"
   ]
  },
  {
   "cell_type": "code",
   "execution_count": 63,
   "id": "8c476a46-36d6-4313-a2b6-9d80648be872",
   "metadata": {},
   "outputs": [],
   "source": [
    "try: \n",
    "    data02 = data01 \\\n",
    "        .withColumnRenamed(\"Nit Entidad\", \"NitEntidad\") \\\n",
    "        .withColumnRenamed(\"Departamento Entidad\", \"DepartamentoEntidad\") \\\n",
    "        .withColumnRenamed(\"Ciudad Entidad\", \"CiudadEntidad\") \\\n",
    "        .withColumnRenamed(\"OrdenEntidad\", \"OrdenEntidad\") \\\n",
    "        .withColumnRenamed(\"Entidad Centralizada\", \"EntidadCentralizada\") \\\n",
    "        .withColumnRenamed(\"ID del Proceso\", \"IDdelProceso\") \\\n",
    "        .withColumnRenamed(\"Referencia del Proceso\", \"ReferenciadelProceso\") \\\n",
    "        .withColumnRenamed(\"PCI\", \"PCI\") \\\n",
    "        .withColumnRenamed(\"ID del Portafolio\", \"IDdelPortafolio\") \\\n",
    "        .withColumnRenamed(\"Nombre del Procedimiento\", \"NombredelProcedimiento\") \\\n",
    "        .withColumnRenamed(\"Descripción del Procedimiento\", \"DescripciondelProcedimiento\") \\\n",
    "        .withColumnRenamed(\"Fase\", \"Fase\") \\\n",
    "        .withColumnRenamed(\"Fecha de Publicacion del Proceso\", \"FechadePublicaciondelProceso\") \\\n",
    "        .withColumnRenamed(\"Fecha de Ultima Publicación\", \"FechadeUltimaPublicacion\") \\\n",
    "        .withColumnRenamed(\"Fecha de Publicacion (Fase Planeacion Precalificacion)\", \"FechadePubFasePlanPreca\") \\\n",
    "        .withColumnRenamed(\"Fecha de Publicacion (Fase Seleccion Precalificacion)\", \"FechadePubFaseSelePreca\") \\\n",
    "        .withColumnRenamed(\"Fecha de Publicacion (Manifestacion de Interes)\", \"FechadePubManifdeInt\") \\\n",
    "        .withColumnRenamed(\"Fecha de Publicacion (Fase Borrador)\", \"FechadePublicacionFaseBorrador\") \\\n",
    "        .withColumnRenamed(\"Fecha de Publicacion (Fase Seleccion)\", \"FechadePublicacionFaseSeleccion\") \\\n",
    "        .withColumnRenamed(\"Precio Base\", \"PrecioBase\") \\\n",
    "        .withColumnRenamed(\"Modalidad de Contratacion\", \"ModalidaddeContratacion\") \\\n",
    "        .withColumnRenamed(\"Justificación Modalidad de Contratación\", \"JustificacionModalidaddeContratacion\") \\\n",
    "        .withColumnRenamed(\"Duracion\", \"Duracion\") \\\n",
    "        .withColumnRenamed(\"Unidad de Duracion\", \"UnidaddeDuracion\") \\\n",
    "        .withColumnRenamed(\"Fecha de Recepcion de Respuestas\", \"FechadeRecepciondeRespuestas\") \\\n",
    "        .withColumnRenamed(\"Fecha de Apertura de Respuesta\", \"FechadeAperturadeRespuesta\") \\\n",
    "        .withColumnRenamed(\"Fecha de Apertura Efectiva\", \"FechadeAperturaEfectiva\") \\\n",
    "        .withColumnRenamed(\"Ciudad de la Unidad de Contratación\", \"CiudaddelaUnidaddeContratacion\") \\\n",
    "        .withColumnRenamed(\"Nombre de la Unidad de Contratación\", \"NombredelaUnidaddeContratacion\") \\\n",
    "        .withColumnRenamed(\"Proveedores Invitados\", \"ProveedoresInvitados\") \\\n",
    "        .withColumnRenamed(\"Proveedores con Invitacion Directa\", \"ProveedoresconInvitacionDirecta\") \\\n",
    "        .withColumnRenamed(\"Visualizaciones del Procedimiento\", \"VisualizacionesdelProcedimiento\") \\\n",
    "        .withColumnRenamed(\"Proveedores que Manifestaron Interes\", \"ProveedoresqueManifestaronInteres\") \\\n",
    "        .withColumnRenamed(\"Respuestas al Procedimiento\", \"RespuestasalProcedimiento\") \\\n",
    "        .withColumnRenamed(\"Respuestas Externas\", \"RespuestasExternas\") \\\n",
    "        .withColumnRenamed(\"Conteo de Respuestas a Ofertas\", \"ConteodeRespuestasaOfertas\") \\\n",
    "        .withColumnRenamed(\"Proveedores Unicos con Respuestas\", \"ProveedoresUnicosconRespuestas\") \\\n",
    "        .withColumnRenamed(\"Numero de Lotes\", \"NumerodeLotes\") \\\n",
    "        .withColumnRenamed(\"Estado del Procedimiento\", \"EstadodelProcedimiento\") \\\n",
    "        .withColumnRenamed(\"ID Estado del Procedimiento\", \"IDEstadodelProcedimiento\") \\\n",
    "        .withColumnRenamed(\"Adjudicado\", \"Adjudicado\") \\\n",
    "        .withColumnRenamed(\"ID Adjudicacion\", \"IDAdjudicacion\") \\\n",
    "        .withColumnRenamed(\"CodigoProveedor\", \"CodigoProveedor\") \\\n",
    "        .withColumnRenamed(\"Departamento Proveedor\", \"DepartamentoProveedor\") \\\n",
    "        .withColumnRenamed(\"Ciudad Proveedor\", \"CiudadProveedor\") \\\n",
    "        .withColumnRenamed(\"Fecha Adjudicacion\", \"FechaAdjudicacion\") \\\n",
    "        .withColumnRenamed(\"Valor Total Adjudicacion\", \"ValorTotalAdjudicacion\") \\\n",
    "        .withColumnRenamed(\"Nombre del Adjudicador\", \"NombredelAdjudicador\") \\\n",
    "        .withColumnRenamed(\"Nombre del Proveedor Adjudicado\", \"NombredelProveedorAdjudicado\") \\\n",
    "        .withColumnRenamed(\"NIT del Proveedor Adjudicado\", \"NITdelProveedorAdjudicado\") \\\n",
    "        .withColumnRenamed(\"Codigo Principal de Categoria\", \"CodigoPrincipaldeCategoria\") \\\n",
    "        .withColumnRenamed(\"Estado de Apertura del Proceso\", \"EstadodeAperturadelProceso\") \\\n",
    "        .withColumnRenamed(\"Tipo de Contrato\", \"TipodeContrato\") \\\n",
    "        .withColumnRenamed(\"Subtipo de Contrato\", \"SubtipodeContrato\") \\\n",
    "        .withColumnRenamed(\"Categorias Adicionales\", \"CategoriasAdicionales\") \\\n",
    "        .withColumnRenamed(\"URLProceso\", \"URLProceso\") \\\n",
    "        .withColumnRenamed(\"Codigo Entidad\", \"CodigoEntidad\") \\\n",
    "        .withColumnRenamed(\"Estado Resumen\", \"EstadoResumen\")\n",
    "except Exception as e:\n",
    "    logging.error(\"Error al renombrar columnas: {}\".format(str(e)))\n",
    "    raise"
   ]
  },
  {
   "cell_type": "code",
   "execution_count": 64,
   "id": "360a5ab6-06e9-424b-917d-2caef5141495",
   "metadata": {},
   "outputs": [],
   "source": [
    "#columnas_renombradas = {\"Nit Entidad\": \"Nit_Entidad\", \"Departamento Entidad\": \"Departamento_Entidad\"}\n",
    "\n",
    "#data02 = data01\n",
    "#for old_name, new_name in columnas_renombradas.items():\n",
    "#    data02 = data02.withColumnRenamed(old_name, new_name)\n",
    "\n",
    "#data02.show()  # Optional: View the renamed DataFrame"
   ]
  },
  {
   "cell_type": "code",
   "execution_count": 65,
   "id": "4be34704-67e2-43e2-bb8f-16ca87615c28",
   "metadata": {},
   "outputs": [
    {
     "name": "stdout",
     "output_type": "stream",
     "text": [
      "root\n",
      " |-- Entidad: string (nullable = true)\n",
      " |-- NitEntidad: string (nullable = true)\n",
      " |-- DepartamentoEntidad: string (nullable = true)\n",
      " |-- CiudadEntidad: string (nullable = true)\n",
      " |-- OrdenEntidad: string (nullable = true)\n",
      " |-- EntidadCentralizada: string (nullable = true)\n",
      " |-- IDdelProceso: string (nullable = true)\n",
      " |-- ReferenciadelProceso: string (nullable = true)\n",
      " |-- PCI: string (nullable = true)\n",
      " |-- IDdelPortafolio: string (nullable = true)\n",
      " |-- NombredelProcedimiento: string (nullable = true)\n",
      " |-- DescripciondelProcedimiento: string (nullable = true)\n",
      " |-- Fase: string (nullable = true)\n",
      " |-- FechadePublicaciondelProceso: string (nullable = true)\n",
      " |-- FechadeUltimaPublicacion: string (nullable = true)\n",
      " |-- FechadePubFasePlanPreca: string (nullable = true)\n",
      " |-- FechadePubFaseSelePreca: string (nullable = true)\n",
      " |-- FechadePubManifdeInt: string (nullable = true)\n",
      " |-- FechadePublicacionFaseBorrador: string (nullable = true)\n",
      " |-- FechadePublicacionFaseSeleccion: string (nullable = true)\n",
      " |-- PrecioBase: string (nullable = true)\n",
      " |-- ModalidaddeContratacion: string (nullable = true)\n",
      " |-- JustificacionModalidaddeContratacion: string (nullable = true)\n",
      " |-- Duracion: string (nullable = true)\n",
      " |-- UnidaddeDuracion: string (nullable = true)\n",
      " |-- FechadeRecepciondeRespuestas: string (nullable = true)\n",
      " |-- FechadeAperturadeRespuesta: string (nullable = true)\n",
      " |-- FechadeAperturaEfectiva: string (nullable = true)\n",
      " |-- CiudaddelaUnidaddeContratacion: string (nullable = true)\n",
      " |-- NombredelaUnidaddeContratacion: string (nullable = true)\n",
      " |-- ProveedoresInvitados: string (nullable = true)\n",
      " |-- ProveedoresconInvitacionDirecta: string (nullable = true)\n",
      " |-- VisualizacionesdelProcedimiento: string (nullable = true)\n",
      " |-- ProveedoresqueManifestaronInteres: string (nullable = true)\n",
      " |-- RespuestasalProcedimiento: string (nullable = true)\n",
      " |-- RespuestasExternas: string (nullable = true)\n",
      " |-- ConteodeRespuestasaOfertas: string (nullable = true)\n",
      " |-- ProveedoresUnicosconRespuestas: string (nullable = true)\n",
      " |-- NumerodeLotes: string (nullable = true)\n",
      " |-- EstadodelProcedimiento: string (nullable = true)\n",
      " |-- IDEstadodelProcedimiento: string (nullable = true)\n",
      " |-- Adjudicado: string (nullable = true)\n",
      " |-- IDAdjudicacion: string (nullable = true)\n",
      " |-- CodigoProveedor: string (nullable = true)\n",
      " |-- DepartamentoProveedor: string (nullable = true)\n",
      " |-- CiudadProveedor: string (nullable = true)\n",
      " |-- FechaAdjudicacion: string (nullable = true)\n",
      " |-- ValorTotalAdjudicacion: string (nullable = true)\n",
      " |-- NombredelAdjudicador: string (nullable = true)\n",
      " |-- NombredelProveedorAdjudicado: string (nullable = true)\n",
      " |-- NITdelProveedorAdjudicado: string (nullable = true)\n",
      " |-- CodigoPrincipaldeCategoria: string (nullable = true)\n",
      " |-- EstadodeAperturadelProceso: string (nullable = true)\n",
      " |-- TipodeContrato: string (nullable = true)\n",
      " |-- SubtipodeContrato: string (nullable = true)\n",
      " |-- CategoriasAdicionales: string (nullable = true)\n",
      " |-- URLProceso: string (nullable = true)\n",
      " |-- CodigoEntidad: string (nullable = true)\n",
      " |-- EstadoResumen: string (nullable = true)\n",
      "\n"
     ]
    }
   ],
   "source": [
    "data02.printSchema()"
   ]
  },
  {
   "cell_type": "code",
   "execution_count": 70,
   "id": "9dd5abd3-36db-4d8b-a252-6e7ab7092300",
   "metadata": {},
   "outputs": [],
   "source": [
    "ruta01deltalake01 = \"/home/app/datalake/1bronze/SECOPIIProcesosContratacion\""
   ]
  },
  {
   "cell_type": "code",
   "execution_count": 71,
   "id": "94cf540c-9b25-4974-9b1a-cea6d2057969",
   "metadata": {},
   "outputs": [
    {
     "name": "stderr",
     "output_type": "stream",
     "text": [
      "                                                                                \r"
     ]
    }
   ],
   "source": [
    "try:\n",
    "    data02.write.format(\"delta\").mode(\"overwrite\").save(ruta01deltalake01)\n",
    "    logging.info(\"Datos guardados correctamente en Delta Lake.\")\n",
    "except Exception as e:\n",
    "    logging.error(\"Error al guardar datos en Delta Lake: {}\".format(str(e)))\n",
    "    raise"
   ]
  },
  {
   "cell_type": "code",
   "execution_count": 68,
   "id": "a5af9c93-29a8-4eca-b9e6-22fe5747e233",
   "metadata": {
    "scrolled": true
   },
   "outputs": [],
   "source": [
    "# Escribe el DataFrame en Delta Lake\n",
    "#data01.write.format(\"delta\").mode(\"overwrite\").save(ruta01deltalake01)"
   ]
  },
  {
   "cell_type": "code",
   "execution_count": 72,
   "id": "e77e0214-8700-4e6e-9aca-a54d6ed8d0b3",
   "metadata": {},
   "outputs": [],
   "source": [
    "data03 = spark.read.format(\"delta\").load(ruta01deltalake01)"
   ]
  },
  {
   "cell_type": "code",
   "execution_count": 73,
   "id": "69a4abf7-5799-44a0-a94b-1800620a4b95",
   "metadata": {},
   "outputs": [
    {
     "name": "stderr",
     "output_type": "stream",
     "text": [
      "                                                                                \r"
     ]
    },
    {
     "data": {
      "text/plain": [
       "6434461"
      ]
     },
     "execution_count": 73,
     "metadata": {},
     "output_type": "execute_result"
    }
   ],
   "source": [
    "data03.count()"
   ]
  },
  {
   "cell_type": "code",
   "execution_count": 74,
   "id": "f774b006-e419-47fe-802a-05b08854c3b3",
   "metadata": {},
   "outputs": [
    {
     "name": "stdout",
     "output_type": "stream",
     "text": [
      "root\n",
      " |-- Entidad: string (nullable = true)\n",
      " |-- NitEntidad: string (nullable = true)\n",
      " |-- DepartamentoEntidad: string (nullable = true)\n",
      " |-- CiudadEntidad: string (nullable = true)\n",
      " |-- OrdenEntidad: string (nullable = true)\n",
      " |-- EntidadCentralizada: string (nullable = true)\n",
      " |-- IDdelProceso: string (nullable = true)\n",
      " |-- ReferenciadelProceso: string (nullable = true)\n",
      " |-- PCI: string (nullable = true)\n",
      " |-- IDdelPortafolio: string (nullable = true)\n",
      " |-- NombredelProcedimiento: string (nullable = true)\n",
      " |-- DescripciondelProcedimiento: string (nullable = true)\n",
      " |-- Fase: string (nullable = true)\n",
      " |-- FechadePublicaciondelProceso: string (nullable = true)\n",
      " |-- FechadeUltimaPublicacion: string (nullable = true)\n",
      " |-- FechadePubFasePlanPreca: string (nullable = true)\n",
      " |-- FechadePubFaseSelePreca: string (nullable = true)\n",
      " |-- FechadePubManifdeInt: string (nullable = true)\n",
      " |-- FechadePublicacionFaseBorrador: string (nullable = true)\n",
      " |-- FechadePublicacionFaseSeleccion: string (nullable = true)\n",
      " |-- PrecioBase: string (nullable = true)\n",
      " |-- ModalidaddeContratacion: string (nullable = true)\n",
      " |-- JustificacionModalidaddeContratacion: string (nullable = true)\n",
      " |-- Duracion: string (nullable = true)\n",
      " |-- UnidaddeDuracion: string (nullable = true)\n",
      " |-- FechadeRecepciondeRespuestas: string (nullable = true)\n",
      " |-- FechadeAperturadeRespuesta: string (nullable = true)\n",
      " |-- FechadeAperturaEfectiva: string (nullable = true)\n",
      " |-- CiudaddelaUnidaddeContratacion: string (nullable = true)\n",
      " |-- NombredelaUnidaddeContratacion: string (nullable = true)\n",
      " |-- ProveedoresInvitados: string (nullable = true)\n",
      " |-- ProveedoresconInvitacionDirecta: string (nullable = true)\n",
      " |-- VisualizacionesdelProcedimiento: string (nullable = true)\n",
      " |-- ProveedoresqueManifestaronInteres: string (nullable = true)\n",
      " |-- RespuestasalProcedimiento: string (nullable = true)\n",
      " |-- RespuestasExternas: string (nullable = true)\n",
      " |-- ConteodeRespuestasaOfertas: string (nullable = true)\n",
      " |-- ProveedoresUnicosconRespuestas: string (nullable = true)\n",
      " |-- NumerodeLotes: string (nullable = true)\n",
      " |-- EstadodelProcedimiento: string (nullable = true)\n",
      " |-- IDEstadodelProcedimiento: string (nullable = true)\n",
      " |-- Adjudicado: string (nullable = true)\n",
      " |-- IDAdjudicacion: string (nullable = true)\n",
      " |-- CodigoProveedor: string (nullable = true)\n",
      " |-- DepartamentoProveedor: string (nullable = true)\n",
      " |-- CiudadProveedor: string (nullable = true)\n",
      " |-- FechaAdjudicacion: string (nullable = true)\n",
      " |-- ValorTotalAdjudicacion: string (nullable = true)\n",
      " |-- NombredelAdjudicador: string (nullable = true)\n",
      " |-- NombredelProveedorAdjudicado: string (nullable = true)\n",
      " |-- NITdelProveedorAdjudicado: string (nullable = true)\n",
      " |-- CodigoPrincipaldeCategoria: string (nullable = true)\n",
      " |-- EstadodeAperturadelProceso: string (nullable = true)\n",
      " |-- TipodeContrato: string (nullable = true)\n",
      " |-- SubtipodeContrato: string (nullable = true)\n",
      " |-- CategoriasAdicionales: string (nullable = true)\n",
      " |-- URLProceso: string (nullable = true)\n",
      " |-- CodigoEntidad: string (nullable = true)\n",
      " |-- EstadoResumen: string (nullable = true)\n",
      "\n"
     ]
    }
   ],
   "source": [
    "data03.printSchema()"
   ]
  },
  {
   "cell_type": "code",
   "execution_count": 78,
   "id": "a4b40e43-7637-4fd9-92a1-124ac9d575c5",
   "metadata": {},
   "outputs": [
    {
     "name": "stdout",
     "output_type": "stream",
     "text": [
      "+-------+--------------------+------+--------+---------+--------------------+----+--------+---------+-----------+--------------+-------------+--------------------+------------+--------------------+\n",
      "|version|           timestamp|userId|userName|operation| operationParameters| job|notebook|clusterId|readVersion|isolationLevel|isBlindAppend|    operationMetrics|userMetadata|          engineInfo|\n",
      "+-------+--------------------+------+--------+---------+--------------------+----+--------+---------+-----------+--------------+-------------+--------------------+------------+--------------------+\n",
      "|      0|2024-03-22 22:50:...|  NULL|    NULL|    WRITE|{mode -> Overwrit...|NULL|    NULL|     NULL|       NULL|  Serializable|        false|{numFiles -> 42, ...|        NULL|Apache-Spark/3.5....|\n",
      "+-------+--------------------+------+--------+---------+--------------------+----+--------+---------+-----------+--------------+-------------+--------------------+------------+--------------------+\n",
      "\n"
     ]
    }
   ],
   "source": [
    "# Obtener el historial de versiones\n",
    "delta_table = DeltaTable.forPath(spark, ruta01deltalake01)\n",
    "version_history = delta_table.history()\n",
    "\n",
    "# Mostrar el historial de versiones\n",
    "version_history.show()"
   ]
  },
  {
   "cell_type": "code",
   "execution_count": 76,
   "id": "342a4edc-bac7-4d90-8316-81ed37929e77",
   "metadata": {},
   "outputs": [],
   "source": [
    "data01agrupar01 = data03.groupBy(\"TipodeContrato\")\n",
    "data01cantidad01 = data01agrupar01.count()\n",
    "data01cantidad01 = data01cantidad01.orderBy(desc(\"count\"))"
   ]
  },
  {
   "cell_type": "code",
   "execution_count": 77,
   "id": "3aa9030b-77f6-4dd7-917e-cf518364c513",
   "metadata": {},
   "outputs": [
    {
     "name": "stderr",
     "output_type": "stream",
     "text": [
      "[Stage 28:================================>                        (8 + 4) / 14]\r"
     ]
    },
    {
     "name": "stdout",
     "output_type": "stream",
     "text": [
      "+--------------------------+-------+\n",
      "|TipodeContrato            |count  |\n",
      "+--------------------------+-------+\n",
      "|Prestación de servicios   |3078131|\n",
      "|NULL                      |1514017|\n",
      "|Decreto 092 de 2017       |519652 |\n",
      "|Suministros               |403405 |\n",
      "|Otro                      |233554 |\n",
      "|Compraventa               |230974 |\n",
      "|Acuerdo Marco de Precios  |159927 |\n",
      "|No                        |91964  |\n",
      "|Obra                      |82271  |\n",
      "|Arrendamiento de inmuebles|30273  |\n",
      "|Interventoría             |20095  |\n",
      "|Consultoría               |16725  |\n",
      "|Seguros                   |16706  |\n",
      "|No Especificado           |12479  |\n",
      "|Comodato                  |8959   |\n",
      "|Arrendamiento de muebles  |4545   |\n",
      "|Venta muebles             |2831   |\n",
      "|Servicios financieros     |2512   |\n",
      "|Concesión                 |1297   |\n",
      "|Asociación Público Privada|1135   |\n",
      "+--------------------------+-------+\n",
      "only showing top 20 rows\n",
      "\n"
     ]
    },
    {
     "name": "stderr",
     "output_type": "stream",
     "text": [
      "                                                                                \r"
     ]
    }
   ],
   "source": [
    "data01cantidad01.show(truncate=False)"
   ]
  },
  {
   "cell_type": "code",
   "execution_count": null,
   "id": "bba4988e-88b7-4801-ad91-9678f899e49b",
   "metadata": {},
   "outputs": [],
   "source": []
  }
 ],
 "metadata": {
  "kernelspec": {
   "display_name": "Python 3 (ipykernel)",
   "language": "python",
   "name": "python3"
  },
  "language_info": {
   "codemirror_mode": {
    "name": "ipython",
    "version": 3
   },
   "file_extension": ".py",
   "mimetype": "text/x-python",
   "name": "python",
   "nbconvert_exporter": "python",
   "pygments_lexer": "ipython3",
   "version": "3.12.2"
  }
 },
 "nbformat": 4,
 "nbformat_minor": 5
}
