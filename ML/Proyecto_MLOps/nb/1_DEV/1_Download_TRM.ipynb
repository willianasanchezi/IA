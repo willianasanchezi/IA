{
 "cells": [
  {
   "cell_type": "code",
   "execution_count": 1,
   "id": "467302e0-a141-42c4-86f5-db5087b8e586",
   "metadata": {},
   "outputs": [
    {
     "name": "stdout",
     "output_type": "stream",
     "text": [
      "\n"
     ]
    }
   ],
   "source": [
    "\"\"\"\n",
    "https://dev.socrata.com/foundry/www.datos.gov.co/ceyp-9c7c\n",
    "https://www.datos.gov.co/en/Econom-a-y-Finanzas/TRM/ceyp-9c7c/about_data\n",
    "https://www.banrep.gov.co/es/transparencia/datos-abiertos-del-banco-0\n",
    "https://dev.socrata.com/foundry/www.datos.gov.co/ceyp-9c7c\n",
    "https://www.datos.gov.co/resource/ceyp-9c7c.json?vigenciadesde=1991-12-02T00:00:00.000\n",
    "https://www.datos.gov.co/resource/ceyp-9c7c.json?vigenciadesde=2024-11-15T00:00:00.000\n",
    "\"\"\"\n",
    "print(\"\")"
   ]
  },
  {
   "cell_type": "code",
   "execution_count": 2,
   "id": "bf141ea6-c513-464d-a383-68da5cef02c1",
   "metadata": {
    "scrolled": true
   },
   "outputs": [],
   "source": [
    "#!pip install pandas pyarrow"
   ]
  },
  {
   "cell_type": "code",
   "execution_count": 3,
   "id": "c527f778-6287-4115-ade9-747d7dfb32f0",
   "metadata": {
    "scrolled": true
   },
   "outputs": [
    {
     "name": "stdout",
     "output_type": "stream",
     "text": [
      "Datos guardados en: datos_extraidos.parquet\n"
     ]
    }
   ],
   "source": [
    "import requests\n",
    "import pandas as pd\n",
    "\n",
    "# URL de la API\n",
    "url = \"https://www.datos.gov.co/resource/ceyp-9c7c.json?vigenciadesde=2024-11-21T00:00:00.000\"\n",
    "\n",
    "# Solicitar los datos de la URL\n",
    "response = requests.get(url)\n",
    "if response.status_code == 200:\n",
    "    # Extraer el JSON\n",
    "    data = response.json()\n",
    "\n",
    "    # Convertir los datos relevantes en un DataFrame\n",
    "    df = pd.DataFrame(data)\n",
    "\n",
    "    # Asegurarnos de que las columnas tengan el formato correcto\n",
    "    df[\"valor\"] = pd.to_numeric(df[\"valor\"], errors=\"coerce\")\n",
    "    df[\"vigenciadesde\"] = pd.to_datetime(df[\"vigenciadesde\"], errors=\"coerce\")\n",
    "    df[\"vigenciahasta\"] = pd.to_datetime(df[\"vigenciahasta\"], errors=\"coerce\")\n",
    "\n",
    "    # Guardar como Parquet\n",
    "    parquet_path = \"datos_extraidos.parquet\"\n",
    "    df.to_parquet(parquet_path, engine=\"pyarrow\")\n",
    "    print(f\"Datos guardados en: {parquet_path}\")\n",
    "else:\n",
    "    print(f\"Error al acceder a la URL: {response.status_code}\")\n"
   ]
  },
  {
   "cell_type": "code",
   "execution_count": 4,
   "id": "e54c1564-b2bb-4a3e-97cd-b9d5f6de31d2",
   "metadata": {},
   "outputs": [
    {
     "name": "stdout",
     "output_type": "stream",
     "text": [
      "(1, 3)\n"
     ]
    },
    {
     "data": {
      "text/html": [
       "<div>\n",
       "<style scoped>\n",
       "    .dataframe tbody tr th:only-of-type {\n",
       "        vertical-align: middle;\n",
       "    }\n",
       "\n",
       "    .dataframe tbody tr th {\n",
       "        vertical-align: top;\n",
       "    }\n",
       "\n",
       "    .dataframe thead th {\n",
       "        text-align: right;\n",
       "    }\n",
       "</style>\n",
       "<table border=\"1\" class=\"dataframe\">\n",
       "  <thead>\n",
       "    <tr style=\"text-align: right;\">\n",
       "      <th></th>\n",
       "      <th>valor</th>\n",
       "      <th>vigenciadesde</th>\n",
       "      <th>vigenciahasta</th>\n",
       "    </tr>\n",
       "  </thead>\n",
       "  <tbody>\n",
       "    <tr>\n",
       "      <th>0</th>\n",
       "      <td>4414.06</td>\n",
       "      <td>2024-11-21</td>\n",
       "      <td>2024-11-21</td>\n",
       "    </tr>\n",
       "  </tbody>\n",
       "</table>\n",
       "</div>"
      ],
      "text/plain": [
       "     valor vigenciadesde vigenciahasta\n",
       "0  4414.06    2024-11-21    2024-11-21"
      ]
     },
     "execution_count": 4,
     "metadata": {},
     "output_type": "execute_result"
    }
   ],
   "source": [
    "data01 = pd.read_parquet(parquet_path )\n",
    "print(data01.shape)\n",
    "data01.head()"
   ]
  },
  {
   "cell_type": "code",
   "execution_count": null,
   "id": "9d185c4e-369a-4fd2-9489-98e8c8ae1b29",
   "metadata": {},
   "outputs": [],
   "source": []
  }
 ],
 "metadata": {
  "kernelspec": {
   "display_name": "Python 3 (ipykernel)",
   "language": "python",
   "name": "python3"
  },
  "language_info": {
   "codemirror_mode": {
    "name": "ipython",
    "version": 3
   },
   "file_extension": ".py",
   "mimetype": "text/x-python",
   "name": "python",
   "nbconvert_exporter": "python",
   "pygments_lexer": "ipython3",
   "version": "3.10.16"
  }
 },
 "nbformat": 4,
 "nbformat_minor": 5
}
