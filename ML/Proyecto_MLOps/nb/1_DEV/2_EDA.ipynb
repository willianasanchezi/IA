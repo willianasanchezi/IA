{
 "cells": [
  {
   "cell_type": "code",
   "execution_count": 3,
   "id": "b225d939-d8c5-42ea-ac09-7dc9237f57ee",
   "metadata": {},
   "outputs": [
    {
     "name": "stdout",
     "output_type": "stream",
     "text": [
      "historico_dolar.xlsx\n"
     ]
    }
   ],
   "source": [
    "!ls ../../data/1_bronce"
   ]
  },
  {
   "cell_type": "code",
   "execution_count": 4,
   "id": "262c6f5b-16e1-40ca-815a-a0234a4e3c4d",
   "metadata": {},
   "outputs": [],
   "source": [
    "import pandas as pd\n",
    "\n",
    "#from prophet import Prophet"
   ]
  },
  {
   "cell_type": "code",
   "execution_count": 7,
   "id": "df9aa945-478b-4937-9dd5-24100c99e8b2",
   "metadata": {},
   "outputs": [],
   "source": [
    "archivo01 = \"../../data/1_bronce/historico_dolar.xlsx\""
   ]
  },
  {
   "cell_type": "code",
   "execution_count": 8,
   "id": "93bf6c06-8f23-40a0-863d-932de5dae78f",
   "metadata": {
    "scrolled": true
   },
   "outputs": [
    {
     "data": {
      "text/plain": [
       "(12033, 2)"
      ]
     },
     "execution_count": 8,
     "metadata": {},
     "output_type": "execute_result"
    }
   ],
   "source": [
    "data01 = pd.read_excel(archivo01, engine=\"openpyxl\")\n",
    "data01.shape"
   ]
  },
  {
   "cell_type": "code",
   "execution_count": 9,
   "id": "1a849cce-7e05-4fd7-b93a-3260bc3ba3d3",
   "metadata": {},
   "outputs": [
    {
     "data": {
      "text/plain": [
       "fecha    datetime64[ns]\n",
       "valor           float64\n",
       "dtype: object"
      ]
     },
     "execution_count": 9,
     "metadata": {},
     "output_type": "execute_result"
    }
   ],
   "source": [
    "data01.dtypes"
   ]
  },
  {
   "cell_type": "code",
   "execution_count": 10,
   "id": "7aadef29-8bbf-4b90-a346-7ec612151183",
   "metadata": {},
   "outputs": [
    {
     "data": {
      "text/html": [
       "<div>\n",
       "<style scoped>\n",
       "    .dataframe tbody tr th:only-of-type {\n",
       "        vertical-align: middle;\n",
       "    }\n",
       "\n",
       "    .dataframe tbody tr th {\n",
       "        vertical-align: top;\n",
       "    }\n",
       "\n",
       "    .dataframe thead th {\n",
       "        text-align: right;\n",
       "    }\n",
       "</style>\n",
       "<table border=\"1\" class=\"dataframe\">\n",
       "  <thead>\n",
       "    <tr style=\"text-align: right;\">\n",
       "      <th></th>\n",
       "      <th>fecha</th>\n",
       "      <th>valor</th>\n",
       "    </tr>\n",
       "  </thead>\n",
       "  <tbody>\n",
       "    <tr>\n",
       "      <th>0</th>\n",
       "      <td>1991-11-27</td>\n",
       "      <td>693.32</td>\n",
       "    </tr>\n",
       "  </tbody>\n",
       "</table>\n",
       "</div>"
      ],
      "text/plain": [
       "       fecha   valor\n",
       "0 1991-11-27  693.32"
      ]
     },
     "execution_count": 10,
     "metadata": {},
     "output_type": "execute_result"
    }
   ],
   "source": [
    "data01.head(1)"
   ]
  },
  {
   "cell_type": "code",
   "execution_count": null,
   "id": "6075ab10-9759-4198-be8a-ed408896e164",
   "metadata": {},
   "outputs": [],
   "source": []
  }
 ],
 "metadata": {
  "kernelspec": {
   "display_name": "Python 3 (ipykernel)",
   "language": "python",
   "name": "python3"
  },
  "language_info": {
   "codemirror_mode": {
    "name": "ipython",
    "version": 3
   },
   "file_extension": ".py",
   "mimetype": "text/x-python",
   "name": "python",
   "nbconvert_exporter": "python",
   "pygments_lexer": "ipython3",
   "version": "3.10.16"
  }
 },
 "nbformat": 4,
 "nbformat_minor": 5
}
